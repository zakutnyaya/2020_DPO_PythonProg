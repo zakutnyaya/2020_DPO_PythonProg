{
 "cells": [
  {
   "cell_type": "markdown",
   "metadata": {},
   "source": [
    "## Срезы"
   ]
  },
  {
   "cell_type": "code",
   "execution_count": 1,
   "metadata": {
    "collapsed": true
   },
   "outputs": [],
   "source": [
    "s = 'text'\n",
    "l = [2,4,5, 'ab']\n",
    "t = (2, 'ab', 3)"
   ]
  },
  {
   "cell_type": "code",
   "execution_count": 2,
   "metadata": {},
   "outputs": [
    {
     "name": "stdout",
     "output_type": "stream",
     "text": [
      "t 2 2\n"
     ]
    }
   ],
   "source": [
    "print(s[0], l[0], t[0])"
   ]
  },
  {
   "cell_type": "code",
   "execution_count": 3,
   "metadata": {},
   "outputs": [
    {
     "name": "stdout",
     "output_type": "stream",
     "text": [
      "t 2 2\n"
     ]
    }
   ],
   "source": [
    "print(s[-1], l[0], t[0])"
   ]
  },
  {
   "cell_type": "code",
   "execution_count": 4,
   "metadata": {},
   "outputs": [
    {
     "data": {
      "text/plain": [
       "'t'"
      ]
     },
     "execution_count": 4,
     "metadata": {},
     "output_type": "execute_result"
    }
   ],
   "source": [
    "s[len(s)-1] # это объяснение для элемента [-1] -> s[-1]"
   ]
  },
  {
   "cell_type": "code",
   "execution_count": 7,
   "metadata": {},
   "outputs": [
    {
     "name": "stdout",
     "output_type": "stream",
     "text": [
      "text\n"
     ]
    },
    {
     "data": {
      "text/plain": [
       "'te'"
      ]
     },
     "execution_count": 7,
     "metadata": {},
     "output_type": "execute_result"
    }
   ],
   "source": [
    "print(s)\n",
    "s[0:2] # первый символ включительно, второй нет"
   ]
  },
  {
   "cell_type": "code",
   "execution_count": 8,
   "metadata": {},
   "outputs": [
    {
     "name": "stdout",
     "output_type": "stream",
     "text": [
      "[2, 4, 5, 'ab']\n",
      "[2, 4, 5]\n"
     ]
    }
   ],
   "source": [
    "print(l)\n",
    "print(l[0:3])"
   ]
  },
  {
   "cell_type": "code",
   "execution_count": 10,
   "metadata": {},
   "outputs": [
    {
     "name": "stdout",
     "output_type": "stream",
     "text": [
      "ext\n"
     ]
    }
   ],
   "source": [
    "print(s[1:len(s)])"
   ]
  },
  {
   "cell_type": "code",
   "execution_count": 12,
   "metadata": {},
   "outputs": [
    {
     "name": "stdout",
     "output_type": "stream",
     "text": [
      "tex\n",
      "t\n",
      "text\n"
     ]
    }
   ],
   "source": [
    "print(s[:3])\n",
    "print(s[3:])\n",
    "print(s[:])"
   ]
  },
  {
   "cell_type": "code",
   "execution_count": 14,
   "metadata": {},
   "outputs": [
    {
     "name": "stdout",
     "output_type": "stream",
     "text": [
      "tx\n",
      "tx\n"
     ]
    }
   ],
   "source": [
    "# эти записи аналогичны. третий аргумент - это шаг\n",
    "print(s[::2])\n",
    "print(s[0:len(s):2])"
   ]
  },
  {
   "cell_type": "code",
   "execution_count": 18,
   "metadata": {},
   "outputs": [
    {
     "name": "stdout",
     "output_type": "stream",
     "text": [
      "txet\n",
      "te\n"
     ]
    }
   ],
   "source": [
    "# разворот, берем каждый элемент\n",
    "print(s[::-1])\n",
    "# разворот, берем каждый второй эелмент\n",
    "print(s[::-2])"
   ]
  },
  {
   "cell_type": "code",
   "execution_count": 22,
   "metadata": {},
   "outputs": [],
   "source": [
    "text = 'В ВШЭ стартовала новая программа по DS'\n",
    "idx = text.find('ВШЭ') # индекс первого элемента вхождения"
   ]
  },
  {
   "cell_type": "code",
   "execution_count": 24,
   "metadata": {},
   "outputs": [
    {
     "name": "stdout",
     "output_type": "stream",
     "text": [
      "ВШЭ стартовала новая программа по DS\n",
      "ВШЭ стартовала новая программа по DS\n"
     ]
    }
   ],
   "source": [
    "print(text[idx:])\n",
    "print(text[text.find('ВШЭ'):])"
   ]
  },
  {
   "cell_type": "code",
   "execution_count": 25,
   "metadata": {},
   "outputs": [
    {
     "data": {
      "text/plain": [
       "-1"
      ]
     },
     "execution_count": 25,
     "metadata": {},
     "output_type": "execute_result"
    }
   ],
   "source": [
    "# индекс всегда положительный, -1 означает, что ничего не найдено\n",
    "text.find('вшэ')"
   ]
  },
  {
   "cell_type": "code",
   "execution_count": 27,
   "metadata": {},
   "outputs": [
    {
     "data": {
      "text/plain": [
       "'ВШЭ стартовала новая программа по DS'"
      ]
     },
     "execution_count": 27,
     "metadata": {},
     "output_type": "execute_result"
    }
   ],
   "source": [
    "text[text.lower().find('вшэ'):] #  текст первелся в нижний регистр, потом нашли вшэ"
   ]
  },
  {
   "cell_type": "code",
   "execution_count": 50,
   "metadata": {},
   "outputs": [],
   "source": [
    "info = 'iPad 64 GB Цена: 39 000 руб. Скидка: 5%'\n",
    "price = info[info.find('Цена: ')+len('Цена: '):info.find('руб.')-1]"
   ]
  },
  {
   "cell_type": "code",
   "execution_count": 43,
   "metadata": {},
   "outputs": [
    {
     "data": {
      "text/plain": [
       "'39'"
      ]
     },
     "execution_count": 43,
     "metadata": {},
     "output_type": "execute_result"
    }
   ],
   "source": [
    "price[:price.find(' ')]"
   ]
  },
  {
   "cell_type": "code",
   "execution_count": 44,
   "metadata": {},
   "outputs": [
    {
     "data": {
      "text/plain": [
       "'000'"
      ]
     },
     "execution_count": 44,
     "metadata": {},
     "output_type": "execute_result"
    }
   ],
   "source": [
    "price[price.find(' ')+1:]"
   ]
  },
  {
   "cell_type": "code",
   "execution_count": 46,
   "metadata": {},
   "outputs": [],
   "source": [
    "price = int(price[:price.find(' ')] + price[price.find(' ')+1:])"
   ]
  },
  {
   "cell_type": "code",
   "execution_count": 48,
   "metadata": {},
   "outputs": [
    {
     "data": {
      "text/plain": [
       "78000"
      ]
     },
     "execution_count": 48,
     "metadata": {},
     "output_type": "execute_result"
    }
   ],
   "source": [
    "price * 2 "
   ]
  },
  {
   "cell_type": "code",
   "execution_count": 52,
   "metadata": {},
   "outputs": [
    {
     "name": "stdout",
     "output_type": "stream",
     "text": [
      "39 000\n"
     ]
    },
    {
     "data": {
      "text/plain": [
       "5"
      ]
     },
     "execution_count": 52,
     "metadata": {},
     "output_type": "execute_result"
    }
   ],
   "source": [
    "price = info[info.find('Цена: ')+len('Цена: '):info.find('руб.')-1]\n",
    "print(price)\n",
    "price.rfind('0') # первое вхождение с конца"
   ]
  },
  {
   "cell_type": "markdown",
   "metadata": {},
   "source": [
    "## Множества"
   ]
  },
  {
   "cell_type": "code",
   "execution_count": 53,
   "metadata": {
    "collapsed": true
   },
   "outputs": [],
   "source": [
    "# множества содержат уникальные объекты\n",
    "# множества не упорядочены\n",
    "# не можем обратиться к конкретному объекту\n",
    "# множества изменяемы\n",
    "# используем множества, когда хотим найти уникальные элементы \n",
    "# множества эффективнее, чем списки\n",
    "# A & B - пересечение\n",
    "# A | B - объединение\n",
    "# A - B - разность\n",
    "# симметрическая разность"
   ]
  },
  {
   "cell_type": "code",
   "execution_count": 60,
   "metadata": {},
   "outputs": [
    {
     "name": "stdout",
     "output_type": "stream",
     "text": [
      "<class 'dict'>\n",
      "set()\n"
     ]
    }
   ],
   "source": [
    "empty_set = {}\n",
    "empty_set2 = set()\n",
    "print(type(empty_set))\n",
    "print(empty_set2)"
   ]
  },
  {
   "cell_type": "code",
   "execution_count": 62,
   "metadata": {},
   "outputs": [
    {
     "name": "stdout",
     "output_type": "stream",
     "text": [
      "{1, 'cat', 3, 7}\n",
      "{1, 'dog', 3}\n"
     ]
    }
   ],
   "source": [
    "a = set((1, 3, 7, 'cat'))\n",
    "b = set([1,3, 'dog'])\n",
    "print(a)\n",
    "print(b)"
   ]
  },
  {
   "cell_type": "code",
   "execution_count": 64,
   "metadata": {},
   "outputs": [
    {
     "name": "stdout",
     "output_type": "stream",
     "text": [
      "4\n",
      "True\n"
     ]
    }
   ],
   "source": [
    "print(len(a))\n",
    "print('cat' in a)"
   ]
  },
  {
   "cell_type": "code",
   "execution_count": 75,
   "metadata": {},
   "outputs": [
    {
     "name": "stdout",
     "output_type": "stream",
     "text": [
      "{1, 3}\n",
      "2\n",
      "{1, 'cat', 3, 7, 'dog'}\n",
      "{'dog'}\n",
      "{'cat', 7}\n",
      "{'cat', 'dog', 7}\n",
      "{'dog', 'cat', 7}\n",
      "{'dog', 'cat', 7}\n"
     ]
    }
   ],
   "source": [
    "print(a & b)\n",
    "print(len(a & b))\n",
    "print(a | b)\n",
    "print(b - a)\n",
    "print(a - b)\n",
    "# симметриечкая разность\n",
    "print(a ^ b)\n",
    "print((a - b) | (b - a))\n",
    "print((a | b) - (a & b))"
   ]
  },
  {
   "cell_type": "code",
   "execution_count": 77,
   "metadata": {},
   "outputs": [],
   "source": [
    "empty_set2.add('Tanya')\n",
    "empty_set2.add('Dasha')\n",
    "empty_set2.add('Tanya')\n",
    "empty_set2.discard('Tanya')\n",
    "empty_set2.add('Oleg')"
   ]
  },
  {
   "cell_type": "code",
   "execution_count": 79,
   "metadata": {},
   "outputs": [
    {
     "name": "stdout",
     "output_type": "stream",
     "text": [
      "{'Oleg', 'Dasha'}\n"
     ]
    }
   ],
   "source": [
    "print(empty_set2)"
   ]
  },
  {
   "cell_type": "markdown",
   "metadata": {},
   "source": [
    "## Словари"
   ]
  },
  {
   "cell_type": "code",
   "execution_count": 80,
   "metadata": {},
   "outputs": [
    {
     "name": "stdout",
     "output_type": "stream",
     "text": [
      "0 1\n"
     ]
    }
   ],
   "source": [
    "a = [1, 2, 3]\n",
    "print(0, a[0])"
   ]
  },
  {
   "cell_type": "code",
   "execution_count": 81,
   "metadata": {},
   "outputs": [
    {
     "data": {
      "text/plain": [
       "{'Teylor': 2, 'cat': 10, 'i': 100}"
      ]
     },
     "execution_count": 81,
     "metadata": {},
     "output_type": "execute_result"
    }
   ],
   "source": [
    "d1 = {'cat': 10, 'i': 100, 'Teylor': 2}\n",
    "d1"
   ]
  },
  {
   "cell_type": "code",
   "execution_count": 82,
   "metadata": {},
   "outputs": [
    {
     "data": {
      "text/plain": [
       "dict"
      ]
     },
     "execution_count": 82,
     "metadata": {},
     "output_type": "execute_result"
    }
   ],
   "source": [
    "type(d1)"
   ]
  },
  {
   "cell_type": "code",
   "execution_count": 83,
   "metadata": {},
   "outputs": [
    {
     "data": {
      "text/plain": [
       "{'Teylor': 2, 'cat': 10, 'i': 100}"
      ]
     },
     "execution_count": 83,
     "metadata": {},
     "output_type": "execute_result"
    }
   ],
   "source": [
    "d2 = dict(cat=10, i=100, Teylor=2)\n",
    "d2"
   ]
  },
  {
   "cell_type": "code",
   "execution_count": 84,
   "metadata": {},
   "outputs": [
    {
     "data": {
      "text/plain": [
       "True"
      ]
     },
     "execution_count": 84,
     "metadata": {},
     "output_type": "execute_result"
    }
   ],
   "source": [
    "d2 == d1"
   ]
  },
  {
   "cell_type": "code",
   "execution_count": 85,
   "metadata": {},
   "outputs": [
    {
     "data": {
      "text/plain": [
       "{'cat': 1, 'i': 100}"
      ]
     },
     "execution_count": 85,
     "metadata": {},
     "output_type": "execute_result"
    }
   ],
   "source": [
    "d3 = dict((('cat', 1), ('i', 100)))\n",
    "d3"
   ]
  },
  {
   "cell_type": "code",
   "execution_count": 88,
   "metadata": {},
   "outputs": [
    {
     "data": {
      "text/plain": [
       "{'Anna': 10, 'Oleg': 8}"
      ]
     },
     "execution_count": 88,
     "metadata": {},
     "output_type": "execute_result"
    }
   ],
   "source": [
    "# два списка объединяем в словарь\n",
    "name = ['Anna', 'Oleg']\n",
    "marks = [10, 8]\n",
    "d4 = dict(zip(name, marks))\n",
    "d4"
   ]
  },
  {
   "cell_type": "code",
   "execution_count": 89,
   "metadata": {},
   "outputs": [
    {
     "data": {
      "text/plain": [
       "10"
      ]
     },
     "execution_count": 89,
     "metadata": {},
     "output_type": "execute_result"
    }
   ],
   "source": [
    "d4['Anna']"
   ]
  },
  {
   "cell_type": "code",
   "execution_count": 90,
   "metadata": {},
   "outputs": [
    {
     "name": "stdout",
     "output_type": "stream",
     "text": [
      "{'cat': 10, 'i': 100, 'Teylor': 2, 2: 'u'}\n"
     ]
    }
   ],
   "source": [
    "# ключ - это все неизменяемые объекты\n",
    "d1[2] = 'u'\n",
    "print(d1)"
   ]
  },
  {
   "cell_type": "code",
   "execution_count": 91,
   "metadata": {},
   "outputs": [
    {
     "data": {
      "text/plain": [
       "{'cat': 10, 'i': 100, 'Teylor': 2, 2: 'u', (3, 5): ['three', 'five']}"
      ]
     },
     "execution_count": 91,
     "metadata": {},
     "output_type": "execute_result"
    }
   ],
   "source": [
    "# в том числе кортежи\n",
    "d1[(3,5)] = ['three', 'five']\n",
    "d1"
   ]
  },
  {
   "cell_type": "code",
   "execution_count": 92,
   "metadata": {
    "collapsed": true
   },
   "outputs": [],
   "source": [
    "# список не может быть ключом, так как это изменяемый объект. хеш-фуекция для ключа должна быть неизменна"
   ]
  },
  {
   "cell_type": "code",
   "execution_count": 97,
   "metadata": {},
   "outputs": [
    {
     "data": {
      "text/plain": [
       "8"
      ]
     },
     "execution_count": 97,
     "metadata": {},
     "output_type": "execute_result"
    }
   ],
   "source": [
    "# значением в словаре может быть все что угодно, даже словарь\n",
    "d1['new'] = d4\n",
    "d1['new']['Oleg']"
   ]
  },
  {
   "cell_type": "code",
   "execution_count": 98,
   "metadata": {},
   "outputs": [
    {
     "data": {
      "text/plain": [
       "{'cat': 110,\n",
       " 'i': 100,\n",
       " 'Teylor': 2,\n",
       " 2: 'u',\n",
       " (3, 5): ['three', 'five'],\n",
       " 'new': {'Anna': 10, 'Oleg': 8}}"
      ]
     },
     "execution_count": 98,
     "metadata": {},
     "output_type": "execute_result"
    }
   ],
   "source": [
    "# можем изменить значение в словаре\n",
    "d1['cat'] += 100\n",
    "d1"
   ]
  },
  {
   "cell_type": "code",
   "execution_count": 101,
   "metadata": {},
   "outputs": [
    {
     "data": {
      "text/plain": [
       "{'cat': 'not dog',\n",
       " 'i': 100,\n",
       " 'Teylor': 2,\n",
       " 2: 'u',\n",
       " (3, 5): ['three', 'five'],\n",
       " 'new': {'Anna': 10, 'Oleg': 8}}"
      ]
     },
     "execution_count": 101,
     "metadata": {},
     "output_type": "execute_result"
    }
   ],
   "source": [
    "# ключи должны быть уникальны, значения любые\n",
    "d1['cat'] = 'not dog'\n",
    "d1"
   ]
  },
  {
   "cell_type": "code",
   "execution_count": 105,
   "metadata": {},
   "outputs": [
    {
     "name": "stdout",
     "output_type": "stream",
     "text": [
      "True\n",
      "not dog\n"
     ]
    }
   ],
   "source": [
    "# метод get возвращает ничего, если такого ключа нет в словаре, не выбрасывает ошибку\n",
    "print(d1.get('dog') == None)\n",
    "print(d1.get('cat'))"
   ]
  },
  {
   "cell_type": "code",
   "execution_count": 106,
   "metadata": {},
   "outputs": [
    {
     "data": {
      "text/plain": [
       "True"
      ]
     },
     "execution_count": 106,
     "metadata": {},
     "output_type": "execute_result"
    }
   ],
   "source": [
    "# in и not in проверяют по ключам\n",
    "'cat' in d1"
   ]
  },
  {
   "cell_type": "code",
   "execution_count": 115,
   "metadata": {},
   "outputs": [
    {
     "name": "stdout",
     "output_type": "stream",
     "text": [
      "True\n",
      "dict_keys(['cat', 'i', 'Teylor', 2, (3, 5), 'new'])\n"
     ]
    }
   ],
   "source": [
    "# проверяем ключи\n",
    "print('cat' in d1.keys())\n",
    "print(d1.keys())"
   ]
  },
  {
   "cell_type": "code",
   "execution_count": 112,
   "metadata": {},
   "outputs": [
    {
     "name": "stdout",
     "output_type": "stream",
     "text": [
      "dict_values(['not dog', 100, 2, 'u', ['three', 'five'], {'Anna': 10, 'Oleg': 8}])\n",
      "True\n"
     ]
    }
   ],
   "source": [
    "# проверяем в значениях\n",
    "print(d1.values())\n",
    "print('not dog' in d1.values())"
   ]
  },
  {
   "cell_type": "code",
   "execution_count": 111,
   "metadata": {},
   "outputs": [
    {
     "name": "stdout",
     "output_type": "stream",
     "text": [
      "dict_items([('cat', 'not dog'), ('i', 100), ('Teylor', 2), (2, 'u'), ((3, 5), ['three', 'five']), ('new', {'Anna': 10, 'Oleg': 8})])\n"
     ]
    }
   ],
   "source": [
    "print(d1.items())"
   ]
  },
  {
   "cell_type": "code",
   "execution_count": 116,
   "metadata": {
    "collapsed": true
   },
   "outputs": [],
   "source": [
    "d1.update(d4)"
   ]
  },
  {
   "cell_type": "code",
   "execution_count": 120,
   "metadata": {},
   "outputs": [
    {
     "name": "stdout",
     "output_type": "stream",
     "text": [
      "{'cat': 'not dog', 'i': 100, 'Teylor': 2, 2: 'u', (3, 5): ['three', 'five'], 'new': {'Anna': 10, 'Oleg': 8}, 'Anna': 10, 'Oleg': 8}\n",
      "{'Anna': 10, 'Oleg': 8}\n"
     ]
    }
   ],
   "source": [
    "print(d1)\n",
    "print(d4)"
   ]
  },
  {
   "cell_type": "code",
   "execution_count": 118,
   "metadata": {},
   "outputs": [
    {
     "data": {
      "text/plain": [
       "{'Anna': 10, 'Oleg': 8}"
      ]
     },
     "execution_count": 118,
     "metadata": {},
     "output_type": "execute_result"
    }
   ],
   "source": [
    "d4"
   ]
  },
  {
   "cell_type": "code",
   "execution_count": null,
   "metadata": {
    "collapsed": true
   },
   "outputs": [],
   "source": []
  }
 ],
 "metadata": {
  "kernelspec": {
   "display_name": "Python 3",
   "language": "python",
   "name": "python3"
  },
  "language_info": {
   "codemirror_mode": {
    "name": "ipython",
    "version": 3
   },
   "file_extension": ".py",
   "mimetype": "text/x-python",
   "name": "python",
   "nbconvert_exporter": "python",
   "pygments_lexer": "ipython3",
   "version": "3.6.1"
  }
 },
 "nbformat": 4,
 "nbformat_minor": 2
}
