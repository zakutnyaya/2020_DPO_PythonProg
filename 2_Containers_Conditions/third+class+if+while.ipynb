{
 "cells": [
  {
   "cell_type": "markdown",
   "metadata": {},
   "source": [
    "## if else"
   ]
  },
  {
   "cell_type": "code",
   "execution_count": 1,
   "metadata": {},
   "outputs": [
    {
     "name": "stdout",
     "output_type": "stream",
     "text": [
      "True!\n"
     ]
    }
   ],
   "source": [
    "x = 1\n",
    "if x == 1:\n",
    "    print('True!')"
   ]
  },
  {
   "cell_type": "code",
   "execution_count": 5,
   "metadata": {},
   "outputs": [
    {
     "name": "stdout",
     "output_type": "stream",
     "text": [
      "T\n"
     ]
    }
   ],
   "source": [
    "x = 'cat'\n",
    "if 'c' in x and len(x) == 3:\n",
    "    print('T')\n",
    "else: \n",
    "    print(\"F\")"
   ]
  },
  {
   "cell_type": "code",
   "execution_count": 6,
   "metadata": {},
   "outputs": [
    {
     "name": "stdout",
     "output_type": "stream",
     "text": [
      "2\n"
     ]
    }
   ],
   "source": [
    "# find minimum\n",
    "a = 2\n",
    "b = 3\n",
    "if a < b:\n",
    "    print(a)\n",
    "else:\n",
    "    print(b)"
   ]
  },
  {
   "cell_type": "code",
   "execution_count": 8,
   "metadata": {},
   "outputs": [
    {
     "name": "stdout",
     "output_type": "stream",
     "text": [
      "They are equal\n"
     ]
    }
   ],
   "source": [
    "# elif, их сколько угодно можно записать\n",
    "a = 2\n",
    "b = 2\n",
    "if a < b:\n",
    "    print(a)\n",
    "elif a == b:\n",
    "    print('They are equal')\n",
    "else:\n",
    "    print(b)"
   ]
  },
  {
   "cell_type": "code",
   "execution_count": 13,
   "metadata": {},
   "outputs": [
    {
     "name": "stdout",
     "output_type": "stream",
     "text": [
      "1\n"
     ]
    }
   ],
   "source": [
    "# условие внутри условия \n",
    "a = 2\n",
    "b = 1\n",
    "if a < b:\n",
    "    print(a)\n",
    "    if a == 2:\n",
    "        print(\"This is 2\")\n",
    "    else:\n",
    "        print('Not 2')\n",
    "elif a == b:\n",
    "    print('They are equal')\n",
    "else:\n",
    "    print(b)"
   ]
  },
  {
   "cell_type": "code",
   "execution_count": 15,
   "metadata": {},
   "outputs": [
    {
     "name": "stdout",
     "output_type": "stream",
     "text": [
      "10\n",
      "Perfect\n"
     ]
    }
   ],
   "source": [
    "mark = int(input())\n",
    "if mark > 8:\n",
    "    print('Perfect')\n",
    "elif mark > 6:\n",
    "    print('Good')\n",
    "elif mark > 4:\n",
    "    print('Not Good')"
   ]
  },
  {
   "cell_type": "code",
   "execution_count": 19,
   "metadata": {},
   "outputs": [
    {
     "name": "stdout",
     "output_type": "stream",
     "text": [
      "7\n",
      "Odd\n"
     ]
    }
   ],
   "source": [
    "# здесь else относится к последнему условию\n",
    "mark = int(input())\n",
    "if mark > 8:\n",
    "    print('Perfect')\n",
    "if mark % 2 == 0:\n",
    "    print('Even')\n",
    "else:\n",
    "    print('Odd')"
   ]
  },
  {
   "cell_type": "markdown",
   "metadata": {},
   "source": [
    "## циклы"
   ]
  },
  {
   "cell_type": "code",
   "execution_count": 23,
   "metadata": {},
   "outputs": [
    {
     "name": "stdout",
     "output_type": "stream",
     "text": [
      "Work\n"
     ]
    }
   ],
   "source": [
    "x = 1\n",
    "while x ==1:\n",
    "    print('Work')\n",
    "    x += 1"
   ]
  },
  {
   "cell_type": "code",
   "execution_count": 25,
   "metadata": {},
   "outputs": [
    {
     "name": "stdout",
     "output_type": "stream",
     "text": [
      "2\n",
      "3\n",
      "4\n",
      "5\n",
      "6\n",
      "7\n",
      "8\n",
      "9\n",
      "10\n",
      "11\n"
     ]
    }
   ],
   "source": [
    "x = 1\n",
    "flag = True\n",
    "while flag:\n",
    "    if x == 10:\n",
    "        flag = False\n",
    "    x += 1\n",
    "    print(x)"
   ]
  },
  {
   "cell_type": "code",
   "execution_count": 26,
   "metadata": {},
   "outputs": [
    {
     "name": "stdout",
     "output_type": "stream",
     "text": [
      "2\n",
      "3\n",
      "4\n",
      "5\n",
      "6\n",
      "7\n",
      "8\n",
      "9\n",
      "10\n"
     ]
    }
   ],
   "source": [
    "x = 1\n",
    "while True:\n",
    "    if x == 10:\n",
    "        break\n",
    "    x += 1\n",
    "    print(x)"
   ]
  },
  {
   "cell_type": "code",
   "execution_count": 30,
   "metadata": {},
   "outputs": [
    {
     "name": "stdout",
     "output_type": "stream",
     "text": [
      "Enter mark 12\n",
      "Bad\n"
     ]
    }
   ],
   "source": [
    "# не остановился цикл, выводим else с конечным условием\n",
    "count = 1\n",
    "while count <= 5:\n",
    "    mark = int(input(f'Enter mark {count}'))\n",
    "    if mark < 4:\n",
    "        print(\"Bad\")\n",
    "        break\n",
    "    count += 1\n",
    "else:\n",
    "        print('everythin is fine')"
   ]
  },
  {
   "cell_type": "code",
   "execution_count": 31,
   "metadata": {},
   "outputs": [
    {
     "name": "stdout",
     "output_type": "stream",
     "text": [
      "Enter mark 14\n",
      "Enter mark 25\n",
      "Enter mark 33\n",
      "Enter mark 42\n",
      "Enter mark 51\n",
      "Количество пересдач: 3\n"
     ]
    }
   ],
   "source": [
    "# считаем количество пересдач\n",
    "# если оценка больше 4, идем в начало цикла\n",
    "count = 1\n",
    "retakes = 0\n",
    "while count <= 5:\n",
    "    mark = int(input(f'Enter mark {count}'))\n",
    "    count += 1\n",
    "    if mark >= 4:\n",
    "        continue\n",
    "    retakes += 1\n",
    "\n",
    "print('Количество пересдач:', retakes)"
   ]
  },
  {
   "cell_type": "code",
   "execution_count": null,
   "metadata": {
    "collapsed": true
   },
   "outputs": [],
   "source": []
  }
 ],
 "metadata": {
  "kernelspec": {
   "display_name": "Python 3",
   "language": "python",
   "name": "python3"
  },
  "language_info": {
   "codemirror_mode": {
    "name": "ipython",
    "version": 3
   },
   "file_extension": ".py",
   "mimetype": "text/x-python",
   "name": "python",
   "nbconvert_exporter": "python",
   "pygments_lexer": "ipython3",
   "version": "3.6.1"
  }
 },
 "nbformat": 4,
 "nbformat_minor": 2
}
