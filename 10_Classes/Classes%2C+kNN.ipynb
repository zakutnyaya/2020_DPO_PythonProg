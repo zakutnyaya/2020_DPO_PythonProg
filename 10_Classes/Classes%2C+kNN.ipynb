{
 "cells": [
  {
   "cell_type": "code",
   "execution_count": 1,
   "metadata": {
    "collapsed": true
   },
   "outputs": [],
   "source": [
    "x = 5 / 2\n",
    "\n",
    "def cube(x):\n",
    "    return x ** 3\n",
    "\n"
   ]
  },
  {
   "cell_type": "markdown",
   "metadata": {},
   "source": [
    "Класс - это объект, к которому применимы собственные методы."
   ]
  },
  {
   "cell_type": "code",
   "execution_count": 2,
   "metadata": {
    "collapsed": true
   },
   "outputs": [],
   "source": [
    "# pass - заглушка\n",
    "class Car:\n",
    "    pass"
   ]
  },
  {
   "cell_type": "code",
   "execution_count": 3,
   "metadata": {},
   "outputs": [
    {
     "data": {
      "text/plain": [
       "float"
      ]
     },
     "execution_count": 3,
     "metadata": {},
     "output_type": "execute_result"
    }
   ],
   "source": [
    "type(x)"
   ]
  },
  {
   "cell_type": "code",
   "execution_count": 4,
   "metadata": {},
   "outputs": [
    {
     "data": {
      "text/plain": [
       "function"
      ]
     },
     "execution_count": 4,
     "metadata": {},
     "output_type": "execute_result"
    }
   ],
   "source": [
    "type(cube)"
   ]
  },
  {
   "cell_type": "code",
   "execution_count": 5,
   "metadata": {},
   "outputs": [
    {
     "data": {
      "text/plain": [
       "type"
      ]
     },
     "execution_count": 5,
     "metadata": {},
     "output_type": "execute_result"
    }
   ],
   "source": [
    "# класс и тип в питоне одно и то же\n",
    "type(Car)"
   ]
  },
  {
   "cell_type": "code",
   "execution_count": 8,
   "metadata": {},
   "outputs": [
    {
     "name": "stdout",
     "output_type": "stream",
     "text": [
      "['__add__', '__class__', '__contains__', '__delattr__', '__dir__', '__doc__', '__eq__', '__format__', '__ge__', '__getattribute__', '__getitem__', '__getnewargs__', '__gt__', '__hash__', '__init__', '__init_subclass__', '__iter__', '__le__', '__len__', '__lt__', '__mod__', '__mul__', '__ne__', '__new__', '__reduce__', '__reduce_ex__', '__repr__', '__rmod__', '__rmul__', '__setattr__', '__sizeof__', '__str__', '__subclasshook__', 'capitalize', 'casefold', 'center', 'count', 'encode', 'endswith', 'expandtabs', 'find', 'format', 'format_map', 'index', 'isalnum', 'isalpha', 'isdecimal', 'isdigit', 'isidentifier', 'islower', 'isnumeric', 'isprintable', 'isspace', 'istitle', 'isupper', 'join', 'ljust', 'lower', 'lstrip', 'maketrans', 'partition', 'replace', 'rfind', 'rindex', 'rjust', 'rpartition', 'rsplit', 'rstrip', 'split', 'splitlines', 'startswith', 'strip', 'swapcase', 'title', 'translate', 'upper', 'zfill']\n"
     ]
    }
   ],
   "source": [
    "# выводятся все атрибуты класса - строка\n",
    "# у нас есть объект типа строки и выводятся все атрибуты и методы (index, ...)\n",
    "# Marc -  экземпляр класса строка, объект имеет все атрибуты и методы класса строка\n",
    "# __smth__ - magic, dunder (double underscore)\n",
    "print(dir('Marc'))"
   ]
  },
  {
   "cell_type": "code",
   "execution_count": 9,
   "metadata": {
    "collapsed": true
   },
   "outputs": [],
   "source": [
    "# объектно-ориентированное программирование - код-набор классов, которые друг с другом взаимодействуют"
   ]
  },
  {
   "cell_type": "code",
   "execution_count": 10,
   "metadata": {
    "collapsed": true
   },
   "outputs": [],
   "source": [
    "# экземпляр класса Car\n",
    "audi = Car()"
   ]
  },
  {
   "cell_type": "code",
   "execution_count": 12,
   "metadata": {},
   "outputs": [
    {
     "data": {
      "text/plain": [
       "__main__.Car"
      ]
     },
     "execution_count": 12,
     "metadata": {},
     "output_type": "execute_result"
    }
   ],
   "source": [
    "# main - гиперссылка на скрипт, который сейчас работает\n",
    "# тип, созданный в скрипте, в котором я работаю и который Car\n",
    "type(audi)"
   ]
  },
  {
   "cell_type": "code",
   "execution_count": 13,
   "metadata": {},
   "outputs": [
    {
     "name": "stdout",
     "output_type": "stream",
     "text": [
      "['__class__', '__delattr__', '__dict__', '__dir__', '__doc__', '__eq__', '__format__', '__ge__', '__getattribute__', '__gt__', '__hash__', '__init__', '__init_subclass__', '__le__', '__lt__', '__module__', '__ne__', '__new__', '__reduce__', '__reduce_ex__', '__repr__', '__setattr__', '__sizeof__', '__str__', '__subclasshook__', '__weakref__']\n"
     ]
    }
   ],
   "source": [
    "# одни дандеры\n",
    "print(dir(audi))"
   ]
  },
  {
   "cell_type": "code",
   "execution_count": 27,
   "metadata": {
    "collapsed": true
   },
   "outputs": [],
   "source": [
    "# классы- шаблоны, есть шаблон всех классов\n",
    "# статические методы и атрибуты - дефолтный цвет, который присущ каждому экземпляру класса Car\n",
    "class Car:\n",
    "    \n",
    "    default_color = 'green'\n",
    "    \n",
    "    # конструктор класса\n",
    "    # init - \n",
    "    # self - ссылка на класс, метод вызывается от класса\n",
    "    # self - иди из функции init и сошлись на цвет объекта\n",
    "    def __init__(self, color, brand):\n",
    "        self.brand = brand\n",
    "        if color == None:\n",
    "            self.color = self.default_color\n",
    "        else:\n",
    "            # динамический атрибут для экземпляра класса\n",
    "            self.color = color\n",
    "        "
   ]
  },
  {
   "cell_type": "code",
   "execution_count": 28,
   "metadata": {},
   "outputs": [
    {
     "name": "stdout",
     "output_type": "stream",
     "text": [
      "red\n",
      "green\n",
      "green\n"
     ]
    }
   ],
   "source": [
    "# передали в конструктор цвет\n",
    "\n",
    "audi = Car('red', 'Audi')\n",
    "ford = Car(None, 'Ford')\n",
    "print(audi.color)\n",
    "\n",
    "print(ford.color)\n",
    "print(Car.default_color)"
   ]
  },
  {
   "cell_type": "code",
   "execution_count": 29,
   "metadata": {},
   "outputs": [
    {
     "data": {
      "text/plain": [
       "'black'"
      ]
     },
     "execution_count": 29,
     "metadata": {},
     "output_type": "execute_result"
    }
   ],
   "source": [
    "# атрибуты - это переменные\n",
    "audi.color = 'black'\n",
    "audi.color"
   ]
  },
  {
   "cell_type": "code",
   "execution_count": 33,
   "metadata": {},
   "outputs": [
    {
     "name": "stdout",
     "output_type": "stream",
     "text": [
      "magenta blue\n"
     ]
    },
    {
     "data": {
      "text/plain": [
       "'magenta'"
      ]
     },
     "execution_count": 33,
     "metadata": {},
     "output_type": "execute_result"
    }
   ],
   "source": [
    "# поменяли статический атрибут класса Car\n",
    "Car.default_color = 'magenta'\n",
    "# поменяли атрибут в экземпляре класса\n",
    "# мы создали в ауди динамический атрибут и затерли статический\n",
    "audi.default_color = 'blue'\n",
    "print(Car.default_color, audi.default_color)\n",
    "\n",
    "volvo = Car(None, 'Volvo')\n",
    "volvo.color"
   ]
  },
  {
   "cell_type": "code",
   "execution_count": 34,
   "metadata": {
    "collapsed": true
   },
   "outputs": [],
   "source": [
    "class Car:\n",
    "    @staticmethod\n",
    "    def ex_static_method():\n",
    "        print('static')\n",
    "        \n",
    "    @classmethod\n",
    "    def ex_class_method(cls):\n",
    "        print('class method')\n",
    "        \n",
    "    # метод экземпляра, вызывается от экземпляра\n",
    "    def ex_method(self):\n",
    "        print('method')"
   ]
  },
  {
   "cell_type": "code",
   "execution_count": 35,
   "metadata": {},
   "outputs": [
    {
     "name": "stdout",
     "output_type": "stream",
     "text": [
      "class method\n"
     ]
    }
   ],
   "source": [
    "Car.ex_class_method()"
   ]
  },
  {
   "cell_type": "code",
   "execution_count": 38,
   "metadata": {},
   "outputs": [
    {
     "name": "stdout",
     "output_type": "stream",
     "text": [
      "static\n"
     ]
    }
   ],
   "source": [
    "Car.ex_static_method()"
   ]
  },
  {
   "cell_type": "code",
   "execution_count": 39,
   "metadata": {},
   "outputs": [
    {
     "ename": "TypeError",
     "evalue": "ex_method() missing 1 required positional argument: 'self'",
     "output_type": "error",
     "traceback": [
      "\u001b[0;31m---------------------------------------------------------------------------\u001b[0m",
      "\u001b[0;31mTypeError\u001b[0m                                 Traceback (most recent call last)",
      "\u001b[0;32m<ipython-input-39-8ff9a363893a>\u001b[0m in \u001b[0;36m<module>\u001b[0;34m()\u001b[0m\n\u001b[0;32m----> 1\u001b[0;31m \u001b[0mCar\u001b[0m\u001b[0;34m.\u001b[0m\u001b[0mex_method\u001b[0m\u001b[0;34m(\u001b[0m\u001b[0;34m)\u001b[0m\u001b[0;34m\u001b[0m\u001b[0m\n\u001b[0m",
      "\u001b[0;31mTypeError\u001b[0m: ex_method() missing 1 required positional argument: 'self'"
     ]
    }
   ],
   "source": [
    "# у нас нет ссылки на self\n",
    "Car.ex_method()"
   ]
  },
  {
   "cell_type": "code",
   "execution_count": 40,
   "metadata": {},
   "outputs": [
    {
     "name": "stdout",
     "output_type": "stream",
     "text": [
      "method\n"
     ]
    }
   ],
   "source": [
    "audi = Car()\n",
    "audi.ex_method()"
   ]
  },
  {
   "cell_type": "code",
   "execution_count": 42,
   "metadata": {},
   "outputs": [
    {
     "name": "stdout",
     "output_type": "stream",
     "text": [
      "class method\n"
     ]
    }
   ],
   "source": [
    "audi.ex_class_method()"
   ]
  },
  {
   "cell_type": "code",
   "execution_count": 43,
   "metadata": {},
   "outputs": [
    {
     "name": "stdout",
     "output_type": "stream",
     "text": [
      "static\n"
     ]
    }
   ],
   "source": [
    "audi.ex_static_method()"
   ]
  },
  {
   "cell_type": "code",
   "execution_count": 65,
   "metadata": {
    "collapsed": true
   },
   "outputs": [],
   "source": [
    "class Car:\n",
    "    \n",
    "    default_color = 'green'\n",
    "    \n",
    "    @staticmethod\n",
    "    def definition():\n",
    "        print('Машина - это средство передвижения')\n",
    "        \n",
    "        \n",
    "    def __init__(self, color, brand):\n",
    "        self.brand = brand\n",
    "        if color == None:\n",
    "            self.color = self.default_color\n",
    "        else:\n",
    "            # динамический атрибут для экземпляра класса\n",
    "            self.color = color\n",
    "        "
   ]
  },
  {
   "cell_type": "code",
   "execution_count": 46,
   "metadata": {},
   "outputs": [
    {
     "name": "stdout",
     "output_type": "stream",
     "text": [
      "Машина - это средство передвижения\n"
     ]
    }
   ],
   "source": [
    "Car.definition()"
   ]
  },
  {
   "cell_type": "code",
   "execution_count": 57,
   "metadata": {
    "collapsed": true
   },
   "outputs": [],
   "source": [
    "from datetime import date\n",
    "\n",
    "class Car:\n",
    "    \n",
    "    default_color = 'green'\n",
    "    \n",
    "    \n",
    "    def __init__(self, color, age):\n",
    "        self.age = age\n",
    "        if color == None:\n",
    "            self.color = self.default_color\n",
    "        else:\n",
    "            self.color = color\n",
    "            \n",
    "    @staticmethod\n",
    "    # статический метод в том числе используется, чтобы применять его в динамическом методе\n",
    "    def is_warranty_active(age):\n",
    "        return age < 3\n",
    "    \n",
    "    # классовый метод есть, когда надо передать инфу в конструктор\n",
    "    \n",
    "    @classmethod\n",
    "    # вызови от самого себя cls, возьми цвет и возьми некотрую перменную, \n",
    "    # а верни самого себя - конструктор - и запиши туда цвет, а в качестве аргумент\n",
    "    # age запиши туда date.today().year - prod_year\n",
    "    def from_production_year(cls, color, prod_year):\n",
    "          return cls(color, date.today().year - prod_year)\n",
    "    \n",
    "    def info(self):\n",
    "        print(f'{self.color} car is {self.age} years old')\n",
    "        if self.is_warranty_active(self.age):\n",
    "            print('Warranty is ok')\n",
    "        else:\n",
    "            print('Warranty is expired')"
   ]
  },
  {
   "cell_type": "code",
   "execution_count": 58,
   "metadata": {
    "collapsed": true
   },
   "outputs": [],
   "source": [
    "audi = Car.from_production_year('red', 2005)"
   ]
  },
  {
   "cell_type": "code",
   "execution_count": 59,
   "metadata": {},
   "outputs": [
    {
     "data": {
      "text/plain": [
       "15"
      ]
     },
     "execution_count": 59,
     "metadata": {},
     "output_type": "execute_result"
    }
   ],
   "source": [
    "audi.age"
   ]
  },
  {
   "cell_type": "code",
   "execution_count": 61,
   "metadata": {},
   "outputs": [
    {
     "name": "stdout",
     "output_type": "stream",
     "text": [
      "red car is 15 years old\n",
      "Warranty is expired\n"
     ]
    }
   ],
   "source": [
    "audi.info()"
   ]
  },
  {
   "cell_type": "code",
   "execution_count": 62,
   "metadata": {},
   "outputs": [
    {
     "ename": "TypeError",
     "evalue": "info() missing 1 required positional argument: 'self'",
     "output_type": "error",
     "traceback": [
      "\u001b[0;31m---------------------------------------------------------------------------\u001b[0m",
      "\u001b[0;31mTypeError\u001b[0m                                 Traceback (most recent call last)",
      "\u001b[0;32m<ipython-input-62-8cc8babc65c1>\u001b[0m in \u001b[0;36m<module>\u001b[0;34m()\u001b[0m\n\u001b[0;32m----> 1\u001b[0;31m \u001b[0mCar\u001b[0m\u001b[0;34m.\u001b[0m\u001b[0minfo\u001b[0m\u001b[0;34m(\u001b[0m\u001b[0;34m)\u001b[0m\u001b[0;34m\u001b[0m\u001b[0m\n\u001b[0m",
      "\u001b[0;31mTypeError\u001b[0m: info() missing 1 required positional argument: 'self'"
     ]
    }
   ],
   "source": [
    "# метод работает только от экземпляра\n",
    "Car.info()"
   ]
  },
  {
   "cell_type": "code",
   "execution_count": 64,
   "metadata": {},
   "outputs": [
    {
     "name": "stdout",
     "output_type": "stream",
     "text": [
      "green car is 2 years old\n",
      "Warranty is ok\n"
     ]
    }
   ],
   "source": [
    "ford = Car(None, 2)\n",
    "ford.info()"
   ]
  },
  {
   "cell_type": "code",
   "execution_count": null,
   "metadata": {
    "collapsed": true
   },
   "outputs": [],
   "source": []
  },
  {
   "cell_type": "code",
   "execution_count": 104,
   "metadata": {
    "collapsed": true
   },
   "outputs": [],
   "source": [
    "class Student:\n",
    "    \n",
    "    def __init__(self, name, year):\n",
    "        self.name = name\n",
    "        self.year = year\n",
    "        self.grades = []\n",
    "        \n",
    "    def add_grade(self, grade):\n",
    "        if type(grade) == Grade:\n",
    "            if grade.is_passing():\n",
    "                self.grades.append(grade.score)\n",
    "        else:\n",
    "            print('Оценка должна быть экземпляром класса Grade()')\n",
    "            \n",
    "    def get_average(self):\n",
    "        return sum(self.grades) / len(self.grades)\n",
    "    @staticmethod\n",
    "    def st_get_average(grades):\n",
    "        return sum(grades)/len(grades)"
   ]
  },
  {
   "cell_type": "code",
   "execution_count": 82,
   "metadata": {
    "collapsed": true
   },
   "outputs": [],
   "source": [
    "class Grade:\n",
    "    \n",
    "    minimum_passing = 4\n",
    "    \n",
    "    def __init__(self, score):\n",
    "        self.score = int(score)\n",
    "        \n",
    "    def is_passing(self):\n",
    "        return self.score >= 4"
   ]
  },
  {
   "cell_type": "code",
   "execution_count": 105,
   "metadata": {
    "collapsed": true
   },
   "outputs": [],
   "source": [
    "Ivan_Smirnov = Student('Ivan_Smirnov', 2)"
   ]
  },
  {
   "cell_type": "code",
   "execution_count": 96,
   "metadata": {
    "collapsed": true
   },
   "outputs": [],
   "source": [
    "Olga_Petrova = Student('Olga_Petrova', 4)"
   ]
  },
  {
   "cell_type": "code",
   "execution_count": 74,
   "metadata": {},
   "outputs": [
    {
     "data": {
      "text/plain": [
       "('Ivan_Smirnov', 2, __main__.Student)"
      ]
     },
     "execution_count": 74,
     "metadata": {},
     "output_type": "execute_result"
    }
   ],
   "source": [
    "Ivan_Smirnov.name, Ivan_Smirnov.year, type(Ivan_Smirnov)"
   ]
  },
  {
   "cell_type": "code",
   "execution_count": 84,
   "metadata": {
    "collapsed": true
   },
   "outputs": [],
   "source": [
    "ivan_score = Grade(5)"
   ]
  },
  {
   "cell_type": "code",
   "execution_count": 85,
   "metadata": {},
   "outputs": [
    {
     "data": {
      "text/plain": [
       "5"
      ]
     },
     "execution_count": 85,
     "metadata": {},
     "output_type": "execute_result"
    }
   ],
   "source": [
    "ivan_score.score"
   ]
  },
  {
   "cell_type": "code",
   "execution_count": 86,
   "metadata": {},
   "outputs": [
    {
     "data": {
      "text/plain": [
       "True"
      ]
     },
     "execution_count": 86,
     "metadata": {},
     "output_type": "execute_result"
    }
   ],
   "source": [
    "ivan_score.is_passing()"
   ]
  },
  {
   "cell_type": "code",
   "execution_count": 97,
   "metadata": {
    "collapsed": true
   },
   "outputs": [],
   "source": [
    "for grade in (10,5,7):\n",
    "    Ivan_Smirnov.add_grade(Grade(grade))\n",
    "    \n",
    "for grade in (2,4):\n",
    "    Olga_Petrova.add_grade(Grade(grade))"
   ]
  },
  {
   "cell_type": "code",
   "execution_count": 99,
   "metadata": {},
   "outputs": [
    {
     "name": "stdout",
     "output_type": "stream",
     "text": [
      "[4]\n",
      "[10, 5, 7]\n"
     ]
    }
   ],
   "source": [
    "print(Olga_Petrova.grades)\n",
    "print(Ivan_Smirnov.grades)"
   ]
  },
  {
   "cell_type": "code",
   "execution_count": 107,
   "metadata": {},
   "outputs": [
    {
     "data": {
      "text/plain": [
       "5.666666666666667"
      ]
     },
     "execution_count": 107,
     "metadata": {},
     "output_type": "execute_result"
    }
   ],
   "source": [
    "Ivan_Smirnov.st_get_average([2,5,10])"
   ]
  },
  {
   "cell_type": "code",
   "execution_count": 108,
   "metadata": {},
   "outputs": [
    {
     "name": "stdout",
     "output_type": "stream",
     "text": [
      "['__class__', '__delattr__', '__dict__', '__dir__', '__doc__', '__eq__', '__format__', '__ge__', '__getattribute__', '__gt__', '__hash__', '__init__', '__init_subclass__', '__le__', '__lt__', '__module__', '__ne__', '__new__', '__reduce__', '__reduce_ex__', '__repr__', '__setattr__', '__sizeof__', '__str__', '__subclasshook__', '__weakref__', 'add_grade', 'get_average', 'st_get_average']\n"
     ]
    }
   ],
   "source": [
    "print(dir(Student))"
   ]
  },
  {
   "cell_type": "markdown",
   "metadata": {},
   "source": [
    "Наследование - на основе класса студент создаем другой класс.Наследование может быть множественным.\n",
    "\n",
    "Полиморфизм - это переопределение метода. Один метод в разных классах делает одну и ту же функцию. Например, count работает и со строкой, и со списком.\n",
    "\n",
    "Инкапсуляция - защита класса, все \"внутренности\" класса прячем под \"капот\", чтобы пользователь не мог изменить класс.\n",
    "Ставим нижнее подчеркивание перед атрибутом, который хотим закрыть от пользователя. Это просто конвенция, чтобы пользователь видел и понимал, что к этому атрибуту лучше не обращаться. Если подставим двойной подчеркивание, то пользователь не сможет обратиться к year "
   ]
  },
  {
   "cell_type": "code",
   "execution_count": 110,
   "metadata": {},
   "outputs": [
    {
     "data": {
      "text/plain": [
       "2"
      ]
     },
     "execution_count": 110,
     "metadata": {},
     "output_type": "execute_result"
    }
   ],
   "source": [
    "# Инкапсуляция\n",
    "class Student:\n",
    "    \n",
    "    def __init__(self, name, year):\n",
    "        self._name = name\n",
    "        self.__year = year\n",
    "        self._grades = []\n",
    "       \n",
    "    # getter\n",
    "    def get_name(self):\n",
    "        return self._name\n",
    "        \n",
    "    # setter - дает возможность перезаписать переменную\n",
    "    def set_name(self, name_new):\n",
    "        self._name = name_new\n",
    "ivan = Student('Ivan', 2)\n",
    "ivan._year"
   ]
  },
  {
   "cell_type": "code",
   "execution_count": 111,
   "metadata": {},
   "outputs": [
    {
     "data": {
      "text/plain": [
       "'Ivan'"
      ]
     },
     "execution_count": 111,
     "metadata": {},
     "output_type": "execute_result"
    }
   ],
   "source": [
    "# создаем функцию get_name(), чтобы обратиться к атрибутам и узнать их содержимое\n",
    "# чтобы пользователь напрямую не обращался к переменную self._name\n",
    "ivan.get_name()"
   ]
  },
  {
   "cell_type": "code",
   "execution_count": 112,
   "metadata": {},
   "outputs": [
    {
     "ename": "AttributeError",
     "evalue": "'Student' object has no attribute '__year'",
     "output_type": "error",
     "traceback": [
      "\u001b[0;31m---------------------------------------------------------------------------\u001b[0m",
      "\u001b[0;31mAttributeError\u001b[0m                            Traceback (most recent call last)",
      "\u001b[0;32m<ipython-input-112-9dabb76ec76a>\u001b[0m in \u001b[0;36m<module>\u001b[0;34m()\u001b[0m\n\u001b[0;32m----> 1\u001b[0;31m \u001b[0mivan\u001b[0m\u001b[0;34m.\u001b[0m\u001b[0m__year\u001b[0m\u001b[0;34m\u001b[0m\u001b[0m\n\u001b[0m",
      "\u001b[0;31mAttributeError\u001b[0m: 'Student' object has no attribute '__year'"
     ]
    }
   ],
   "source": [
    "ivan.__year"
   ]
  },
  {
   "cell_type": "code",
   "execution_count": 120,
   "metadata": {},
   "outputs": [
    {
     "name": "stdout",
     "output_type": "stream",
     "text": [
      "red\n",
      "green\n",
      "red car is 3 years old\n",
      "Warranty is expired\n",
      "None\n",
      "True\n"
     ]
    }
   ],
   "source": [
    "#  наследование\n",
    "class Car:\n",
    "    default_color = 'green'\n",
    "    \n",
    "    def __init__(self, color, age):\n",
    "        self.age = age\n",
    "        if color == None:\n",
    "            self.color = self.default_color\n",
    "        else:\n",
    "            self.color = color\n",
    "\n",
    "    @staticmethod\n",
    "    def is_warranty_active(age):\n",
    "        return age < 3\n",
    "    \n",
    "    @classmethod\n",
    "    def from_production_year(cls, color, prod_year):\n",
    "        return cls(color, date.today().year - prod_year)\n",
    "    \n",
    "    def info(self):\n",
    "        print(f'{self.color} car is {self.age} years old')\n",
    "        if self.is_warranty_active(self.age):\n",
    "            print('Warranty is ok')\n",
    "        else:\n",
    "            print('Warranty is expired')\n",
    "            \n",
    "class Truck(Car):\n",
    "    def __init__(self, color, age, load_weight):\n",
    "        # super - идем в начальный класс и забираем перменные\n",
    "        super().__init__(color,age)\n",
    "        self.load_weight = load_weight\n",
    "        \n",
    "    def check_load(self):\n",
    "        return self.load_weight > 5000\n",
    "        \n",
    "kamaz = Truck('red', 3, 13000)\n",
    "print(kamaz.color)\n",
    "print(kamaz.default_color)\n",
    "print(kamaz.info())\n",
    "print(kamaz.check_load())"
   ]
  },
  {
   "cell_type": "code",
   "execution_count": 125,
   "metadata": {
    "collapsed": true
   },
   "outputs": [],
   "source": [
    "class InsurancePolicy:\n",
    "    def __init__(self, value):\n",
    "        self.value = value\n",
    "        # показываем в родительском классе, что в каждом последующем классе должнн быть такой метод\n",
    "        def get_rate(self):\n",
    "            pass\n",
    "        \n",
    "class VehicleInsurance(InsurancePolicy):\n",
    "    def get_rate(self):\n",
    "        return self.value * 0.01\n",
    "    \n",
    "class HomeInsurance(InsurancePolicy):\n",
    "    def get_rate(self):\n",
    "        return self.value * 0.0005"
   ]
  },
  {
   "cell_type": "code",
   "execution_count": 126,
   "metadata": {},
   "outputs": [
    {
     "data": {
      "text/plain": [
       "50.0"
      ]
     },
     "execution_count": 126,
     "metadata": {},
     "output_type": "execute_result"
    }
   ],
   "source": [
    "car_ins = VehicleInsurance(5000)\n",
    "car_ins.get_rate()"
   ]
  },
  {
   "cell_type": "code",
   "execution_count": 127,
   "metadata": {},
   "outputs": [
    {
     "data": {
      "text/plain": [
       "250.0"
      ]
     },
     "execution_count": 127,
     "metadata": {},
     "output_type": "execute_result"
    }
   ],
   "source": [
    "house_ins = HomeInsurance(500000)\n",
    "house_ins.get_rate()"
   ]
  },
  {
   "cell_type": "code",
   "execution_count": 128,
   "metadata": {},
   "outputs": [
    {
     "data": {
      "text/plain": [
       "True"
      ]
     },
     "execution_count": 128,
     "metadata": {},
     "output_type": "execute_result"
    }
   ],
   "source": [
    "# перегрузка операторов\n",
    "5 == 5"
   ]
  },
  {
   "cell_type": "code",
   "execution_count": 129,
   "metadata": {
    "collapsed": true
   },
   "outputs": [],
   "source": [
    "class Point:\n",
    "    def __init__(self, x, y):\n",
    "        self.x = x\n",
    "        self.y = y\n",
    "        "
   ]
  },
  {
   "cell_type": "code",
   "execution_count": 130,
   "metadata": {},
   "outputs": [
    {
     "data": {
      "text/plain": [
       "False"
      ]
     },
     "execution_count": 130,
     "metadata": {},
     "output_type": "execute_result"
    }
   ],
   "source": [
    "# == для нашего класса не так, как мы ожидаем\n",
    "Point(3, 4) == Point(3,4)"
   ]
  },
  {
   "cell_type": "code",
   "execution_count": 131,
   "metadata": {},
   "outputs": [
    {
     "data": {
      "text/plain": [
       "['__class__',\n",
       " '__delattr__',\n",
       " '__dict__',\n",
       " '__dir__',\n",
       " '__doc__',\n",
       " '__eq__',\n",
       " '__format__',\n",
       " '__ge__',\n",
       " '__getattribute__',\n",
       " '__gt__',\n",
       " '__hash__',\n",
       " '__init__',\n",
       " '__init_subclass__',\n",
       " '__le__',\n",
       " '__lt__',\n",
       " '__module__',\n",
       " '__ne__',\n",
       " '__new__',\n",
       " '__reduce__',\n",
       " '__reduce_ex__',\n",
       " '__repr__',\n",
       " '__setattr__',\n",
       " '__sizeof__',\n",
       " '__str__',\n",
       " '__subclasshook__',\n",
       " '__weakref__']"
      ]
     },
     "execution_count": 131,
     "metadata": {},
     "output_type": "execute_result"
    }
   ],
   "source": [
    "dir(Point)"
   ]
  },
  {
   "cell_type": "code",
   "execution_count": 132,
   "metadata": {
    "collapsed": true
   },
   "outputs": [],
   "source": [
    "class Point:\n",
    "    def __init__(self, x, y):\n",
    "        self.x = x\n",
    "        self.y = y\n",
    "        \n",
    "    # other - что-то на другом уонце логического равно\n",
    "    def __eq__(self, other):\n",
    "        return self.x == other.x and self.y == other.y\n",
    "    "
   ]
  },
  {
   "cell_type": "code",
   "execution_count": 133,
   "metadata": {},
   "outputs": [
    {
     "data": {
      "text/plain": [
       "True"
      ]
     },
     "execution_count": 133,
     "metadata": {},
     "output_type": "execute_result"
    }
   ],
   "source": [
    "# переписали логическое равно, чтобы оно работало так, как мы хотим, с нашим классом\n",
    "# это и есть полиморфизм\n",
    "Point(3, 4) == Point(3,4)"
   ]
  },
  {
   "cell_type": "code",
   "execution_count": 134,
   "metadata": {},
   "outputs": [
    {
     "name": "stdout",
     "output_type": "stream",
     "text": [
      "<__main__.Point object at 0x10edcbf98>\n"
     ]
    }
   ],
   "source": [
    "# объект типа Point, сохраненный здесь 0x10edcbf98\n",
    "print(Point(3,4))"
   ]
  },
  {
   "cell_type": "code",
   "execution_count": 137,
   "metadata": {
    "collapsed": true
   },
   "outputs": [],
   "source": [
    "class Point:\n",
    "    def __init__(self, x, y):\n",
    "        self.x = x\n",
    "        self.y = y\n",
    "        \n",
    "    def __eq__(self, other):\n",
    "        return self.x == other.x and self.y == other.y\n",
    "    \n",
    "    # перезаписали репрезентацию\n",
    "    def __repr__(self):\n",
    "        return '2D Point'"
   ]
  },
  {
   "cell_type": "code",
   "execution_count": 138,
   "metadata": {},
   "outputs": [
    {
     "name": "stdout",
     "output_type": "stream",
     "text": [
      "2D Point\n"
     ]
    }
   ],
   "source": [
    "print(Point(3,4))"
   ]
  },
  {
   "cell_type": "code",
   "execution_count": 140,
   "metadata": {},
   "outputs": [
    {
     "data": {
      "text/plain": [
       "[1, 2, 5, 323]"
      ]
     },
     "execution_count": 140,
     "metadata": {},
     "output_type": "execute_result"
    }
   ],
   "source": [
    "# переопределение метода родительского класса\n",
    "class SortedList(list):\n",
    "    def __int__(self, lst):\n",
    "        super().__init__(lst)\n",
    "        self.sort()\n",
    "        \n",
    "    def append(self, value):\n",
    "        # self потому, что он находится в родительском классе, здесь мы только сортируем\n",
    "        super().append(value)\n",
    "        super().sort()\n",
    "        \n",
    "x = SortedList([5,2,323])\n",
    "x.append(1)\n",
    "x"
   ]
  },
  {
   "cell_type": "code",
   "execution_count": 143,
   "metadata": {},
   "outputs": [
    {
     "ename": "TypeError",
     "evalue": "object of type 'Team' has no len()",
     "output_type": "error",
     "traceback": [
      "\u001b[0;31m---------------------------------------------------------------------------\u001b[0m",
      "\u001b[0;31mTypeError\u001b[0m                                 Traceback (most recent call last)",
      "\u001b[0;32m<ipython-input-143-e8f90b931fa9>\u001b[0m in \u001b[0;36m<module>\u001b[0;34m()\u001b[0m\n\u001b[1;32m      5\u001b[0m \u001b[0;34m\u001b[0m\u001b[0m\n\u001b[1;32m      6\u001b[0m \u001b[0mdenmark92\u001b[0m \u001b[0;34m=\u001b[0m \u001b[0mTeam\u001b[0m\u001b[0;34m(\u001b[0m\u001b[0;34m'football'\u001b[0m\u001b[0;34m,\u001b[0m \u001b[0;34m[\u001b[0m\u001b[0;34m\"Vilfort\"\u001b[0m\u001b[0;34m,\u001b[0m \u001b[0;34m'Schmeichel'\u001b[0m\u001b[0;34m,\u001b[0m \u001b[0;34m'Faxe'\u001b[0m\u001b[0;34m]\u001b[0m\u001b[0;34m)\u001b[0m\u001b[0;34m\u001b[0m\u001b[0m\n\u001b[0;32m----> 7\u001b[0;31m \u001b[0mlen\u001b[0m\u001b[0;34m(\u001b[0m\u001b[0mdenmark92\u001b[0m\u001b[0;34m)\u001b[0m\u001b[0;34m\u001b[0m\u001b[0m\n\u001b[0m",
      "\u001b[0;31mTypeError\u001b[0m: object of type 'Team' has no len()"
     ]
    }
   ],
   "source": [
    "class Team:\n",
    "    def __init__(self, sport, players):\n",
    "        self.sport = sport\n",
    "        self.players = players\n",
    "        \n",
    "denmark92 = Team('football', [\"Vilfort\", 'Schmeichel', 'Faxe'])\n",
    "len(denmark92)"
   ]
  },
  {
   "cell_type": "code",
   "execution_count": 145,
   "metadata": {},
   "outputs": [
    {
     "ename": "TypeError",
     "evalue": "argument of type 'Team' is not iterable",
     "output_type": "error",
     "traceback": [
      "\u001b[0;31m---------------------------------------------------------------------------\u001b[0m",
      "\u001b[0;31mTypeError\u001b[0m                                 Traceback (most recent call last)",
      "\u001b[0;32m<ipython-input-145-729caf8f4fc7>\u001b[0m in \u001b[0;36m<module>\u001b[0;34m()\u001b[0m\n\u001b[1;32m      9\u001b[0m \u001b[0mdenmark92\u001b[0m \u001b[0;34m=\u001b[0m \u001b[0mTeam\u001b[0m\u001b[0;34m(\u001b[0m\u001b[0;34m'football'\u001b[0m\u001b[0;34m,\u001b[0m \u001b[0;34m[\u001b[0m\u001b[0;34m\"Vilfort\"\u001b[0m\u001b[0;34m,\u001b[0m \u001b[0;34m'Schmeichel'\u001b[0m\u001b[0;34m,\u001b[0m \u001b[0;34m'Faxe'\u001b[0m\u001b[0;34m]\u001b[0m\u001b[0;34m)\u001b[0m\u001b[0;34m\u001b[0m\u001b[0m\n\u001b[1;32m     10\u001b[0m \u001b[0mlen\u001b[0m\u001b[0;34m(\u001b[0m\u001b[0mdenmark92\u001b[0m\u001b[0;34m)\u001b[0m\u001b[0;34m\u001b[0m\u001b[0m\n\u001b[0;32m---> 11\u001b[0;31m \u001b[0;34m'Vilfort'\u001b[0m \u001b[0;32min\u001b[0m \u001b[0mdenmark92\u001b[0m\u001b[0;34m\u001b[0m\u001b[0m\n\u001b[0m",
      "\u001b[0;31mTypeError\u001b[0m: argument of type 'Team' is not iterable"
     ]
    }
   ],
   "source": [
    "class Team:\n",
    "    def __init__(self, sport, players):\n",
    "        self.sport = sport\n",
    "        self.players = players\n",
    "        \n",
    "    def __len__(self):\n",
    "        return len(self.players)\n",
    "        \n",
    "denmark92 = Team('football', [\"Vilfort\", 'Schmeichel', 'Faxe'])\n",
    "len(denmark92)\n",
    "'Vilfort' in denmark92"
   ]
  },
  {
   "cell_type": "code",
   "execution_count": 148,
   "metadata": {},
   "outputs": [
    {
     "name": "stdout",
     "output_type": "stream",
     "text": [
      "football team\n"
     ]
    }
   ],
   "source": [
    "class Team:\n",
    "    def __init__(self, sport, players):\n",
    "        self.sport = sport\n",
    "        self.players = players\n",
    "        \n",
    "    def __len__(self):\n",
    "        return len(self.players)\n",
    "    \n",
    "    def __contains__(self, player):\n",
    "        return player in self.players\n",
    "    \n",
    "    def __repr__(self):\n",
    "        return f'{self.sport} team'\n",
    "        \n",
    "denmark92 = Team('football', [\"Vilfort\", 'Schmeichel', 'Faxe'])\n",
    "len(denmark92)\n",
    "'Vilfort' in denmark92\n",
    "print(denmark92)"
   ]
  },
  {
   "cell_type": "markdown",
   "metadata": {},
   "source": [
    "## KNN"
   ]
  },
  {
   "cell_type": "code",
   "execution_count": 1,
   "metadata": {
    "collapsed": true
   },
   "outputs": [],
   "source": [
    "X = [[5.1, 3.5],\n",
    "       [4.9, 3. ],\n",
    "       [4.7, 3.2],\n",
    "       [4.6, 3.1],\n",
    "       [5. , 3.6],\n",
    "       [5.4, 3.9],\n",
    "       [4.6, 3.4],\n",
    "       [5. , 3.4],\n",
    "       [4.4, 2.9],\n",
    "       [4.9, 3.1],\n",
    "       [5.4, 3.7],\n",
    "       [4.8, 3.4],\n",
    "       [4.8, 3. ],\n",
    "       [4.3, 3. ],\n",
    "       [5.8, 4. ],\n",
    "       [5.7, 4.4],\n",
    "       [5.4, 3.9],\n",
    "       [5.1, 3.5],\n",
    "       [5.7, 3.8],\n",
    "       [5.1, 3.8],\n",
    "       [5.4, 3.4],\n",
    "       [5.1, 3.7],\n",
    "       [4.6, 3.6],\n",
    "       [5.1, 3.3],\n",
    "       [4.8, 3.4],\n",
    "       [5. , 3. ],\n",
    "       [5. , 3.4],\n",
    "       [5.2, 3.5],\n",
    "       [5.2, 3.4],\n",
    "       [4.7, 3.2],\n",
    "       [4.8, 3.1],\n",
    "       [5.4, 3.4],\n",
    "       [5.2, 4.1],\n",
    "       [5.5, 4.2],\n",
    "       [4.9, 3.1],\n",
    "       [5. , 3.2],\n",
    "       [5.5, 3.5],\n",
    "       [4.9, 3.1],\n",
    "       [4.4, 3. ],\n",
    "       [5.1, 3.4],\n",
    "       [5. , 3.5],\n",
    "       [4.5, 2.3],\n",
    "       [4.4, 3.2],\n",
    "       [5. , 3.5],\n",
    "       [5.1, 3.8],\n",
    "       [4.8, 3. ],\n",
    "       [5.1, 3.8],\n",
    "       [4.6, 3.2],\n",
    "       [5.3, 3.7],\n",
    "       [5. , 3.3],\n",
    "       [7. , 3.2],\n",
    "       [6.4, 3.2],\n",
    "       [6.9, 3.1],\n",
    "       [5.5, 2.3],\n",
    "       [6.5, 2.8],\n",
    "       [5.7, 2.8],\n",
    "       [6.3, 3.3],\n",
    "       [4.9, 2.4],\n",
    "       [6.6, 2.9],\n",
    "       [5.2, 2.7],\n",
    "       [5. , 2. ],\n",
    "       [5.9, 3. ],\n",
    "       [6. , 2.2],\n",
    "       [6.1, 2.9],\n",
    "       [5.6, 2.9],\n",
    "       [6.7, 3.1],\n",
    "       [5.6, 3. ],\n",
    "       [5.8, 2.7],\n",
    "       [6.2, 2.2],\n",
    "       [5.6, 2.5],\n",
    "       [5.9, 3.2],\n",
    "       [6.1, 2.8],\n",
    "       [6.3, 2.5],\n",
    "       [6.1, 2.8],\n",
    "       [6.4, 2.9],\n",
    "       [6.6, 3. ],\n",
    "       [6.8, 2.8],\n",
    "       [6.7, 3. ],\n",
    "       [6. , 2.9],\n",
    "       [5.7, 2.6],\n",
    "       [5.5, 2.4],\n",
    "       [5.5, 2.4],\n",
    "       [5.8, 2.7],\n",
    "       [6. , 2.7],\n",
    "       [5.4, 3. ],\n",
    "       [6. , 3.4],\n",
    "       [6.7, 3.1],\n",
    "       [6.3, 2.3],\n",
    "       [5.6, 3. ],\n",
    "       [5.5, 2.5],\n",
    "       [5.5, 2.6],\n",
    "       [6.1, 3. ],\n",
    "       [5.8, 2.6],\n",
    "       [5. , 2.3],\n",
    "       [5.6, 2.7],\n",
    "       [5.7, 3. ],\n",
    "       [5.7, 2.9],\n",
    "       [6.2, 2.9],\n",
    "       [5.1, 2.5],\n",
    "       [5.7, 2.8],\n",
    "       [6.3, 3.3],\n",
    "       [5.8, 2.7],\n",
    "       [7.1, 3. ],\n",
    "       [6.3, 2.9],\n",
    "       [6.5, 3. ],\n",
    "       [7.6, 3. ],\n",
    "       [4.9, 2.5],\n",
    "       [7.3, 2.9],\n",
    "       [6.7, 2.5],\n",
    "       [7.2, 3.6],\n",
    "       [6.5, 3.2],\n",
    "       [6.4, 2.7],\n",
    "       [6.8, 3. ],\n",
    "       [5.7, 2.5],\n",
    "       [5.8, 2.8],\n",
    "       [6.4, 3.2],\n",
    "       [6.5, 3. ],\n",
    "       [7.7, 3.8],\n",
    "       [7.7, 2.6],\n",
    "       [6. , 2.2],\n",
    "       [6.9, 3.2],\n",
    "       [5.6, 2.8],\n",
    "       [7.7, 2.8],\n",
    "       [6.3, 2.7],\n",
    "       [6.7, 3.3],\n",
    "       [7.2, 3.2],\n",
    "       [6.2, 2.8],\n",
    "       [6.1, 3. ],\n",
    "       [6.4, 2.8],\n",
    "       [7.2, 3. ],\n",
    "       [7.4, 2.8],\n",
    "       [7.9, 3.8],\n",
    "       [6.4, 2.8],\n",
    "       [6.3, 2.8],\n",
    "       [6.1, 2.6],\n",
    "       [7.7, 3. ],\n",
    "       [6.3, 3.4],\n",
    "       [6.4, 3.1],\n",
    "       [6. , 3. ],\n",
    "       [6.9, 3.1],\n",
    "       [6.7, 3.1],\n",
    "       [6.9, 3.1],\n",
    "       [5.8, 2.7],\n",
    "       [6.8, 3.2],\n",
    "       [6.7, 3.3],\n",
    "       [6.7, 3. ],\n",
    "       [6.3, 2.5],\n",
    "       [6.5, 3. ],\n",
    "       [6.2, 3.4],\n",
    "       [5.9, 3. ]]\n",
    " \n",
    "y = ['Iris-setosa', 'Iris-setosa', 'Iris-setosa', 'Iris-setosa',\n",
    "       'Iris-setosa', 'Iris-setosa', 'Iris-setosa', 'Iris-setosa',\n",
    "       'Iris-setosa', 'Iris-setosa', 'Iris-setosa', 'Iris-setosa',\n",
    "       'Iris-setosa', 'Iris-setosa', 'Iris-setosa', 'Iris-setosa',\n",
    "       'Iris-setosa', 'Iris-setosa', 'Iris-setosa', 'Iris-setosa',\n",
    "       'Iris-setosa', 'Iris-setosa', 'Iris-setosa', 'Iris-setosa',\n",
    "       'Iris-setosa', 'Iris-setosa', 'Iris-setosa', 'Iris-setosa',\n",
    "       'Iris-setosa', 'Iris-setosa', 'Iris-setosa', 'Iris-setosa',\n",
    "       'Iris-setosa', 'Iris-setosa', 'Iris-setosa', 'Iris-setosa',\n",
    "       'Iris-setosa', 'Iris-setosa', 'Iris-setosa', 'Iris-setosa',\n",
    "       'Iris-setosa', 'Iris-setosa', 'Iris-setosa', 'Iris-setosa',\n",
    "       'Iris-setosa', 'Iris-setosa', 'Iris-setosa', 'Iris-setosa',\n",
    "       'Iris-setosa', 'Iris-setosa', 'Iris-versicolor', 'Iris-versicolor',\n",
    "       'Iris-versicolor', 'Iris-versicolor', 'Iris-versicolor',\n",
    "       'Iris-versicolor', 'Iris-versicolor', 'Iris-versicolor',\n",
    "       'Iris-versicolor', 'Iris-versicolor', 'Iris-versicolor',\n",
    "       'Iris-versicolor', 'Iris-versicolor', 'Iris-versicolor',\n",
    "       'Iris-versicolor', 'Iris-versicolor', 'Iris-versicolor',\n",
    "       'Iris-versicolor', 'Iris-versicolor', 'Iris-versicolor',\n",
    "       'Iris-versicolor', 'Iris-versicolor', 'Iris-versicolor',\n",
    "       'Iris-versicolor', 'Iris-versicolor', 'Iris-versicolor',\n",
    "       'Iris-versicolor', 'Iris-versicolor', 'Iris-versicolor',\n",
    "       'Iris-versicolor', 'Iris-versicolor', 'Iris-versicolor',\n",
    "       'Iris-versicolor', 'Iris-versicolor', 'Iris-versicolor',\n",
    "       'Iris-versicolor', 'Iris-versicolor', 'Iris-versicolor',\n",
    "       'Iris-versicolor', 'Iris-versicolor', 'Iris-versicolor',\n",
    "       'Iris-versicolor', 'Iris-versicolor', 'Iris-versicolor',\n",
    "       'Iris-versicolor', 'Iris-versicolor', 'Iris-versicolor',\n",
    "       'Iris-versicolor', 'Iris-versicolor', 'Iris-versicolor',\n",
    "       'Iris-virginica', 'Iris-virginica', 'Iris-virginica',\n",
    "       'Iris-virginica', 'Iris-virginica', 'Iris-virginica',\n",
    "       'Iris-virginica', 'Iris-virginica', 'Iris-virginica',\n",
    "       'Iris-virginica', 'Iris-virginica', 'Iris-virginica',\n",
    "       'Iris-virginica', 'Iris-virginica', 'Iris-virginica',\n",
    "       'Iris-virginica', 'Iris-virginica', 'Iris-virginica',\n",
    "       'Iris-virginica', 'Iris-virginica', 'Iris-virginica',\n",
    "       'Iris-virginica', 'Iris-virginica', 'Iris-virginica',\n",
    "       'Iris-virginica', 'Iris-virginica', 'Iris-virginica',\n",
    "       'Iris-virginica', 'Iris-virginica', 'Iris-virginica',\n",
    "       'Iris-virginica', 'Iris-virginica', 'Iris-virginica',\n",
    "       'Iris-virginica', 'Iris-virginica', 'Iris-virginica',\n",
    "       'Iris-virginica', 'Iris-virginica', 'Iris-virginica',\n",
    "       'Iris-virginica', 'Iris-virginica', 'Iris-virginica',\n",
    "       'Iris-virginica', 'Iris-virginica', 'Iris-virginica',\n",
    "       'Iris-virginica', 'Iris-virginica', 'Iris-virginica',\n",
    "       'Iris-virginica', 'Iris-virginica']"
   ]
  },
  {
   "cell_type": "code",
   "execution_count": 2,
   "metadata": {
    "collapsed": true
   },
   "outputs": [],
   "source": [
    "from sklearn.model_selection import train_test_split\n",
    "\n",
    "X_train, X_test, y_train, y_test = train_test_split(X, y, test_size=0.2, random_state=42)"
   ]
  },
  {
   "cell_type": "code",
   "execution_count": 3,
   "metadata": {
    "collapsed": true
   },
   "outputs": [],
   "source": [
    "def dist(a, b):\n",
    "    return ((a[0]-b[0])**2 + (a[1]-b[1])**2)**0.5"
   ]
  },
  {
   "cell_type": "code",
   "execution_count": 10,
   "metadata": {
    "collapsed": true
   },
   "outputs": [],
   "source": [
    "def predict(X_train, y_train, x_test, k):\n",
    "    distances = []\n",
    "    targets = {}\n",
    "    \n",
    "    for i in range(len(X_train)):\n",
    "        distances.append([dist(x_test, X_train[i]), i])\n",
    "        \n",
    "    distances = sorted(distances)\n",
    "    for i in range(k):\n",
    "        index = distances[i][1]\n",
    "        if targets.get(y_train[index]) != None:\n",
    "            targets[y_train[index]] += 1\n",
    "            \n",
    "        else:\n",
    "            targets[y_train[index]] = 1\n",
    "        \n",
    "    return max(targets, key = targets.get)"
   ]
  },
  {
   "cell_type": "code",
   "execution_count": 11,
   "metadata": {},
   "outputs": [
    {
     "name": "stdout",
     "output_type": "stream",
     "text": [
      "Iris-versicolor\n",
      "Iris-setosa\n",
      "Iris-virginica\n",
      "Iris-versicolor\n",
      "Iris-versicolor\n",
      "Iris-setosa\n",
      "Iris-versicolor\n",
      "Iris-virginica\n",
      "Iris-versicolor\n",
      "Iris-virginica\n",
      "Iris-virginica\n",
      "Iris-setosa\n",
      "Iris-setosa\n",
      "Iris-setosa\n",
      "Iris-setosa\n",
      "Iris-virginica\n",
      "Iris-virginica\n",
      "Iris-versicolor\n",
      "Iris-virginica\n",
      "Iris-virginica\n",
      "Iris-setosa\n",
      "Iris-versicolor\n",
      "Iris-setosa\n",
      "Iris-virginica\n",
      "Iris-virginica\n",
      "Iris-versicolor\n",
      "Iris-versicolor\n",
      "Iris-virginica\n",
      "Iris-setosa\n",
      "Iris-setosa\n"
     ]
    }
   ],
   "source": [
    "for x in X_test:\n",
    "    print(predict(X_train, y_train, x, 5))"
   ]
  },
  {
   "cell_type": "code",
   "execution_count": 12,
   "metadata": {
    "collapsed": true
   },
   "outputs": [],
   "source": [
    "colors = []\n",
    "for c in y_train:\n",
    "    if c == \"Iris-setosa\":\n",
    "        colors.append(0)\n",
    "    elif c == \"Iris-versicolor\":\n",
    "        colors.append(1)\n",
    "    else:\n",
    "        colors.append(2)    "
   ]
  },
  {
   "cell_type": "code",
   "execution_count": 14,
   "metadata": {},
   "outputs": [
    {
     "data": {
      "text/plain": [
       "<matplotlib.collections.PathCollection at 0x106b11438>"
      ]
     },
     "execution_count": 14,
     "metadata": {},
     "output_type": "execute_result"
    },
    {
     "data": {
      "image/png": "[encoded data removed]",
      "text/plain": [
       "<matplotlib.figure.Figure at 0x10f1c0c88>"
      ]
     },
     "metadata": {},
     "output_type": "display_data"
    }
   ],
   "source": [
    "import matplotlib.pyplot as plt\n",
    "%matplotlib inline\n",
    "plt.scatter([row[0] for row in X_train], [row[1] for row in X_train], c = colors)"
   ]
  },
  {
   "cell_type": "code",
   "execution_count": 18,
   "metadata": {},
   "outputs": [
    {
     "name": "stdout",
     "output_type": "stream",
     "text": [
      "['Iris-versicolor', 'Iris-setosa', 'Iris-virginica', 'Iris-versicolor', 'Iris-versicolor', 'Iris-setosa', 'Iris-versicolor', 'Iris-virginica', 'Iris-versicolor', 'Iris-virginica', 'Iris-virginica', 'Iris-setosa', 'Iris-setosa', 'Iris-setosa', 'Iris-setosa', 'Iris-virginica', 'Iris-virginica', 'Iris-versicolor', 'Iris-versicolor', 'Iris-versicolor', 'Iris-setosa', 'Iris-versicolor', 'Iris-setosa', 'Iris-versicolor', 'Iris-virginica', 'Iris-versicolor', 'Iris-virginica', 'Iris-virginica', 'Iris-setosa', 'Iris-setosa']\n"
     ]
    }
   ],
   "source": [
    "predictions = []\n",
    "k = 3\n",
    "for i in range(len(X_test)):\n",
    "    predictions.append(predict(X_train, y_train, X_test[i], k))\n",
    "print(predictions)"
   ]
  },
  {
   "cell_type": "code",
   "execution_count": 21,
   "metadata": {},
   "outputs": [
    {
     "data": {
      "text/plain": [
       "False"
      ]
     },
     "execution_count": 21,
     "metadata": {},
     "output_type": "execute_result"
    }
   ],
   "source": [
    "y_test == predictions"
   ]
  },
  {
   "cell_type": "code",
   "execution_count": 26,
   "metadata": {
    "collapsed": true
   },
   "outputs": [],
   "source": [
    "colors = []\n",
    "for c in predictions:\n",
    "    if c == \"Iris-setosa\":\n",
    "        colors.append(0)\n",
    "    elif c == \"Iris-versicolor\":\n",
    "        colors.append(1)\n",
    "    else:\n",
    "        colors.append(2) \n",
    "        \n",
    "        \n",
    "colors_actual = []\n",
    "for c in y_test:\n",
    "    if c == \"Iris-setosa\":\n",
    "        colors_actual.append(0)\n",
    "    elif c == \"Iris-versicolor\":\n",
    "        colors_actual.append(1)\n",
    "    else:\n",
    "        colors_actual.append(2) "
   ]
  },
  {
   "cell_type": "code",
   "execution_count": 27,
   "metadata": {},
   "outputs": [
    {
     "data": {
      "image/png": "[encoded data removed]",
      "text/plain": [
       "<matplotlib.figure.Figure at 0x1125b9a58>"
      ]
     },
     "metadata": {},
     "output_type": "display_data"
    }
   ],
   "source": [
    "import matplotlib.pyplot as plt\n",
    "%matplotlib inline\n",
    "plt.scatter([row[0] for row in X_test], [row[1] for row in X_test], c = colors)\n",
    "plt.title('Iris Predicted')\n",
    "plt.show()"
   ]
  },
  {
   "cell_type": "code",
   "execution_count": 28,
   "metadata": {},
   "outputs": [
    {
     "data": {
      "image/png": "[encoded data removed]",
      "text/plain": [
       "<matplotlib.figure.Figure at 0x112c11240>"
      ]
     },
     "metadata": {},
     "output_type": "display_data"
    }
   ],
   "source": [
    "plt.scatter([row[0] for row in X_test], [row[1] for row in X_test], c = colors_actual)\n",
    "plt.title('Iris Actual')\n",
    "plt.show()"
   ]
  },
  {
   "cell_type": "code",
   "execution_count": 30,
   "metadata": {},
   "outputs": [
    {
     "name": "stdout",
     "output_type": "stream",
     "text": [
      "0.8\n"
     ]
    }
   ],
   "source": [
    "correct = 0\n",
    "for i in range(len(y_test)):\n",
    "    if y_test[i] == predictions[i]:\n",
    "        correct += 1\n",
    "print(correct / len(y_test))"
   ]
  },
  {
   "cell_type": "code",
   "execution_count": 67,
   "metadata": {},
   "outputs": [],
   "source": [
    "class kNN:\n",
    "    \"\"\"\"\n",
    "    kNN классификатор\n",
    "    Возвращает предсказание для k соседей\n",
    "    \"\"\"\n",
    "    \n",
    "    def __init__(self, k):\n",
    "        self.X_train = None\n",
    "        self.y_train = None\n",
    "        self.k = k\n",
    "        self.predictions = []\n",
    "    \n",
    "    @staticmethod\n",
    "    def _dist(a, b):\n",
    "        \"\"\" \n",
    "        Считает евклидово расстояние для двумерных векторов\n",
    "        Возвращает float\n",
    "        \"\"\"\n",
    "        return ((a[0]-b[0])**2 + (a[1]-b[1])**2)**0.5\n",
    "    \n",
    "    @staticmethod\n",
    "    def score(y_test, predictions):\n",
    "        correct = 0\n",
    "        for i in range(len(y_test)):\n",
    "            if y_test[i] == predictions[i]:\n",
    "                correct += 1\n",
    "        return print(correct / len(y_test))\n",
    "    \n",
    "    \n",
    "    \n",
    "    def fit(self, X_train, y_train):\n",
    "        self.X_train = X_train\n",
    "        self.y_train = y_train\n",
    "        \n",
    "    def predict(self, X_test):\n",
    "        \n",
    "        for j in range(len(X_test)):\n",
    "            distances = []\n",
    "            targets = {}\n",
    "\n",
    "            for i in range(len(self.X_train)):\n",
    "                distances.append([self._dist(X_test[j], self.X_train[i]), i])\n",
    "\n",
    "            distances = sorted(distances)\n",
    "            \n",
    "            for i in range(self.k):\n",
    "                index = distances[i][1]\n",
    "                if targets.get(self.y_train[index]) != None:\n",
    "                    targets[self.y_train[index]] += 1\n",
    "                else:\n",
    "                    targets[y_train[index]] = 1\n",
    "            self.predictions.append(max(targets, key = targets.get))\n",
    "        \n",
    "        return self.predictions\n",
    "    \n",
    "    def plot(self, y_test):\n",
    "        colors = []\n",
    "        for c in self.predictions:\n",
    "            if c == \"Iris-setosa\":\n",
    "                colors.append(0)\n",
    "            elif c == \"Iris-versicolor\":\n",
    "                colors.append(1)\n",
    "            else:\n",
    "                colors.append(2) \n",
    "\n",
    "\n",
    "        colors_actual = []\n",
    "        for c in y_test:\n",
    "            if c == \"Iris-setosa\":\n",
    "                colors_actual.append(0)\n",
    "            elif c == \"Iris-versicolor\":\n",
    "                colors_actual.append(1)\n",
    "            else:\n",
    "                colors_actual.append(2) \n",
    "\n",
    "                \n",
    "        plt.scatter([row[0] for row in X_test], [row[1] for row in X_test], c = colors)\n",
    "        plt.title('Iris Predicted')\n",
    "        plt.show()\n",
    "\n",
    "        plt.scatter([row[0] for row in X_test], [row[1] for row in X_test], c = colors_actual)\n",
    "        plt.title('Iris Actual')\n",
    "        plt.show()"
   ]
  },
  {
   "cell_type": "code",
   "execution_count": 66,
   "metadata": {},
   "outputs": [
    {
     "name": "stdout",
     "output_type": "stream",
     "text": [
      "0.8\n",
      "0.8\n",
      "0.8\n",
      "0.8\n",
      "0.8\n",
      "0.8\n",
      "0.8\n",
      "0.8\n"
     ]
    }
   ],
   "source": [
    "for i in range(2, 10):\n",
    "    test = kNN(i)\n",
    "    test.fit(X_train, y_train)\n",
    "    predictions  = test.predict(X_test)\n",
    "    test.score(y_test, predictions)"
   ]
  },
  {
   "cell_type": "code",
   "execution_count": 68,
   "metadata": {},
   "outputs": [
    {
     "data": {
      "image/png": "[encoded data removed]",
      "text/plain": [
       "<matplotlib.figure.Figure at 0x112d02c50>"
      ]
     },
     "metadata": {},
     "output_type": "display_data"
    },
    {
     "data": {
      "image/png": "[encoded data removed]",
      "text/plain": [
       "<matplotlib.figure.Figure at 0x112b96fd0>"
      ]
     },
     "metadata": {},
     "output_type": "display_data"
    }
   ],
   "source": [
    "test = kNN(7)\n",
    "test.fit(X_train, y_train)\n",
    "predictions  = test.predict(X_test)\n",
    "test.plot(y_test)"
   ]
  },
  {
   "cell_type": "code",
   "execution_count": null,
   "metadata": {
    "collapsed": true
   },
   "outputs": [],
   "source": []
  }
 ],
 "metadata": {
  "kernelspec": {
   "display_name": "Python 3",
   "language": "python",
   "name": "python3"
  },
  "language_info": {
   "codemirror_mode": {
    "name": "ipython",
    "version": 3
   },
   "file_extension": ".py",
   "mimetype": "text/x-python",
   "name": "python",
   "nbconvert_exporter": "python",
   "pygments_lexer": "ipython3",
   "version": "3.6.1"
  }
 },
 "nbformat": 4,
 "nbformat_minor": 2
}
