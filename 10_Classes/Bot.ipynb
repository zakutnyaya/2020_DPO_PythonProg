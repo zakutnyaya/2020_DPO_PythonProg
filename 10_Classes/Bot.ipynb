{
 "cells": [
  {
   "cell_type": "code",
   "execution_count": 1,
   "metadata": {},
   "outputs": [
    {
     "name": "stdout",
     "output_type": "stream",
     "text": [
      "Collecting pyTelegramBotAPI\n",
      "  Downloading pyTelegramBotAPI-3.6.7.tar.gz (65 kB)\n",
      "\u001b[K     |████████████████████████████████| 65 kB 68 kB/s eta 0:00:011\n",
      "\u001b[?25hRequirement already satisfied: requests in ./anaconda/lib/python3.6/site-packages (from pyTelegramBotAPI) (2.22.0)\n",
      "Requirement already satisfied: six in ./anaconda/lib/python3.6/site-packages (from pyTelegramBotAPI) (1.14.0)\n",
      "Requirement already satisfied: urllib3!=1.25.0,!=1.25.1,<1.26,>=1.21.1 in ./anaconda/lib/python3.6/site-packages (from requests->pyTelegramBotAPI) (1.25.7)\n",
      "Requirement already satisfied: certifi>=2017.4.17 in ./anaconda/lib/python3.6/site-packages (from requests->pyTelegramBotAPI) (2019.11.28)\n",
      "Requirement already satisfied: idna<2.9,>=2.5 in ./anaconda/lib/python3.6/site-packages (from requests->pyTelegramBotAPI) (2.6)\n",
      "Requirement already satisfied: chardet<3.1.0,>=3.0.2 in ./anaconda/lib/python3.6/site-packages (from requests->pyTelegramBotAPI) (3.0.4)\n",
      "Building wheels for collected packages: pyTelegramBotAPI\n",
      "  Building wheel for pyTelegramBotAPI (setup.py) ... \u001b[?25ldone\n",
      "\u001b[?25h  Created wheel for pyTelegramBotAPI: filename=pyTelegramBotAPI-3.6.7-py3-none-any.whl size=58074 sha256=2c98afb9ad0a9d6e9401529adc72dec1ba730294bd25468d6a1d3040125fa8f5\n",
      "  Stored in directory: /Users/pro/Library/Caches/pip/wheels/00/8f/a6/5302cb9bee0b25fb1cc10f509cdb088464c907d67c61481df5\n",
      "Successfully built pyTelegramBotAPI\n",
      "Installing collected packages: pyTelegramBotAPI\n",
      "Successfully installed pyTelegramBotAPI-3.6.7\n"
     ]
    }
   ],
   "source": [
    "!pip install pyTelegramBotAPI"
   ]
  },
  {
   "cell_type": "code",
   "execution_count": null,
   "metadata": {
    "collapsed": true
   },
   "outputs": [],
   "source": [
    "import telebot\n",
    "\n",
    "with open('token.txt') as fh:\n",
    "    token = fh.read().strip()\n",
    "bot = telebot.TeleBot(token)"
   ]
  },
  {
   "cell_type": "code",
   "execution_count": null,
   "metadata": {
    "collapsed": true
   },
   "outputs": [],
   "source": [
    "@bot.message_handler(content_types = ['text'])\n",
    "def get_text_message(message):\n",
    "    if message.text == 'Hi':\n",
    "        bot.send_message(message.form_user.id, 'Привет, чем могу помочь?')\n",
    "    else:\n",
    "        bot.send_message(message.from_user.id, 'Не понимаю, напиши \"Привет\"')\n",
    "        \n",
    "# отправляет на сервер телеграма запрос, поступили ли сообщения\n",
    "# none_stop - бот постоянно на связи с сервером\n",
    "bot.polling(none_stop = True, interval = 0)"
   ]
  },
  {
   "cell_type": "code",
   "execution_count": 3,
   "metadata": {},
   "outputs": [
    {
     "ename": "FileNotFoundError",
     "evalue": "[Errno 2] No such file or directory: 'token.txt'",
     "output_type": "error",
     "traceback": [
      "\u001b[0;31m---------------------------------------------------------------------------\u001b[0m",
      "\u001b[0;31mFileNotFoundError\u001b[0m                         Traceback (most recent call last)",
      "\u001b[0;32m<ipython-input-3-9a5008297052>\u001b[0m in \u001b[0;36m<module>\u001b[0;34m()\u001b[0m\n\u001b[1;32m      5\u001b[0m \u001b[0;32mimport\u001b[0m \u001b[0mpandas\u001b[0m \u001b[0;32mas\u001b[0m \u001b[0mpd\u001b[0m\u001b[0;34m\u001b[0m\u001b[0m\n\u001b[1;32m      6\u001b[0m \u001b[0;34m\u001b[0m\u001b[0m\n\u001b[0;32m----> 7\u001b[0;31m \u001b[0;32mwith\u001b[0m \u001b[0mopen\u001b[0m\u001b[0;34m(\u001b[0m\u001b[0;34m'token.txt'\u001b[0m\u001b[0;34m)\u001b[0m \u001b[0;32mas\u001b[0m \u001b[0mfh\u001b[0m\u001b[0;34m:\u001b[0m\u001b[0;34m\u001b[0m\u001b[0m\n\u001b[0m\u001b[1;32m      8\u001b[0m     \u001b[0mtoken\u001b[0m \u001b[0;34m=\u001b[0m \u001b[0mfh\u001b[0m\u001b[0;34m.\u001b[0m\u001b[0mread\u001b[0m\u001b[0;34m(\u001b[0m\u001b[0;34m)\u001b[0m\u001b[0;34m.\u001b[0m\u001b[0mstrip\u001b[0m\u001b[0;34m(\u001b[0m\u001b[0;34m)\u001b[0m\u001b[0;34m\u001b[0m\u001b[0m\n\u001b[1;32m      9\u001b[0m \u001b[0mbot\u001b[0m \u001b[0;34m=\u001b[0m \u001b[0mtelebot\u001b[0m\u001b[0;34m.\u001b[0m\u001b[0mTeleBot\u001b[0m\u001b[0;34m(\u001b[0m\u001b[0mtoken\u001b[0m\u001b[0;34m)\u001b[0m\u001b[0;34m\u001b[0m\u001b[0m\n",
      "\u001b[0;31mFileNotFoundError\u001b[0m: [Errno 2] No such file or directory: 'token.txt'"
     ]
    }
   ],
   "source": [
    "import telebot\n",
    "import bs4\n",
    "import requests\n",
    "import re\n",
    "import pandas as pd\n",
    "\n",
    "with open('token.txt') as fh:\n",
    "    token = fh.read().strip()\n",
    "bot = telebot.TeleBot(token)\n",
    "\n",
    "parsed = False\n",
    "supportd = ['France', 'China', 'Italy', 'Russia']\n",
    "\n",
    "@bot.message_handler(commands=['start'])\n",
    "def show_start(message):\n",
    "    bot.send_message(message.from_user.id, 'Добрый день. ДЛя парсинга нажмите /parse')\n",
    "    \n",
    "@bot.\n",
    "    \n",
    "bot.polling(none_stop=True, interval=0)"
   ]
  },
  {
   "cell_type": "code",
   "execution_count": 5,
   "metadata": {},
   "outputs": [
    {
     "name": "stdout",
     "output_type": "stream",
     "text": [
      "Russia\n"
     ]
    }
   ],
   "source": [
    "country = input() \n",
    "url = f'https://www.worldometers.info/coronavirus/country/{country}'\n",
    "soup = bs4.BeautifulSoup(requests.get(url).text, 'lxml')"
   ]
  },
  {
   "cell_type": "code",
   "execution_count": 12,
   "metadata": {},
   "outputs": [],
   "source": [
    "dates_cases = []\n",
    "cases = []\n",
    "for graph in soup.find_all('script', {'type': 'text/javascript'}):\n",
    "    if 'Daily New Cases' in str(graph):\n",
    "        dates_cases = re.findall(r'categories: \\[([\\w\\s\",]+)', str(graph))\n",
    "        cases = re.findall(r'data: \\[([\\w])]')"
   ]
  },
  {
   "cell_type": "code",
   "execution_count": 13,
   "metadata": {},
   "outputs": [
    {
     "data": {
      "text/plain": [
       "['\"Feb 15\",\"Feb 16\",\"Feb 17\",\"Feb 18\",\"Feb 19\",\"Feb 20\",\"Feb 21\",\"Feb 22\",\"Feb 23\",\"Feb 24\",\"Feb 25\",\"Feb 26\",\"Feb 27\",\"Feb 28\",\"Feb 29\",\"Mar 01\",\"Mar 02\",\"Mar 03\",\"Mar 04\",\"Mar 05\",\"Mar 06\",\"Mar 07\",\"Mar 08\",\"Mar 09\",\"Mar 10\",\"Mar 11\",\"Mar 12\",\"Mar 13\",\"Mar 14\",\"Mar 15\",\"Mar 16\",\"Mar 17\",\"Mar 18\",\"Mar 19\",\"Mar 20\",\"Mar 21\",\"Mar 22\",\"Mar 23\",\"Mar 24\",\"Mar 25\",\"Mar 26\",\"Mar 27\",\"Mar 28\",\"Mar 29\",\"Mar 30\",\"Mar 31\",\"Apr 01\",\"Apr 02\",\"Apr 03\",\"Apr 04\",\"Apr 05\",\"Apr 06\",\"Apr 07\",\"Apr 08\",\"Apr 09\",\"Apr 10\",\"Apr 11\",\"Apr 12\",\"Apr 13\",\"Apr 14\",\"Apr 15\",\"Apr 16\",\"Apr 17\",\"Apr 18\",\"Apr 19\",\"Apr 20\",\"Apr 21\",\"Apr 22\",\"Apr 23\",\"Apr 24\"']"
      ]
     },
     "execution_count": 13,
     "metadata": {},
     "output_type": "execute_result"
    }
   ],
   "source": [
    "dates_cases"
   ]
  },
  {
   "cell_type": "code",
   "execution_count": null,
   "metadata": {
    "collapsed": true
   },
   "outputs": [],
   "source": []
  }
 ],
 "metadata": {
  "kernelspec": {
   "display_name": "Python 3",
   "language": "python",
   "name": "python3"
  },
  "language_info": {
   "codemirror_mode": {
    "name": "ipython",
    "version": 3
   },
   "file_extension": ".py",
   "mimetype": "text/x-python",
   "name": "python",
   "nbconvert_exporter": "python",
   "pygments_lexer": "ipython3",
   "version": "3.6.1"
  }
 },
 "nbformat": 4,
 "nbformat_minor": 2
}
