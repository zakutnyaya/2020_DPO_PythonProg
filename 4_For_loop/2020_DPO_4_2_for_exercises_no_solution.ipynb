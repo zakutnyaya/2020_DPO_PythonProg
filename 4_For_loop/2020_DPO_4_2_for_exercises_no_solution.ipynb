{
 "cells": [
  {
   "cell_type": "markdown",
   "metadata": {},
   "source": [
    "Центр непрерывного образования\n",
    "\n",
    "# Программа «Python для автоматизации и анализа данных»\n",
    "\n",
    "Неделя 3 - 1\n",
    "\n",
    "*Ян Пиле, НИУ ВШЭ*  \n"
   ]
  },
  {
   "cell_type": "markdown",
   "metadata": {},
   "source": [
    "## Задачи"
   ]
  },
  {
   "cell_type": "markdown",
   "metadata": {},
   "source": [
    "### Задача 1\n",
    "\n",
    "Дана строка, состоящая из слов. Сделать из нее аббревиатуру с помощью списковых включений\n",
    "\n",
    "**Вход:** \"Комитет Государственной Безопасности\"\n",
    "\n",
    "**Выход:** \"КГБ\""
   ]
  },
  {
   "cell_type": "code",
   "execution_count": 1,
   "metadata": {},
   "outputs": [
    {
     "name": "stdout",
     "output_type": "stream",
     "text": [
      "КГБ\n"
     ]
    }
   ],
   "source": [
    "text = \"Комитет Государственной Безопасности\"\n",
    "\n",
    "x = ''\n",
    "for letter in text:\n",
    "    if letter.isupper():\n",
    "        x += letter\n",
    "print(x)"
   ]
  },
  {
   "cell_type": "code",
   "execution_count": 3,
   "metadata": {},
   "outputs": [
    {
     "data": {
      "text/plain": [
       "'КГБ'"
      ]
     },
     "execution_count": 3,
     "metadata": {},
     "output_type": "execute_result"
    }
   ],
   "source": [
    "import re\n",
    "''.join(re.findall(r'[А-Я]', text))"
   ]
  },
  {
   "cell_type": "markdown",
   "metadata": {},
   "source": [
    "### Задача 2\n",
    "\n",
    "На вход принимается число N. \n",
    "\n",
    "Выведите на печать следующий паттерн:\n",
    "\n",
    "1\n",
    "\n",
    "1 2\n",
    "\n",
    "1 2 3\n",
    "\n",
    "1 2 3 4\n",
    "\n",
    "...\n",
    "\n",
    "1 ... N\n",
    "\n",
    "**Это не так просто)**"
   ]
  },
  {
   "cell_type": "code",
   "execution_count": 65,
   "metadata": {},
   "outputs": [
    {
     "name": "stdout",
     "output_type": "stream",
     "text": [
      "10\n"
     ]
    }
   ],
   "source": [
    "n = int(input())"
   ]
  },
  {
   "cell_type": "code",
   "execution_count": 68,
   "metadata": {},
   "outputs": [
    {
     "name": "stdout",
     "output_type": "stream",
     "text": [
      "0\n",
      "0 1\n",
      "0 1 2\n",
      "0 1 2 3\n",
      "0 1 2 3 4\n",
      "0 1 2 3 4 5\n",
      "0 1 2 3 4 5 6\n",
      "0 1 2 3 4 5 6 7\n",
      "0 1 2 3 4 5 6 7 8\n",
      "0 1 2 3 4 5 6 7 8 9\n",
      "0 1 2 3 4 5 6 7 8 9 10\n"
     ]
    }
   ],
   "source": [
    "l = []\n",
    "for i in range(n+1):\n",
    "    l += [i]\n",
    "    # l.append(number)\n",
    "    print(*l)"
   ]
  },
  {
   "cell_type": "code",
   "execution_count": 70,
   "metadata": {},
   "outputs": [
    {
     "name": "stdout",
     "output_type": "stream",
     "text": [
      "1\n",
      "1 2\n",
      "1 2 3\n",
      "1 2 3 4\n",
      "1 2 3 4 5\n",
      "1 2 3 4 5 6\n",
      "1 2 3 4 5 6 7\n",
      "1 2 3 4 5 6 7 8\n",
      "1 2 3 4 5 6 7 8 9\n",
      "1 2 3 4 5 6 7 8 9 10\n"
     ]
    }
   ],
   "source": [
    "n = 10\n",
    "for number in range(1, n+1):\n",
    "    print(*range(1, number+1))"
   ]
  },
  {
   "cell_type": "markdown",
   "metadata": {},
   "source": [
    "### Задача 3\n",
    "\n",
    "Дана строка. Замените в ней все буквы А на # с помощью спискового включения.\n"
   ]
  },
  {
   "cell_type": "code",
   "execution_count": 58,
   "metadata": {
    "collapsed": true
   },
   "outputs": [],
   "source": [
    "phrase = \"АБАЖУР, АБАЗИНСКИЙ, АБАЗИНЫ, АББАТ, АББАТИСА, АББАТСТВО\""
   ]
  },
  {
   "cell_type": "code",
   "execution_count": 59,
   "metadata": {},
   "outputs": [
    {
     "data": {
      "text/plain": [
       "'#Б#ЖУР, #Б#ЗИНСКИЙ, #Б#ЗИНЫ, #ББ#Т, #ББ#ТИС#, #ББ#ТСТВО'"
      ]
     },
     "execution_count": 59,
     "metadata": {},
     "output_type": "execute_result"
    }
   ],
   "source": [
    "phrase.replace('А', '#')"
   ]
  },
  {
   "cell_type": "code",
   "execution_count": 64,
   "metadata": {},
   "outputs": [
    {
     "data": {
      "text/plain": [
       "'#Б#ЖУР,#Б#ЗИНСКИЙ,#Б#ЗИНЫ,#ББ#Т,#ББ#ТИС#,#ББ#ТСТВО'"
      ]
     },
     "execution_count": 64,
     "metadata": {},
     "output_type": "execute_result"
    }
   ],
   "source": [
    "''.join([p.replace('А', '#') for p in phrase.split()])"
   ]
  },
  {
   "cell_type": "markdown",
   "metadata": {},
   "source": [
    "### Задача 4\n",
    "\n",
    "В математике существует так называемая последовательность чисел Фибоначчи. Выглядит она так: 1, 1, 2, 3, 5, 8, 13, ...\n",
    "\n",
    "Каждое последующее число равно сумме двух предыдущих, а первые два числа Фибоначчи - две единицы.\n",
    "Запросите с клавиатуры число N и запишите в список первые N чисел Фибоначчи."
   ]
  },
  {
   "cell_type": "code",
   "execution_count": 24,
   "metadata": {},
   "outputs": [
    {
     "name": "stdout",
     "output_type": "stream",
     "text": [
      "Сколько чисел Фибоначи нужно сгенерировать?15\n"
     ]
    }
   ],
   "source": [
    "N = int(input('Сколько чисел Фибоначи нужно сгенерировать?'))"
   ]
  },
  {
   "cell_type": "code",
   "execution_count": 45,
   "metadata": {},
   "outputs": [
    {
     "name": "stdout",
     "output_type": "stream",
     "text": [
      "1 1 2 3 5 8 13 21 34 55 89 144 233 377 610\n"
     ]
    }
   ],
   "source": [
    "fibonacci = [1, 1]\n",
    "n = 0\n",
    "while len(fibonacci) < N:\n",
    "    fibonacci.append(fibonacci[-1] + fibonacci[-2])\n",
    "    n += 1\n",
    "print(*fibonacci)"
   ]
  },
  {
   "cell_type": "markdown",
   "metadata": {},
   "source": [
    "### Задача 5 Подсчет слов\n",
    "Давайте теперь поработаем с настоящим файлом и действительно посчитаем в нем слова. Мы загрузим метаданные почтового сервера университета Мичигана. И попробуем найти, с какого адреса ушло больше всего писем."
   ]
  },
  {
   "cell_type": "code",
   "execution_count": 21,
   "metadata": {
    "collapsed": true
   },
   "outputs": [],
   "source": [
    "# импортируем библиотеку для доступа к файлам в интернете\n",
    "import requests\n",
    "# в переменной mbox хранится текст для работы\n",
    "mbox = requests.get('http://www.py4inf.com/code/mbox.txt').text"
   ]
  },
  {
   "cell_type": "code",
   "execution_count": 31,
   "metadata": {},
   "outputs": [
    {
     "data": {
      "text/plain": [
       "132046"
      ]
     },
     "execution_count": 31,
     "metadata": {},
     "output_type": "execute_result"
    }
   ],
   "source": [
    "mbox_list = mbox.split('\\n')\n",
    "len(mbox_list)"
   ]
  },
  {
   "cell_type": "code",
   "execution_count": 32,
   "metadata": {},
   "outputs": [
    {
     "data": {
      "text/plain": [
       "{'a.fish@lancaster.ac.uk': 14,\n",
       " 'aaronz@vt.edu': 110,\n",
       " 'ajpoland@iupui.edu': 48,\n",
       " 'antranig@caret.cam.ac.uk': 18,\n",
       " 'arwhyte@umich.edu': 27,\n",
       " 'bahollad@indiana.edu': 4,\n",
       " 'bkirschn@umich.edu': 27,\n",
       " 'chmaurer@iupui.edu': 111,\n",
       " 'colin.clark@utoronto.ca': 1,\n",
       " 'csev@umich.edu': 19,\n",
       " 'cwen@iupui.edu': 158,\n",
       " 'david.horwitz@uct.ac.za': 67,\n",
       " 'dlhaines@umich.edu': 84,\n",
       " 'gbhatnag@umich.edu': 3,\n",
       " 'ggolden@umich.edu': 8,\n",
       " 'gjthomas@iupui.edu': 44,\n",
       " 'gopal.ramasammycook@gmail.com': 25,\n",
       " 'gsilver@umich.edu': 28,\n",
       " 'hu2@iupui.edu': 7,\n",
       " 'ian@caret.cam.ac.uk': 96,\n",
       " 'jimeng@umich.edu': 93,\n",
       " 'jleasia@umich.edu': 2,\n",
       " 'jlrenfro@ucdavis.edu': 1,\n",
       " 'john.ellis@rsmart.com': 8,\n",
       " 'josrodri@iupui.edu': 28,\n",
       " 'jzaremba@unicon.net': 9,\n",
       " 'kimsooil@bu.edu': 14,\n",
       " 'knoop@umich.edu': 5,\n",
       " 'ktsao@stanford.edu': 12,\n",
       " 'lance@indiana.edu': 8,\n",
       " 'louis@media.berkeley.edu': 24,\n",
       " 'mbreuker@loi.nl': 9,\n",
       " 'mmmay@indiana.edu': 161,\n",
       " 'nuno@ufp.pt': 28,\n",
       " 'ostermmg@whitman.edu': 17,\n",
       " 'ray@media.berkeley.edu': 32,\n",
       " 'rjlowe@iupui.edu': 90,\n",
       " 'sgithens@caret.cam.ac.uk': 43,\n",
       " 'ssmail@indiana.edu': 5,\n",
       " 'stephen.marquard@uct.ac.za': 29,\n",
       " 'stuart.freeman@et.gatech.edu': 17,\n",
       " 'thoppaymallika@fhda.edu': 1,\n",
       " 'tnguyen@iupui.edu': 6,\n",
       " 'wagnermr@iupui.edu': 44,\n",
       " 'zach.thomas@txstate.edu': 17,\n",
       " 'zqian@umich.edu': 195}"
      ]
     },
     "execution_count": 32,
     "metadata": {},
     "output_type": "execute_result"
    }
   ],
   "source": [
    "emails = {}\n",
    "for line in mbox_list:\n",
    "    if line.startswith('From '):\n",
    "        email = line.split()[1]\n",
    "        if email in emails:\n",
    "            emails[email] += 1\n",
    "        else:\n",
    "            emails[email] = 1\n",
    "\n",
    "emails"
   ]
  },
  {
   "cell_type": "code",
   "execution_count": 33,
   "metadata": {},
   "outputs": [
    {
     "name": "stdout",
     "output_type": "stream",
     "text": [
      "zqian@umich.edu 195\n"
     ]
    }
   ],
   "source": [
    "# самый активный имейл\n",
    "for key in emails:\n",
    "    if emails[key] == max(emails.values()):\n",
    "        print(key, emails[key])"
   ]
  },
  {
   "cell_type": "code",
   "execution_count": 34,
   "metadata": {},
   "outputs": [
    {
     "name": "stdout",
     "output_type": "stream",
     "text": [
      "jlrenfro@ucdavis.edu 1\n",
      "thoppaymallika@fhda.edu 1\n",
      "colin.clark@utoronto.ca 1\n",
      "jleasia@umich.edu 2\n",
      "gbhatnag@umich.edu 3\n",
      "bahollad@indiana.edu 4\n",
      "knoop@umich.edu 5\n",
      "ssmail@indiana.edu 5\n",
      "tnguyen@iupui.edu 6\n",
      "hu2@iupui.edu 7\n",
      "lance@indiana.edu 8\n",
      "john.ellis@rsmart.com 8\n",
      "ggolden@umich.edu 8\n",
      "jzaremba@unicon.net 9\n",
      "mbreuker@loi.nl 9\n",
      "ktsao@stanford.edu 12\n",
      "a.fish@lancaster.ac.uk 14\n",
      "kimsooil@bu.edu 14\n",
      "stuart.freeman@et.gatech.edu 17\n",
      "zach.thomas@txstate.edu 17\n",
      "ostermmg@whitman.edu 17\n",
      "antranig@caret.cam.ac.uk 18\n",
      "csev@umich.edu 19\n",
      "louis@media.berkeley.edu 24\n",
      "gopal.ramasammycook@gmail.com 25\n",
      "bkirschn@umich.edu 27\n",
      "arwhyte@umich.edu 27\n",
      "gsilver@umich.edu 28\n",
      "josrodri@iupui.edu 28\n",
      "nuno@ufp.pt 28\n",
      "stephen.marquard@uct.ac.za 29\n",
      "ray@media.berkeley.edu 32\n",
      "sgithens@caret.cam.ac.uk 43\n",
      "wagnermr@iupui.edu 44\n",
      "gjthomas@iupui.edu 44\n",
      "ajpoland@iupui.edu 48\n",
      "david.horwitz@uct.ac.za 67\n",
      "dlhaines@umich.edu 84\n",
      "rjlowe@iupui.edu 90\n",
      "jimeng@umich.edu 93\n",
      "ian@caret.cam.ac.uk 96\n",
      "aaronz@vt.edu 110\n",
      "chmaurer@iupui.edu 111\n",
      "cwen@iupui.edu 158\n",
      "mmmay@indiana.edu 161\n",
      "zqian@umich.edu 195\n"
     ]
    }
   ],
   "source": [
    "# сортировка\n",
    "for value in sorted(set(emails.values())):\n",
    "    for key in emails:\n",
    "        if emails[key] == value:\n",
    "            print(key, value)"
   ]
  },
  {
   "cell_type": "markdown",
   "metadata": {},
   "source": [
    "### Задача 6 Посчитать среднюю метрику X-DSPAM-Confidence для письма. \n",
    "### (Кажется, это что-то похожее на вероятность того, что письмо - не спам)\n",
    "\n",
    "Давайте воспользуемся предыдущим кодом и достанем те строчки, где эта метрика записана:"
   ]
  },
  {
   "cell_type": "code",
   "execution_count": 1,
   "metadata": {
    "collapsed": true
   },
   "outputs": [],
   "source": [
    "# импортируем библиотеку для доступа к файлам в интернете\n",
    "import requests\n",
    "# в переменной mbox хранится текст для работы\n",
    "mbox = requests.get('http://www.py4inf.com/code/mbox.txt').text"
   ]
  },
  {
   "cell_type": "code",
   "execution_count": 2,
   "metadata": {
    "collapsed": true
   },
   "outputs": [],
   "source": [
    "mbox_list = mbox.split('\\n')"
   ]
  },
  {
   "cell_type": "code",
   "execution_count": 9,
   "metadata": {
    "collapsed": true
   },
   "outputs": [],
   "source": [
    "X_DSPAM_Confidence =[]\n",
    "for line in mbox_list:\n",
    "    if line.startswith('X-DSPAM-Confidence'):\n",
    "        X_DSPAM_Confidence.append(float(line[line.rfind(':')+1:]))"
   ]
  },
  {
   "cell_type": "code",
   "execution_count": 42,
   "metadata": {
    "collapsed": true
   },
   "outputs": [],
   "source": [
    "X_DSPAM_Confidence =[]\n",
    "for line in mbox_list:\n",
    "    if line.startswith('X-DSPAM-Confidence'):\n",
    "        X_DSPAM_Confidence.append(float(line.split()[1]))"
   ]
  },
  {
   "cell_type": "code",
   "execution_count": 43,
   "metadata": {},
   "outputs": [
    {
     "data": {
      "text/plain": [
       "0.8941280467445736"
      ]
     },
     "execution_count": 43,
     "metadata": {},
     "output_type": "execute_result"
    }
   ],
   "source": [
    "sum(X_DSPAM_Confidence)/len(X_DSPAM_Confidence)"
   ]
  },
  {
   "cell_type": "markdown",
   "metadata": {},
   "source": [
    "### Задача 7 Объединение словарей\n",
    "\n",
    "Напишите программу, которая объединяет значения из двух списков.\n",
    "\n",
    "Ввод:\n",
    "\n",
    "    shops = [{'товар': 'яблоки', 'количество': 400}, {'товар': 'конфеты', 'количество': 300}, {'товар': 'яблоки', 'количество': 750}]\n",
    "\n",
    "\n",
    "Вывод:\n",
    "\n",
    "    {'яблоки': 1150, 'конфеты': 300}"
   ]
  },
  {
   "cell_type": "code",
   "execution_count": 44,
   "metadata": {
    "collapsed": true
   },
   "outputs": [],
   "source": [
    "shops = [{'товар': 'яблоки', 'количество': 400}, \n",
    "         {'товар': 'конфеты', 'количество': 300}, \n",
    "         {'товар': 'яблоки', 'количество': 750}]"
   ]
  },
  {
   "cell_type": "code",
   "execution_count": 50,
   "metadata": {},
   "outputs": [
    {
     "name": "stdout",
     "output_type": "stream",
     "text": [
      "яблоки\n",
      "конфеты\n",
      "яблоки\n",
      "{'яблоки': 1150, 'конфеты': 300}\n"
     ]
    }
   ],
   "source": [
    "new = {}\n",
    "\n",
    "for shop in shops:\n",
    "    print(shop['товар'])\n",
    "    if shop['товар'] in new:\n",
    "        new[shop['товар']] += shop['количество']\n",
    "    else:\n",
    "        new[shop['товар']] = shop['количество']\n",
    "print(new)"
   ]
  },
  {
   "cell_type": "code",
   "execution_count": 52,
   "metadata": {},
   "outputs": [
    {
     "name": "stdout",
     "output_type": "stream",
     "text": [
      "{'яблоки': 400}\n",
      "{'яблоки': 400, 'конфеты': 300}\n",
      "{'яблоки': 1150, 'конфеты': 300}\n"
     ]
    }
   ],
   "source": [
    "new = {}\n",
    "\n",
    "# если такой ключ есть, \n",
    "for shop in shops:\n",
    "    new[shop['товар']] = new.get(shop['товар'], 0) + shop['количество']\n",
    "    print(new)"
   ]
  },
  {
   "cell_type": "markdown",
   "metadata": {},
   "source": [
    "### Задача 8 Найти все числа от 1000 до 3000 включительно, все цифры которых четные.\n",
    "\n",
    "Программа должна выдавать результат в виде разделенной запятыми строки"
   ]
  },
  {
   "cell_type": "code",
   "execution_count": 28,
   "metadata": {},
   "outputs": [
    {
     "data": {
      "text/plain": [
       "1"
      ]
     },
     "execution_count": 28,
     "metadata": {},
     "output_type": "execute_result"
    }
   ],
   "source": [
    "int(1234 / 1000)"
   ]
  },
  {
   "cell_type": "code",
   "execution_count": 35,
   "metadata": {
    "collapsed": true
   },
   "outputs": [],
   "source": [
    "even_numbers = []\n",
    "for n in range(1000, 3001):\n",
    "    if (n % 10 % 2 ) == (n % 100 // 10 % 2) == (n % 1000 // 100 % 2) == (int(n / 1000) % 2) == 0.0:\n",
    "        even_numbers.append(n)"
   ]
  },
  {
   "cell_type": "code",
   "execution_count": 38,
   "metadata": {},
   "outputs": [
    {
     "name": "stdout",
     "output_type": "stream",
     "text": [
      "[2000, 2002, 2004, 2006, 2008, 2020, 2022, 2024, 2026, 2028, 2040, 2042, 2044, 2046, 2048, 2060, 2062, 2064, 2066, 2068, 2080, 2082, 2084, 2086, 2088, 2200, 2202, 2204, 2206, 2208, 2220, 2222, 2224, 2226, 2228, 2240, 2242, 2244, 2246, 2248, 2260, 2262, 2264, 2266, 2268, 2280, 2282, 2284, 2286, 2288, 2400, 2402, 2404, 2406, 2408, 2420, 2422, 2424, 2426, 2428, 2440, 2442, 2444, 2446, 2448, 2460, 2462, 2464, 2466, 2468, 2480, 2482, 2484, 2486, 2488, 2600, 2602, 2604, 2606, 2608, 2620, 2622, 2624, 2626, 2628, 2640, 2642, 2644, 2646, 2648, 2660, 2662, 2664, 2666, 2668, 2680, 2682, 2684, 2686, 2688, 2800, 2802, 2804, 2806, 2808, 2820, 2822, 2824, 2826, 2828, 2840, 2842, 2844, 2846, 2848, 2860, 2862, 2864, 2866, 2868, 2880, 2882, 2884, 2886, 2888]\n"
     ]
    }
   ],
   "source": [
    "print(even_numbers)"
   ]
  },
  {
   "cell_type": "markdown",
   "metadata": {},
   "source": [
    "### Задача 9 Найти количество цифр и количество букв в строке\n",
    "\n",
    "Вход: \"абвгд 234\"\n",
    "\n",
    "\n",
    "Выход:\n",
    "\n",
    "    Цифры: 3\n",
    "    Буквы: 5"
   ]
  },
  {
   "cell_type": "code",
   "execution_count": null,
   "metadata": {
    "collapsed": true
   },
   "outputs": [],
   "source": [
    "text = input()\n",
    "\n",
    "letters = []\n",
    "numbers = [] \n",
    "\n",
    "for symbol in text:\n",
    "    if symbol.isalpha():\n",
    "        letters.append(symbol)\n",
    "    elif symbol.isdigit():\n",
    "        numbers.append(symbol)\n",
    "print(len(letters), len(numbers))"
   ]
  },
  {
   "cell_type": "markdown",
   "metadata": {},
   "source": [
    "### Задача 10 Найти частоту слов в строке. Строка вводится с клавиатуры, допустим, она разделена пробелами\n",
    "\n",
    "Вход: \"Я не кидал никого никогда\"\n",
    "\n",
    "\n",
    "Выход:\n",
    "\n",
    "    Я:1\n",
    "    не:1\n",
    "    кидал:1\n",
    "    никого:1\n",
    "    никогда:1"
   ]
  },
  {
   "cell_type": "code",
   "execution_count": 47,
   "metadata": {},
   "outputs": [
    {
     "name": "stdout",
     "output_type": "stream",
     "text": [
      "Я не кидал никого никогда\n"
     ]
    }
   ],
   "source": [
    "text = input().split()"
   ]
  },
  {
   "cell_type": "code",
   "execution_count": 49,
   "metadata": {},
   "outputs": [
    {
     "name": "stdout",
     "output_type": "stream",
     "text": [
      "Я: 1\n",
      "не: 1\n",
      "кидал: 1\n",
      "никого: 1\n",
      "никогда: 1\n"
     ]
    }
   ],
   "source": [
    "count = 0\n",
    "for word in text:\n",
    "    print(f'{word}: {text.count(word)}')"
   ]
  },
  {
   "cell_type": "markdown",
   "metadata": {},
   "source": [
    "### Задача 12 Про Поросёнка Петра\n",
    "\n",
    "На плоскости в точке (0,0) стоит Поросёнок Пётр. Он умеет ходить налево, направо, вверх и вниз. Расстояние его прохода в какую-либо сторону измеряется в шагах. Когда он идет вправо, его первая координата увеличивается, когда влево - уменьшается. Когда он идет вверх, его вторая координата увеличивается, а когда вниз - уменьшается. \n",
    "\n",
    "С клавиатуры считывается число N - число ходов, которые сделает Пётр. После чего на каждом шаге спрашивается, сколько шагов и в какую сторону за этот ход Пётр сделает. Так происходит, пока Пётр не осуществит все N ходов.\n",
    "\n",
    "Программа должна вывести, сколько шагов Пётр должен был бы сделать, чтобы кратчайшим путем прибыть из свое начальной точки (0,0) в свою конечную точку. Напоминание: Пётр умеет ходить только вверх-вниз, и влево-вправо, но не по диагонали.\n",
    "\n",
    "Пример ввода: \n",
    "\n",
    "    Введите N: 3\n",
    "    Ход 1: Вверх 1\n",
    "    Ход 2: Вниз 1\n",
    "    Ход 3: Вверх 1\n",
    "    \n",
    "Пример вывода:\n",
    "\n",
    "    Пётр находится на расстоянии 1 от (0,0)"
   ]
  },
  {
   "cell_type": "code",
   "execution_count": 50,
   "metadata": {},
   "outputs": [
    {
     "name": "stdout",
     "output_type": "stream",
     "text": [
      "Введите N: 3\n"
     ]
    }
   ],
   "source": [
    "N = int(input('Введите N: '))"
   ]
  },
  {
   "cell_type": "code",
   "execution_count": null,
   "metadata": {
    "collapsed": true
   },
   "outputs": [],
   "source": [
    "x = 0\n",
    "y = 0\n",
    "for n in range(N):\n",
    "    move = input(f'Ход {n+1}: ').split()\n",
    "    if move[0] == 'Вверх':\n",
    "        y += int(move[1])\n",
    "    elif move[0] == 'Вниз':\n",
    "        y -= int(move[1])\n",
    "    elif move[0] == 'Вправо':\n",
    "        x += int(move[1])\n",
    "    else:\n",
    "        x -= int(move[1])\n",
    "        \n",
    "print(f'Петр находится на расстоянии {sum([abs(x), abs(y)])} от (0,0)')"
   ]
  }
 ],
 "metadata": {
  "kernelspec": {
   "display_name": "Python 3",
   "language": "python",
   "name": "python3"
  },
  "language_info": {
   "codemirror_mode": {
    "name": "ipython",
    "version": 3
   },
   "file_extension": ".py",
   "mimetype": "text/x-python",
   "name": "python",
   "nbconvert_exporter": "python",
   "pygments_lexer": "ipython3",
   "version": "3.6.1"
  }
 },
 "nbformat": 4,
 "nbformat_minor": 2
}
