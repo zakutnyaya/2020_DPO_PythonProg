{
 "cells": [
  {
   "cell_type": "markdown",
   "metadata": {},
   "source": [
    "Центр непрерывного образования\n",
    "\n",
    "# Программа «Python для автоматизации и анализа данных»\n",
    "\n",
    "Неделя 3 - 1\n",
    "\n",
    "*Ян Пиле, НИУ ВШЭ*  \n"
   ]
  },
  {
   "cell_type": "markdown",
   "metadata": {},
   "source": [
    "## Задачи"
   ]
  },
  {
   "cell_type": "markdown",
   "metadata": {},
   "source": [
    "### Задача 1\n",
    "\n",
    "Дана строка, состоящая из слов. Сделать из нее аббревиатуру с помощью списковых включений\n",
    "\n",
    "**Вход:** \"Комитет Государственной Безопасности\"\n",
    "\n",
    "**Выход:** \"КГБ\""
   ]
  },
  {
   "cell_type": "code",
   "execution_count": 1,
   "metadata": {},
   "outputs": [
    {
     "data": {
      "text/plain": [
       "'КГБ'"
      ]
     },
     "execution_count": 1,
     "metadata": {},
     "output_type": "execute_result"
    }
   ],
   "source": [
    "text = \"Комитет Государственной Безопасности\"\n",
    "# решение\n",
    "''.join([x[0] for x in text.split()])"
   ]
  },
  {
   "cell_type": "markdown",
   "metadata": {},
   "source": [
    "### Задача 2\n",
    "\n",
    "На вход принимается число N. \n",
    "\n",
    "Выведите на печать следующий паттерн с помощью цикла for:\n",
    "\n",
    "1\n",
    "\n",
    "1 2\n",
    "\n",
    "1 2 3\n",
    "\n",
    "1 2 3 4\n",
    "\n",
    "...\n",
    "\n",
    "1 ... N"
   ]
  },
  {
   "cell_type": "code",
   "execution_count": 5,
   "metadata": {},
   "outputs": [
    {
     "name": "stdout",
     "output_type": "stream",
     "text": [
      "\n",
      "1\n",
      "1 2\n",
      "1 2 3\n",
      "1 2 3 4\n",
      "1 2 3 4 5\n",
      "1 2 3 4 5 6\n",
      "1 2 3 4 5 6 7\n",
      "1 2 3 4 5 6 7 8\n",
      "1 2 3 4 5 6 7 8 9\n",
      "1 2 3 4 5 6 7 8 9 10\n"
     ]
    }
   ],
   "source": [
    "# ваше решение здесь\n",
    "n = int(input())\n",
    "\n",
    "for i in range(11):\n",
    "    print(*[x for x in range(1,i+1)])"
   ]
  },
  {
   "cell_type": "markdown",
   "metadata": {},
   "source": [
    "### Задача 3\n",
    "\n",
    "Дана строка. Замените в ней все буквы А на # с помощью спискового включения.\n"
   ]
  },
  {
   "cell_type": "code",
   "execution_count": 6,
   "metadata": {},
   "outputs": [
    {
     "data": {
      "text/plain": [
       "'#Б#ЖУР, #Б#ЗИНСКИЙ, #Б#ЗИНЫ, #ББ#Т, #ББ#ТИС#, #ББ#ТСТВО'"
      ]
     },
     "execution_count": 6,
     "metadata": {},
     "output_type": "execute_result"
    }
   ],
   "source": [
    "phrase = \"АБАЖУР, АБАЗИНСКИЙ, АБАЗИНЫ, АББАТ, АББАТИСА, АББАТСТВО\"\n",
    "# ваше решение здесь\n",
    "''.join(['#' if i == 'А' else i for i in phrase])"
   ]
  },
  {
   "cell_type": "markdown",
   "metadata": {},
   "source": [
    "### Задача 4. Подсчет слов\n",
    "Давайте теперь поработаем с настоящим файлом и действительно посчитаем в нем слова. Мы загрузим метаданные почтового сервера университета Мичигана. И попробуем найти, с какого адреса ушло больше всего писем. Автор письма находится в строке, которая начинается с 'From '.\n",
    "\n",
    "Бонус: выведите все адреса и количество отправленных писем, отсортированных по возрастанию количества писем"
   ]
  },
  {
   "cell_type": "code",
   "execution_count": 7,
   "metadata": {},
   "outputs": [],
   "source": [
    "# импортируем библиотеку для доступа к файлам в интернете\n",
    "import requests\n",
    "# в переменной mbox хранится текст для работы\n",
    "mbox = requests.get('http://www.py4inf.com/code/mbox.txt').text"
   ]
  },
  {
   "cell_type": "code",
   "execution_count": 12,
   "metadata": {},
   "outputs": [
    {
     "name": "stdout",
     "output_type": "stream",
     "text": [
      "zqian@umich.edu 195\n",
      "jlrenfro@ucdavis.edu 1\n",
      "thoppaymallika@fhda.edu 1\n",
      "colin.clark@utoronto.ca 1\n",
      "jlrenfro@ucdavis.edu 1\n",
      "thoppaymallika@fhda.edu 1\n",
      "colin.clark@utoronto.ca 1\n",
      "jlrenfro@ucdavis.edu 1\n",
      "thoppaymallika@fhda.edu 1\n",
      "colin.clark@utoronto.ca 1\n",
      "jleasia@umich.edu 2\n",
      "gbhatnag@umich.edu 3\n",
      "bahollad@indiana.edu 4\n",
      "knoop@umich.edu 5\n",
      "ssmail@indiana.edu 5\n",
      "knoop@umich.edu 5\n",
      "ssmail@indiana.edu 5\n",
      "tnguyen@iupui.edu 6\n",
      "hu2@iupui.edu 7\n",
      "lance@indiana.edu 8\n",
      "john.ellis@rsmart.com 8\n",
      "ggolden@umich.edu 8\n",
      "lance@indiana.edu 8\n",
      "john.ellis@rsmart.com 8\n",
      "ggolden@umich.edu 8\n",
      "lance@indiana.edu 8\n",
      "john.ellis@rsmart.com 8\n",
      "ggolden@umich.edu 8\n",
      "jzaremba@unicon.net 9\n",
      "mbreuker@loi.nl 9\n",
      "jzaremba@unicon.net 9\n",
      "mbreuker@loi.nl 9\n",
      "ktsao@stanford.edu 12\n",
      "a.fish@lancaster.ac.uk 14\n",
      "kimsooil@bu.edu 14\n",
      "a.fish@lancaster.ac.uk 14\n",
      "kimsooil@bu.edu 14\n",
      "stuart.freeman@et.gatech.edu 17\n",
      "zach.thomas@txstate.edu 17\n",
      "ostermmg@whitman.edu 17\n",
      "stuart.freeman@et.gatech.edu 17\n",
      "zach.thomas@txstate.edu 17\n",
      "ostermmg@whitman.edu 17\n",
      "stuart.freeman@et.gatech.edu 17\n",
      "zach.thomas@txstate.edu 17\n",
      "ostermmg@whitman.edu 17\n",
      "antranig@caret.cam.ac.uk 18\n",
      "csev@umich.edu 19\n",
      "louis@media.berkeley.edu 24\n",
      "gopal.ramasammycook@gmail.com 25\n",
      "bkirschn@umich.edu 27\n",
      "arwhyte@umich.edu 27\n",
      "bkirschn@umich.edu 27\n",
      "arwhyte@umich.edu 27\n",
      "gsilver@umich.edu 28\n",
      "josrodri@iupui.edu 28\n",
      "nuno@ufp.pt 28\n",
      "gsilver@umich.edu 28\n",
      "josrodri@iupui.edu 28\n",
      "nuno@ufp.pt 28\n",
      "gsilver@umich.edu 28\n",
      "josrodri@iupui.edu 28\n",
      "nuno@ufp.pt 28\n",
      "stephen.marquard@uct.ac.za 29\n",
      "ray@media.berkeley.edu 32\n",
      "sgithens@caret.cam.ac.uk 43\n",
      "wagnermr@iupui.edu 44\n",
      "gjthomas@iupui.edu 44\n",
      "wagnermr@iupui.edu 44\n",
      "gjthomas@iupui.edu 44\n",
      "ajpoland@iupui.edu 48\n",
      "david.horwitz@uct.ac.za 67\n",
      "dlhaines@umich.edu 84\n",
      "rjlowe@iupui.edu 90\n",
      "jimeng@umich.edu 93\n",
      "ian@caret.cam.ac.uk 96\n",
      "aaronz@vt.edu 110\n",
      "chmaurer@iupui.edu 111\n",
      "cwen@iupui.edu 158\n",
      "mmmay@indiana.edu 161\n",
      "zqian@umich.edu 195\n"
     ]
    }
   ],
   "source": [
    "# ваше решение здесь\n",
    "lines = mbox.split('\\n')\n",
    "emails = {}\n",
    "\n",
    "for line in lines:\n",
    "    if line.startswith('From '):\n",
    "        email = line.split()[1]\n",
    "        if email in emails:\n",
    "            emails[email] += 1\n",
    "        else:\n",
    "            emails[email] = 1\n",
    "            \n",
    "# выводим человека, который больше всего пишет\n",
    "for email in emails:\n",
    "    if emails[email] == max(emails.values()):\n",
    "        print(email, emails[email])\n",
    "        \n",
    "        \n",
    "# выводим все адреса по возрастанию количества отправленных писем\n",
    "for value in sorted(emails.values()):\n",
    "    for email in emails:\n",
    "        if emails[email] == value:\n",
    "            print(email, emails[email])"
   ]
  },
  {
   "cell_type": "markdown",
   "metadata": {},
   "source": [
    "### Задача 5. Посчитать среднюю метрику\n",
    "Работаем с тем же файлом. У каждого письма есть метрика X-DSPAM-Confidence - уверенность фильтра в том, что это письмо не спам. Нужно посчитать среднее значение этой метрики для всей переписки."
   ]
  },
  {
   "cell_type": "code",
   "execution_count": 17,
   "metadata": {},
   "outputs": [
    {
     "name": "stdout",
     "output_type": "stream",
     "text": [
      "Average X-DSPAM-Confidence: 0.8941\n"
     ]
    }
   ],
   "source": [
    "# импортируем библиотеку для доступа к файлам в интернете\n",
    "import requests\n",
    "# в переменной mbox хранится текст для работы\n",
    "mbox = requests.get('http://www.py4inf.com/code/mbox.txt').text\n",
    "# ваше решение здесь\n",
    "\n",
    "lines = mbox.split('\\n')\n",
    "spam = []\n",
    "\n",
    "for line in lines:\n",
    "    if line.startswith('X-DSPAM-Confidence'):\n",
    "        spam.append(float(line.split()[1]))\n",
    "        \n",
    "print(f'Average X-DSPAM-Confidence: {round(sum(spam)/len(spam), 4)}')"
   ]
  },
  {
   "cell_type": "markdown",
   "metadata": {},
   "source": [
    "### Задача 6. Объединение словарей\n",
    "\n",
    "Напишите программу, которая объединяет значения из двух списков.\n",
    "\n",
    "Ввод:\n",
    "\n",
    "    shops = [{'товар': 'яблоки', 'количество': 400}, {'товар': 'конфеты', 'количество': 300}, {'товар': 'яблоки', 'количество': 750}]\n",
    "\n",
    "\n",
    "Вывод:\n",
    "\n",
    "    {'яблоки': 1150, 'конфеты': 300}"
   ]
  },
  {
   "cell_type": "code",
   "execution_count": 19,
   "metadata": {},
   "outputs": [],
   "source": [
    "shops = [{'товар': 'яблоки', 'количество': 400}, \n",
    "         {'товар': 'конфеты', 'количество': 300}, \n",
    "         {'товар': 'яблоки', 'количество': 750}]"
   ]
  },
  {
   "cell_type": "code",
   "execution_count": 20,
   "metadata": {},
   "outputs": [
    {
     "name": "stdout",
     "output_type": "stream",
     "text": [
      "{'яблоки': 1150, 'конфеты': 300}\n"
     ]
    }
   ],
   "source": [
    "# ваше решение здесь\n",
    "total = {}\n",
    "for shop in shops:\n",
    "    total[shop['товар']] = total.get(shop['товар'], 0) + shop['количество']\n",
    "    \n",
    "print(total)"
   ]
  },
  {
   "cell_type": "markdown",
   "metadata": {},
   "source": [
    "### Задача 7.\n",
    "\n",
    "Найти все числа от 100 до 300 включительно, все цифры которых четные.\n",
    "\n",
    "Программа должна выдавать результат в виде разделенной запятыми строки"
   ]
  },
  {
   "cell_type": "code",
   "execution_count": 26,
   "metadata": {},
   "outputs": [
    {
     "name": "stdout",
     "output_type": "stream",
     "text": [
      "100,102,104,106,108,110,112,114,116,118,120,122,124,126,128,130,132,134,136,138,140,142,144,146,148,150,152,154,156,158,160,162,164,166,168,170,172,174,176,178,180,182,184,186,188,190,192,194,196,198,200,202,204,206,208,210,212,214,216,218,220,222,224,226,228,230,232,234,236,238,240,242,244,246,248,250,252,254,256,258,260,262,264,266,268,270,272,274,276,278,280,282,284,286,288,290,292,294,296,298,300\n"
     ]
    }
   ],
   "source": [
    "# ваше решение здесь\n",
    "print(','.join(map(str, range(100, 301, 2))))"
   ]
  },
  {
   "cell_type": "markdown",
   "metadata": {},
   "source": [
    "### Задача 8. \n",
    "\n",
    "Найти количество цифр и количество букв в строке\n",
    "\n",
    "Вход: \"абвгд 234\"\n",
    "\n",
    "\n",
    "Выход:\n",
    "\n",
    "    Цифры: 3\n",
    "    Буквы: 5"
   ]
  },
  {
   "cell_type": "code",
   "execution_count": 28,
   "metadata": {},
   "outputs": [
    {
     "name": "stdout",
     "output_type": "stream",
     "text": [
      "5\n",
      "3\n"
     ]
    }
   ],
   "source": [
    "# ваше решение здесь\n",
    "letters = []\n",
    "digits = []\n",
    "\n",
    "for symbol in \"абвгд 234\":\n",
    "    if symbol.isdigit():\n",
    "        digits.append(symbol)\n",
    "    elif symbol.isalpha():\n",
    "        letters.append(symbol)\n",
    "        \n",
    "print(len(letters))\n",
    "print(len(digits))"
   ]
  },
  {
   "cell_type": "markdown",
   "metadata": {},
   "source": [
    "### Задача 9. Про Поросёнка Петра\n",
    "\n",
    "На плоскости в точке (0,0) стоит Поросёнок Пётр. Он умеет ходить налево, направо, вверх и вниз. Расстояние его прохода в какую-либо сторону измеряется в шагах. Когда он идет вправо, его первая координата увеличивается, когда влево - уменьшается. Когда он идет вверх, его вторая координата увеличивается, а когда вниз - уменьшается. \n",
    "\n",
    "С клавиатуры считывается число N - число ходов, которые сделает Пётр. После чего на каждом шаге спрашивается, сколько шагов и в какую сторону за этот ход Пётр сделает. Так происходит, пока Пётр не осуществит все N ходов.\n",
    "\n",
    "Программа должна вывести, сколько шагов Пётр должен был бы сделать, чтобы кратчайшим путем прибыть из свое начальной точки (0,0) в свою конечную точку. Напоминание: Пётр умеет ходить только вверх-вниз, и влево-вправо, но не по диагонали.\n",
    "\n",
    "Пример ввода: \n",
    "\n",
    "    Введите N: 3\n",
    "    Ход 1: Вверх 1\n",
    "    Ход 2: Вниз 1\n",
    "    Ход 3: Вверх 1\n",
    "    \n",
    "Пример вывода:\n",
    "\n",
    "    Пётр находится на расстоянии 1 от (0,0)"
   ]
  },
  {
   "cell_type": "code",
   "execution_count": 29,
   "metadata": {},
   "outputs": [
    {
     "name": "stdout",
     "output_type": "stream",
     "text": [
      "Пётр находится на расстоянии 1 от (0,0)\n"
     ]
    }
   ],
   "source": [
    "# ваше решение здесь\n",
    "\n",
    "import re\n",
    "\n",
    "N = int(input('Введите число ходов:'))\n",
    "x = 0\n",
    "y = 0\n",
    "for i in range(N):\n",
    "    step = input(f'Ход {i+1}:').lower()\n",
    "    step_num = int(re.search(r'\\d+', step).group(0))\n",
    "    if 'вверх' in step:\n",
    "        x+=step_num\n",
    "    elif 'вниз' in step:\n",
    "        x-=step_num\n",
    "    elif 'влево' in step:\n",
    "        y-=step_num\n",
    "    else :\n",
    "        y+=step_num\n",
    "\n",
    "print(f'Пётр находится на расстоянии {x+y} от (0,0)')"
   ]
  },
  {
   "cell_type": "markdown",
   "metadata": {},
   "source": [
    "# Задача 10. Плэйлист\n",
    "\n",
    "У Васи есть плейлист. Необходимо сгруппировать названия песен по исполнителям. \n",
    "Необходимо вывести исполнителей и песни, отсортированные по алфавиту \n",
    "\n",
    "**Формат ввода:**\n",
    "\n",
    "Список исполнителей и песен в следующем формате:\n",
    "\n",
    "* Число исполнителей\n",
    "* Имя исполнителя: название песни 1, название песни 2 и т.д. \n",
    "* Имя каждого исполнителя и его песен вводится с новой строки \n",
    "* Названия песен перечислены через запятую \n",
    "\n",
    "**Формат вывода:**\n",
    "\n",
    "Список исполнителей и песен, сгруппированных по исполнителю:\n",
    "\n",
    "* Имя исполнителя: название песни 1, название песни 2 и т.д. \n",
    "* Имя каждого исполнителя и его песен вводится с новой строки \n",
    "* Названия песен перечислены через запятую \n",
    "\n",
    "*Пример:*\n",
    "\n",
    "**Ввод:**\n",
    "\n",
    "3\n",
    "\n",
    "Queen: bohemian rhapsody, a kind of magic \n",
    "\n",
    "The beatles: and I love her \n",
    "\n",
    "Queen: the show must go on, bohemian rhapsody\n",
    "\n",
    "**Вывод:**\n",
    "\n",
    "Queen: a kind of magic, bohemian rhapsody, the show must go on\n",
    "\n",
    "The beatles: and I love her"
   ]
  },
  {
   "cell_type": "code",
   "execution_count": 31,
   "metadata": {},
   "outputs": [
    {
     "name": "stdout",
     "output_type": "stream",
     "text": [
      "{'Queen': ['bohemian rhapsody', 'a kind of magic', 'the show must go on', 'bohemian rhapsody'], 'The beatles': ['and I love her']}\n"
     ]
    }
   ],
   "source": [
    "# ваше решение здесь\n",
    "n = int(input())\n",
    "music = {}\n",
    "\n",
    "for line in range(n):\n",
    "    x = input()\n",
    "    singer = x.split(':')[0] \n",
    "    if singer in music:\n",
    "        music[singer].extend(x.split(': ')[1].split(', '))\n",
    "    else:\n",
    "        music[singer] = x.split(': ')[1].split(', ')   \n",
    "print(music)"
   ]
  },
  {
   "cell_type": "code",
   "execution_count": 35,
   "metadata": {},
   "outputs": [
    {
     "name": "stdout",
     "output_type": "stream",
     "text": [
      "Queen: bohemian rhapsody,a kind of magic,the show must go on,bohemian rhapsody\n",
      "The beatles: and I love her\n"
     ]
    }
   ],
   "source": [
    "for key in sorted(music):\n",
    "    print(f'{key}: {\",\".join(music[key])}')"
   ]
  }
 ],
 "metadata": {
  "kernelspec": {
   "display_name": "Python 3",
   "language": "python",
   "name": "python3"
  },
  "language_info": {
   "codemirror_mode": {
    "name": "ipython",
    "version": 3
   },
   "file_extension": ".py",
   "mimetype": "text/x-python",
   "name": "python",
   "nbconvert_exporter": "python",
   "pygments_lexer": "ipython3",
   "version": "3.6.5"
  }
 },
 "nbformat": 4,
 "nbformat_minor": 2
}
