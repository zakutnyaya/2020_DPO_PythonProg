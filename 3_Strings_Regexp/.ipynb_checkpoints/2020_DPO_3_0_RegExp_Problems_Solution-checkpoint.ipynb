{
 "cells": [
  {
   "cell_type": "markdown",
   "metadata": {},
   "source": [
    "Центр непрерывного образования\n",
    "\n",
    "# Программа «Python для автоматизации и анализа данных»\n",
    "\n",
    "Неделя 2 - 1\n",
    "\n",
    "*Ян Пиле, Яндекс.Маркет*  \n",
    "\n",
    "# Задачки на регулярные выражения"
   ]
  },
  {
   "cell_type": "markdown",
   "metadata": {},
   "source": [
    "### Задачка про аббревиатуры\n",
    "Владимир устроился на работу в одно очень важное место. И в первом же документе он ничего не понял, \n",
    "там были сплошные ФГУП НИЦ ГИДГЕО, ФГОУ ЧШУ АПК и т.п. Тогда он решил собрать все аббревиатуры, чтобы потом найти их расшифровки на http://sokr.ru/. Помогите ему.\n",
    "Будем считать аббревиатурой слова только лишь из заглавных букв (как минимум из двух). Если несколько таких слов разделены пробелами, то они \n",
    "считаются одной аббревиатурой."
   ]
  },
  {
   "cell_type": "markdown",
   "metadata": {},
   "source": [
    "**Ввод**: Это курс информатики соответствует ФГОС и ПООП, это подтверждено ФГУ ФНЦ НИИСИ РАН\\\n",
    "**Вывод**: ФГОС, ПООП, ФГУ, ФНЦ, НИИСИ, РАН"
   ]
  },
  {
   "cell_type": "code",
   "execution_count": 1,
   "metadata": {},
   "outputs": [
    {
     "data": {
      "text/plain": [
       "['ФГОС', 'ПООП', 'ФГУ', 'ФНЦ', 'НИИСИ', 'РАН']"
      ]
     },
     "execution_count": 1,
     "metadata": {},
     "output_type": "execute_result"
    }
   ],
   "source": [
    "import re\n",
    "# Ваше решение\n",
    "x = 'Это курс информатики соответствует ФГОС и ПООП, это подтверждено ФГУ ФНЦ НИИСИ!! РАН'\n",
    "re.findall('[А-ЯЁ]{2,}', x)"
   ]
  },
  {
   "cell_type": "markdown",
   "metadata": {},
   "source": [
    "### Задачка про аббревиатуры 2\n",
    "Акростих — осмысленный текст, сложенный из начальных букв каждой строки стихотворения.\\\n",
    "Акроним — вид аббревиатуры, образованной начальными звуками (напр. НАТО, вуз, НАСА, ТАСС), которое можно произнести слитно (в отличие от аббревиатуры, которую произносят «по буквам», например: КГБ — «ка-гэ-бэ»).\\\n",
    "На вход даётся текст. Выведите слитно первые буквы каждого слова. Буквы необходимо выводить заглавными. \n",
    "Эту задачу можно решить в одну строчку."
   ]
  },
  {
   "cell_type": "code",
   "execution_count": 22,
   "metadata": {},
   "outputs": [
    {
     "data": {
      "text/plain": [
       "'КГБ'"
      ]
     },
     "execution_count": 22,
     "metadata": {},
     "output_type": "execute_result"
    }
   ],
   "source": [
    "import re\n",
    "# Ваше решение\n",
    "x = 'Комитет государственной Безопасности'\n",
    "name = ''.join(re.findall(r'(^.|(?<= )\\w)', x)).upper()\n",
    "name"
   ]
  },
  {
   "cell_type": "markdown",
   "metadata": {},
   "source": [
    "### Задачка про перевод из camel_case'a в snake_case"
   ]
  },
  {
   "cell_type": "markdown",
   "metadata": {},
   "source": [
    "Мы уже довольно много говорили про то, что в компаниях могут быть конвенции по обозначению переменных. Что, если вы написали код, а в нем переменные названы в Camel Case а вам требуется snake case? Пожалуй, стоит автоматизировать этот процесс. Попробуем написать функцию, которая этот функционал реализует"
   ]
  },
  {
   "cell_type": "code",
   "execution_count": 10,
   "metadata": {},
   "outputs": [
    {
     "name": "stdout",
     "output_type": "stream",
     "text": [
      "camelCaseVar\n",
      "camel_case_var\n"
     ]
    }
   ],
   "source": [
    "#Camel case to snake case\n",
    "\n",
    "import re\n",
    "\n",
    "name = input()\n",
    "# Если не начало и за ним следует большая буква, замени на _\n",
    "name = re.sub(r'(?<!^)(?=[A-Z])', '_', name).lower()\n",
    "print(name)  # camel_case_name"
   ]
  },
  {
   "cell_type": "markdown",
   "metadata": {},
   "source": [
    "### Задачка про подсчет количества слов"
   ]
  },
  {
   "cell_type": "markdown",
   "metadata": {},
   "source": [
    "Слова у нас могут состоять из букв или букв, стоящих вокруг дефиса (во-первых, чуть-чуть, давай-ка). Попробуем это описать регулярным выражением"
   ]
  },
  {
   "cell_type": "code",
   "execution_count": 9,
   "metadata": {},
   "outputs": [
    {
     "name": "stdout",
     "output_type": "stream",
     "text": [
      "['Дельный', 'что', 'говорить', 'Был', 'старик', 'тот', 'самый', 'Что', 'придумал', 'суп', 'варить', 'На', 'колесах', 'прямо', 'Суп', 'во-первых', 'Во-вторых', 'Кашу', 'норме', 'прочной', 'Нет', 'старик', 'он', 'был', 'старик', 'Чуткий', 'это', 'точно']\n"
     ]
    }
   ],
   "source": [
    "text = '''\n",
    "                    - Дельный, что и говорить,\n",
    "                      Был старик тот самый,\n",
    "                      Что придумал суп варить\n",
    "                      На колесах прямо.\n",
    "                      Суп - во-первых. Во-вторых,\n",
    "                      Кашу в норме прочной.\n",
    "                      Нет, старик он был старик\n",
    "                      Чуткий - это точно.\n",
    "'''\n",
    "name = re.findall('[а-яА-ЯёЁ]+-?[а-яА-ЯёЁ]+',text)\n",
    "print(name)"
   ]
  },
  {
   "cell_type": "markdown",
   "metadata": {},
   "source": [
    "### Задачка про поиск слов на а и на е"
   ]
  },
  {
   "cell_type": "markdown",
   "metadata": {},
   "source": [
    "Найдите в тексте слова, начинающиеся на а и на е"
   ]
  },
  {
   "cell_type": "code",
   "execution_count": 29,
   "metadata": {},
   "outputs": [
    {
     "name": "stdout",
     "output_type": "stream",
     "text": [
      "['example', 'eates', 'an', 'ArrayList', 'apacity', 'elements', 'elements', 'are', 'en', 'added', 'ArrayList', 'and', 'ArrayList', 'ed', 'accordingly']\n"
     ]
    }
   ],
   "source": [
    "import re\n",
    "# Input.\n",
    "text = \"The following example creates an ArrayList with a capacity of 50 elements.\\\n",
    "        Four elements are then added to the ArrayList and the ArrayList is trimmed accordingly.\"\n",
    "\n",
    "# Шаг первый\n",
    "list = re.findall(\"[aeAE]\\w+\", text)\n",
    "# Print result.\n",
    "print(list)"
   ]
  },
  {
   "cell_type": "markdown",
   "metadata": {},
   "source": [
    "Тут вроде заработало, а что если будут слова с буквами a/е?"
   ]
  },
  {
   "cell_type": "code",
   "execution_count": 46,
   "metadata": {},
   "outputs": [
    {
     "name": "stdout",
     "output_type": "stream",
     "text": [
      "['aht', 'euch', 'eder', 'ankende', 'estalten', 'einst', 'em', 'en', 'ezeigt', 'ersuch', 'euch', 'esmal', 'estzuhalten', 'ein', 'erz', 'enem', 'ahn', 'eneigt']\n"
     ]
    }
   ],
   "source": [
    "import re\n",
    "# Input.\n",
    "text = '''\n",
    "        Ihr naht euch wieder, schwankende Gestalten,\n",
    "        Die früh sich einst dem trüben Blick gezeigt.\n",
    "        Versuch’ ich wohl, euch diesmal festzuhalten?\n",
    "        Fühl’ ich mein Herz noch jenem Wahn geneigt?\n",
    "        '''\n",
    "\n",
    "# Шаг первый\n",
    "list = re.findall(\"[aeAE]\\w+\", text)\n",
    "# Print result.\n",
    "print(list)"
   ]
  },
  {
   "cell_type": "markdown",
   "metadata": {},
   "source": [
    "На четверостишии из Фауста выражение не сработало. Значит надо сказать, что а/е - первая буква слова (перед ней начало текста или пробельный символ)"
   ]
  },
  {
   "cell_type": "code",
   "execution_count": 47,
   "metadata": {},
   "outputs": [
    {
     "name": "stdout",
     "output_type": "stream",
     "text": [
      "['euch', 'einst', 'euch']\n"
     ]
    }
   ],
   "source": [
    "list = re.findall(\"(?<=\\s)[aeAE]\\w+\", text)\n",
    "# Print result.\n",
    "print(list)"
   ]
  },
  {
   "cell_type": "markdown",
   "metadata": {},
   "source": [
    "### Задачка про деление текста на предложения "
   ]
  },
  {
   "cell_type": "markdown",
   "metadata": {},
   "source": [
    "Для простоты будем считать, что: \n",
    "* каждое предложение начинается с заглавной русской или латинской буквы;\n",
    "* каждое предложение заканчивается одним из знаков препинания .;!?;\n",
    "* между предложениями может быть любой непустой набор пробельных символов;\n",
    "* внутри предложений нет заглавных и точек (нет пакостей в духе «Мы любим творчество А. С. Пушкина)».\n",
    "\n",
    "Разделите текст на предложения так, чтобы каждое предложение занимало одну строку. \n",
    "Пустых строк в выводе быть не должно."
   ]
  },
  {
   "cell_type": "code",
   "execution_count": 79,
   "metadata": {},
   "outputs": [
    {
     "data": {
      "text/plain": [
       "['Mr. Smith bought cheapsite.com for 1.5 million dollars, i.e. he paid a lot for it!',\n",
       " 'Did he mind?',\n",
       " \"Adam Jones Jr. thinks he didn't.\",\n",
       " \"In any case, this isn't true...\",\n",
       " \"Well, with a probability of .9 it isn't.\"]"
      ]
     },
     "execution_count": 79,
     "metadata": {},
     "output_type": "execute_result"
    }
   ],
   "source": [
    "import re\n",
    "s = \"\"\"Mr. Smith bought cheapsite.com for 1.5 million dollars, i.e. he paid a lot for it! \\\n",
    "Did he mind? Adam Jones Jr. thinks he didn't. In any case, this isn't true... \\\n",
    "Well, with a probability of .9 it isn't.\"\"\"\n",
    "\n",
    "m = re.split(r'(?<=[^A-Z]{2}[.!?...]) +(?=[A-Z])', s)\n",
    "\n",
    "# Слева не последовательность из большой буквы и чего-то (это для Jr. Sr.)\n",
    "m\n"
   ]
  },
  {
   "cell_type": "markdown",
   "metadata": {},
   "source": [
    "### Давайте разберем реальный пример\n",
    "\n",
    "Возьмем перевод книги Идиот, вытащим оттуда текст первой главы, после чего посчитаем количество вхождений слова the"
   ]
  },
  {
   "cell_type": "code",
   "execution_count": 84,
   "metadata": {},
   "outputs": [
    {
     "name": "stdout",
     "output_type": "stream",
     "text": [
      " produced by martin adamson david widger with corrections by andrew sly the idiot by fyodor dostoyevsky translated by eva martin part i i towards the end of november during a thaw at nine oâ clock one morning a train on the warsaw and petersburg railway was approaching the latter city at full speed the morning was so damp and misty that it was only with great difficulty that the day succeeded in breaking and it was impossible to distinguish anything more than a few yards away from the carriage windows some of the passengers by this particular train were returning from abroad but the third class carriages were the best filled chiefly with insignificant persons of various occupations and degrees picked up at the different stations nearer town all of them seemed weary and most of them had sleepy eyes and a shivering expression while their complexions generally appeared to have taken on the colour of the fog outside when day dawned two passengers in one of the third class carriages found themselves opposite each other both were young fellows both were rather poorly dressed both had remarkable faces and both were evidently anxious to start a conversation if they had but known why at this particular moment they were both remarkable persons they would undoubtedly have wondered at the strange chance which had set them down opposite to one another in a third class carriage of the warsaw railway company one of them was a young fellow of about twenty seven not tall with black curling hair and small grey fiery eyes his nose was broad and flat and he had high cheek bones his thin lips were constantly compressed into an impudent ironical it might almost be called a malicious smile but his forehead was high and well formed and atoned for a good deal of the ugliness of the lower part of his face a special feature of this physiognomy was its death like pallor which gave to the whole man an indescribably emaciated appearance in spite of his hard look and at the same time a sort of passionate and suffering expression which did not harmonize with his impudent sarcastic smile and keen self satisfied bearing he wore a large fur or rather astrachan overcoat which had kept him warm all night while his neighbour had been obliged to bear the full severity of a russian november night entirely unprepared his wide sleeveless mantle with a large cape to it the sort of cloak one sees upon travellers during the winter months in switzerland or north italy was by no means adapted to the long cold journey through russia from eydkuhnen to st petersburg the wearer of this cloak was a young fellow also of about twenty six or twenty seven years of age slightly above the middle height very fair with a thin pointed and very light coloured beard his eyes were large and blue and had an intent look about them yet that heavy expression which some people affirm to be a peculiarity as well as evidence of an epileptic subject his face was decidedly a pleasant one for all that refined but quite colourless except for the circumstance that at this moment it was blue with cold he held a bundle made up of an old faded silk handkerchief that apparently contained all his travelling wardrobe and wore thick shoes and gaiters his whole appearance being very un russian his black haired neighbour inspected these peculiarities having nothing better to do and at length remarked with that rude enjoyment of the discomforts of others which the common classes so often show â cold â â very â said his neighbour readily â and this is a thaw too fancy if it had been a hard frost i never thought it would be so cold in the old country iâ ve grown quite out of the way of it â â what been abroad i suppose â â yes straight from switzerland â â wheugh my goodness â the black haired young fellow whistled and then laughed the conversation proceeded the readiness of the fair haired young man in the cloak to answer all his opposite neighbourâ s questions was surprising he seemed to have no suspicion of any impertinence or inappropriateness in the fact of such questions being put to him replying to them he made known to the inquirer that he certainly had been long absent from russia more than four years that he had been sent abroad for his health that he had suffered from some strange nervous malady a kind of epilepsy with convulsive spasms his interlocutor burst out laughing several times at his answers and more than ever when to the question â whether he had been cured â the patient replied â no they did not cure me â â hey thatâ s it you stumped up your money for nothing and we believe in those fellows here â remarked the black haired individual sarcastically â gospel truth sir gospel truth â exclaimed another passenger a shabbily dressed man of about forty who looked like a clerk and possessed a red nose and a very blotchy face â gospel truth all they do is to get hold of our good russian money free gratis and for nothing â â oh but youâ re quite wrong in my particular instance â said the swiss patient quietly â of course i canâ t argue the matter because i know only my own case but my doctor gave me money and he had very little to pay my journey back besides having kept me at his own expense while there for nearly two years â â why was there no one else to pay for you â asked the black haired one â no mr pavlicheff who had been supporting me there died a couple of years ago i wrote to mrs general epanchin at the time she is a distant relative of mine but she did not answer my letter and so eventually i came back â â and where have you come to â â that is where am i going to stay i i really donâ t quite know yet i â both the listeners laughed again â i suppose your whole set up is in that bundle then â asked the first â i bet anything it is â exclaimed the red nosed passenger with extreme satisfaction â and that he has precious little in the luggage van though of course poverty is no crime we must remember that â it appeared that it was indeed as they had surmised the young fellow hastened to admit the fact with wonderful readiness â your bundle has some importance however â continued the clerk when they had laughed their fill it was observable that the subject of their mirth joined in the laughter when he saw them laughing â for though i dare say it is not stuffed full of friedrichs dâ or and louis dâ or judge from your costume and gaiters still if you can add to your possessions such a valuable property as a relation like mrs general epanchin then your bundle becomes a significant object at once that is of course if you really are a relative of mrs epanchinâ s and have not made a little error through well absence of mind which is very common to human beings or say through a too luxuriant fancy â â oh you are right again â said the fair haired traveller â for i really am _almost_ wrong when i say she and i are related she is hardly a relation at all so little in fact that i was not in the least surprised to have no answer to my letter i expected as much â â hâ m you spent your postage for nothing then hâ m you are candid however and that is commendable hâ m mrs epanchin oh yes a most eminent person i know her as for mr pavlicheff who supported you in switzerland i know him too at least if it was nicolai andreevitch of that name a fine fellow he was and had a property of four thousand souls in his day â â yes nicolai andreevitch that was his name â and the young fellow looked earnestly and with curiosity at the all knowing gentleman with the red nose this sort of character is met with pretty frequently in a certain class they are people who know everyone that is they know where a man is employed what his salary is whom he knows whom he married what money his wife had who are his cousins and second cousins etc etc these men generally have about a hundred pounds a year to live on and they spend their whole time and talents in the amassing of this style of knowledge which they reduce or raise to the standard of a science during the latter part of the conversation the black haired young man had become very impatient he stared out of the window and fidgeted and evidently longed for the end of the journey he was very absent he would appear to listen and heard nothing and he would laugh of a sudden evidently with no idea of what he was laughing about â excuse me â said the red nosed man to the young fellow with the bundle rather suddenly â whom have i the honour to be talking to â â prince lef nicolaievitch muishkin â replied the latter with perfect readiness â prince muishkin lef nicolaievitch hâ m i donâ t know iâ m sure i may say i have never heard of such a person â said the clerk thoughtfully â at least the name i admit is historical karamsin must mention the family name of course in his history but as an individual one never hears of any prince muishkin nowadays â â of course not â replied the prince â there are none except myself i believe i am the last and only one as to my forefathers they have always been a poor lot my own father was a sublieutenant in the army i donâ t know how mrs epanchin comes into the muishkin family but she is descended from the princess muishkin and she too is the last of her line â â and did you learn science and all that with your professor over there â asked the black haired passenger â oh yes i did learn a little but â â iâ ve never learned anything whatever â said the other â oh but i learned very little you know â added the prince as though excusing himself â they could not teach me very much on account of my illness â â do you know the rogojins â asked his questioner abruptly â no i donâ t not at all i hardly know anyone in russia why is that your name â â yes i am rogojin parfen rogojin â â parfen rogojin dear me then donâ t you belong to those very rogojins perhaps â began the clerk with a very perceptible increase of civility in his tone â yes those very ones â interrupted rogojin impatiently and with scant courtesy i may remark that he had not once taken any notice of the blotchy faced passenger and had hitherto addressed all his remarks direct to the prince â dear me is it possible â observed the clerk while his face assumed an expression of great deference and servility if not of absolute alarm â what a son of that very semen rogojin hereditary honourable citizen who died a month or so ago and left two million and a half of roubles â â and how do _you_ know that he left two million and a half of roubles â asked rogojin disdainfully and not deigning so much as to look at the other â however itâ s true enough that my father died a month ago and that here am i returning from pskoff a month after with hardly a boot to my foot theyâ ve treated me like a dog iâ ve been ill of fever at pskoff the whole time and not a line nor farthing of money have i received from my mother or my confounded brother â â and now youâ ll have a million roubles at least goodness gracious me â exclaimed the clerk rubbing his hands â five weeks since i was just like yourself â continued rogojin addressing the prince â with nothing but a bundle and the clothes i wore i ran away from my father and came to pskoff to my auntâ s house where i caved in at once with fever and he went and died while i was away all honour to my respected fatherâ s memory but he uncommonly nearly killed me all the same give you my word prince if i hadnâ t cut and run then when i did heâ d have murdered me like a dog â â i suppose you angered him somehow â asked the prince looking at the millionaire with considerable curiosity but though there may have been something remarkable in the fact that this man was heir to millions of roubles there was something about him which surprised and interested the prince more than that rogojin too seemed to have taken up the conversation with unusual alacrity it appeared that he was still in a considerable state of excitement if not absolutely feverish and was in real need of someone to talk to for the mere sake of talking as safety valve to his agitation as for his red nosed neighbour the latter since the information as to the identity of rogojin hung over him seemed to be living on the honey of his words and in the breath of his nostrils catching at every syllable as though it were a pearl of great price â oh yes i angered him i certainly did anger him â replied rogojin â but what puts me out so is my brother of course my mother couldnâ t do anything sheâ s too old and whatever brother senka says is law for her but why couldnâ t he let me know he sent a telegram they say whatâ s the good of a telegram it frightened my aunt so that she sent it back to the office unopened and there itâ s been ever since itâ s only thanks to konief that i heard at all he wrote me all about it he says my brother cut off the gold tassels from my fatherâ s coffin at night â because theyâ re worth a lot of money â says he why i can get him sent off to siberia for that alone if i like itâ s sacrilege here you scarecrow â he added addressing the clerk at his side â is it sacrilege or not by law â â sacrilege certainly certainly sacrilege â said the latter â and itâ s siberia for sacrilege isnâ t it â â undoubtedly so siberia of course â â they will think that iâ m still ill â continued rogojin to the prince â but i sloped off quietly seedy as i was took the train and came away aha brother senka youâ ll have to open your gates and let me in my boy i know he told tales about me to my father i know that well enough but i certainly did rile my father about nastasia philipovna thatâ s very sure and that was my own doing â â nastasia philipovna â said the clerk as though trying to think out something â come you know nothing about _her_ â said rogojin impatiently â and supposing i do know something â observed the other triumphantly â bosh there are plenty of nastasia philipovnas and what an impertinent beast you are â he added angrily â i thought some creature like you would hang on to me as soon as i got hold of my money â â oh but i do know as it happens â said the clerk in an aggravating manner â lebedeff knows all about her you are pleased to reproach me your excellency but what if i prove that i am right after all nastasia phillpovnaâ s family name is barashkoff i know you see and she is a very well known lady indeed and comes of a good family too she is connected with one totski afanasy ivanovitch a man of considerable property a director of companies and so on and a great friend of general epanchin who is interested in the same matters as he is â â my eyes â said rogojin really surprised at last â the devil take the fellow how does he know that â â why he knows everything lebedeff knows everything i was a month or two with lihachof after his father died your excellency and while he was knocking about heâ s in the debtorâ s prison now i was with him and he couldnâ t do a thing without lebedeff and i got to know nastasia philipovna and several people at that time â â nastasia philipovna why you donâ t mean to say that she and lihachof â cried rogojin turning quite pale â no no no no no nothing of the sort i assure you â said lebedeff hastily â oh dear no not for the world totskiâ s the only man with any chance there oh no he takes her to his box at the opera at the french theatre of an evening and the officers and people all look at her and say â by jove thereâ s the famous nastasia philipovna â but no one ever gets any further than that for there is nothing more to say â â yes itâ s quite true â said rogojin frowning gloomily â so zaleshoff told me i was walking about the nefsky one fine day prince in my fatherâ s old coat when she suddenly came out of a shop and stepped into her carriage i swear i was all of a blaze at once then i met zaleshoff looking like a hair dresserâ s assistant got up as fine as i donâ t know who while i looked like a tinker â donâ t flatter yourself my boy â said he â sheâ s not for such as you sheâ s a princess she is and her name is nastasia philipovna barashkoff and she lives with totski who wishes to get rid of her because heâ s growing rather old fifty five or so and wants to marry a certain beauty the loveliest woman in all petersburg â and then he told me that i could see nastasia philipovna at the opera house that evening if i liked and described which was her box well iâ d like to see my father allowing any of us to go to the theatre heâ d sooner have killed us any day however i went for an hour or so and saw nastasia philipovna and i never slept a wink all night after next morning my father happened to give me two government loan bonds to sell worth nearly five thousand roubles each â sell them â said he â and then take seven thousand five hundred roubles to the office give them to the cashier and bring me back the rest of the ten thousand without looking in anywhere on the way look sharp i shall be waiting for you â well i sold the bonds but i didnâ t take the seven thousand roubles to the office i went straight to the english shop and chose a pair of earrings with a diamond the size of a nut in each they cost four hundred roubles more than i had so i gave my name and they trusted me with the earrings i went at once to zaleshoffâ s â come on â i said â come on to nastasia philipovnaâ s â and off we went without more ado i tell you i hadnâ t a notion of what was about me or before me or below my feet all the way i saw nothing whatever we went straight into her drawing room and then she came out to us â i didnâ t say right out who i was but zaleshoff said â from parfen rogojin in memory of his first meeting with you yesterday be so kind as to accept these â â she opened the parcel looked at the earrings and laughed â â thank your friend mr rogojin for his kind attention â says she and bowed and went off why didnâ t i die there on the spot the worst of it all was though that the beast zaleshoff got all the credit of it i was short and abominably dressed and stood and stared in her face and never said a word because i was shy like an ass and there was he all in the fashion pomaded and dressed out with a smart tie on bowing and scraping and i bet anything she took him for me all the while â â look here now â i said when we came out â none of your interference here after this do you understand â he laughed â and how are you going to settle up with your father â says he i thought i might as well jump into the neva at once without going home first but it struck me that i wouldnâ t after all and i went home feeling like one of the damned â â my goodness â shivered the clerk â and his father â he added for the princeâ s instruction â and his father would have given a man a ticket to the other world for ten roubles any day not to speak of ten thousand â the prince observed rogojin with great curiosity he seemed paler than ever at this moment â what do you know about it â cried the latter â well my father learned the whole story at once and zaleshoff blabbed it all over the town besides so he took me upstairs and locked me up and swore at me for an hour â this is only a foretaste â says he â wait a bit till night comes and iâ ll come back and talk to you again â â well what do you think the old fellow went straight off to nastasia philipovna touched the floor with his forehead and began blubbering and beseeching her on his knees to give him back the diamonds so after awhile she brought the box and flew out at him â there â she says â take your earrings you wretched old miser although they are ten times dearer than their value to me now that i know what it must have cost parfen to get them give parfen my compliments â she says â and thank him very much â well i meanwhile had borrowed twenty five roubles from a friend and off i went to pskoff to my auntâ s the old woman there lectured me so that i left the house and went on a drinking tour round the public houses of the place i was in a high fever when i got to pskoff and by nightfall i was lying delirious in the streets somewhere or other â â oho weâ ll make nastasia philipovna sing another song now â giggled lebedeff rubbing his hands with glee â hey my boy weâ ll get her some proper earrings now weâ ll get her such earrings that â â look here â cried rogojin seizing him fiercely by the arm â look here if you so much as name nastasia philipovna again iâ ll tan your hide as sure as you sit there â â aha do by all means if you tan my hide you wonâ t turn me away from your society youâ ll bind me to you with your lash for ever ha ha here we are at the station though â sure enough the train was just steaming in as he spoke though rogojin had declared that he left pskoff secretly a large collection of friends had assembled to greet him and did so with profuse waving of hats and shouting â why thereâ s zaleshoff here too â he muttered gazing at the scene with a sort of triumphant but unpleasant smile then he suddenly turned to the prince â prince i donâ t know why i have taken a fancy to you perhaps because i met you just when i did but no it canâ t be that for i met this fellowâ nodding at lebedeff â too and i have not taken a fancy to him by any means come to see me prince weâ ll take off those gaiters of yours and dress you up in a smart fur coat the best we can buy you shall have a dress coat best quality white waistcoat anything you like and your pocket shall be full of money come and you shall go with me to nastasia philipovnaâ s now then will you come or no â â accept accept prince lef nicolaievitchâ said lebedef solemnly â donâ t let it slip accept quick â prince muishkin rose and stretched out his hand courteously while he replied with some cordiality â i will come with the greatest pleasure and thank you very much for taking a fancy to me i dare say i may even come today if i have time for i tell you frankly that i like you very much too i liked you especially when you told us about the diamond earrings but i liked you before that as well though you have such a dark clouded sort of face thanks very much for the offer of clothes and a fur coat i certainly shall require both clothes and coat very soon as for money i have hardly a copeck about me at this moment â â you shall have lots of money by the evening i shall have plenty so come along â â thatâ s true enough heâ ll have lots before evening â put in lebedeff â but look here are you a great hand with the ladies letâ s know that first â asked rogojin â oh no oh no â said the prince â i couldnâ t you know my illness i hardly ever saw a soul â â hâ m well here you fellow you can come along with me now if you like â cried rogojin to lebedeff and so they all left the carriage lebedeff had his desire he went off with the noisy group of rogojinâ s friends towards the voznesensky while the princeâ s route lay towards the litaynaya it was damp and wet the prince asked his way of passers by and finding that he was a couple of miles or so from his destination he determined to take a droshky \n"
     ]
    }
   ],
   "source": [
    "import re\n",
    "import requests\n",
    "\n",
    "the_idiot_url = 'https://www.gutenberg.org/files/2638/2638-0.txt'\n",
    "\n",
    "# Отправляем запрос в библиотеку Gutenberg и забираем текст\n",
    "raw = requests.get(the_idiot_url).text\n",
    "\n",
    "# Найдем начало описания книги\n",
    "start = re.search(r\"\\*\\*\\* START OF THIS PROJECT GUTENBERG EBOOK .* \\*\\*\\*\",raw ).end()\n",
    "\n",
    "# Найдем начало 2 главы\n",
    "stop = re.search(r\"II\", raw).start()\n",
    "\n",
    "# Оставим текст описания + 1 главы\n",
    "text = raw[start:stop]\n",
    "\n",
    "#Заменим в тексте все небуквенные символы на пробелы\n",
    "processed_book = re.sub('[\\W]+' , ' ', text).lower()\n",
    "print(processed_book)"
   ]
  },
  {
   "cell_type": "code",
   "execution_count": 85,
   "metadata": {},
   "outputs": [
    {
     "data": {
      "text/plain": [
       "302"
      ]
     },
     "execution_count": 85,
     "metadata": {},
     "output_type": "execute_result"
    }
   ],
   "source": [
    "len(re.findall(r'the', processed_book))"
   ]
  }
 ],
 "metadata": {
  "kernelspec": {
   "display_name": "Python 3",
   "language": "python",
   "name": "python3"
  },
  "language_info": {
   "codemirror_mode": {
    "name": "ipython",
    "version": 3
   },
   "file_extension": ".py",
   "mimetype": "text/x-python",
   "name": "python",
   "nbconvert_exporter": "python",
   "pygments_lexer": "ipython3",
   "version": "3.6.5"
  }
 },
 "nbformat": 4,
 "nbformat_minor": 2
}
