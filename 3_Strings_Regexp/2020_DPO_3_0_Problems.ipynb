{
 "cells": [
  {
   "cell_type": "markdown",
   "metadata": {},
   "source": [
    "Центр непрерывного образования\n",
    "\n",
    "# Программа «Python для автоматизации и анализа данных»\n",
    "\n",
    "Неделя 3 - 1\n",
    "\n",
    "*Татьяна Рогович, НИУ ВШЭ*  \n",
    "\n",
    "# (∩｀-´)⊃━☆ﾟ.*･｡ﾟ Задачи"
   ]
  },
  {
   "cell_type": "markdown",
   "metadata": {},
   "source": [
    "## 1. Бегун (while)\n",
    "Вася начал бегать и в первый день он пробежал X километров и выдохся. Вася поставил себе цель Y километров и решил узнать, когда он ее достигнет, если каждый день будет бегать дистанцию на 10% больше, чем в предыдущий.\n",
    "\n",
    "**Формат ввода**\n",
    "\n",
    "Программа получает на вход целые числа X, Y\n",
    "\n",
    "**Формат вывода**\n",
    "\n",
    "Одно целое число (день, когда Вася пробежит свою цель)\n",
    "\n",
    "**Примеры**  \n",
    "**Ввод:**  \n",
    "10  \n",
    "21\n",
    "\n",
    "**Вывод:**  \n",
    "9"
   ]
  },
  {
   "cell_type": "code",
   "execution_count": null,
   "metadata": {
    "collapsed": true
   },
   "outputs": [],
   "source": [
    "# решение здесь"
   ]
  },
  {
   "cell_type": "markdown",
   "metadata": {},
   "source": [
    "## 2. Все квадраты\n",
    "\n",
    "По данному целому числу N распечатайте все квадраты натуральных (целых, положительных) чисел, не превосходящие N, в порядке возрастания. Обратите внимание, что если N является полным квадратом, то его тоже нужно печатать.\n",
    "\n",
    "**Ввод:**\n",
    "\n",
    "50\n",
    "\n",
    "**Вывод:**  \n",
    "1  \n",
    "4  \n",
    "9  \n",
    "16  \n",
    "25  \n",
    "36  \n",
    "49  "
   ]
  },
  {
   "cell_type": "code",
   "execution_count": 4,
   "metadata": {},
   "outputs": [
    {
     "name": "stdout",
     "output_type": "stream",
     "text": [
      "49\n"
     ]
    }
   ],
   "source": [
    "N = int(input())"
   ]
  },
  {
   "cell_type": "code",
   "execution_count": 6,
   "metadata": {},
   "outputs": [
    {
     "name": "stdout",
     "output_type": "stream",
     "text": [
      "1\n",
      "4\n",
      "9\n",
      "16\n",
      "25\n",
      "36\n",
      "49\n"
     ]
    }
   ],
   "source": [
    "i = 1\n",
    "while (i ** 2) <= N:\n",
    "    print(i ** 2)\n",
    "    i +=1"
   ]
  },
  {
   "cell_type": "markdown",
   "metadata": {},
   "source": [
    "## 3. Cложные проценты (while)\n",
    "Процентная ставка по вкладу составляет P процентов годовых, которые прибавляются к сумме вклада через год. Вклад составляет X рублей Y копеек. Дробное число копеек по истечении года отбрасывается. Выведите величину вклада в рубл\n",
    "\n",
    "**Формат ввода**\n",
    "\n",
    "Программа получает на вход целые числа P, X, Y, K.\n",
    "\n",
    "**Формат вывода**\n",
    "\n",
    "Программа должна вывести два числа: величину вклада через K лет в рублях и копейках. . Перерасчет суммы вклада (с отбрасыванием дробных частей копеек) происходит ежегодно.\n",
    "\n",
    "**Примеры**  \n",
    "Тест 1  \n",
    "**Входные данные:**  \n",
    "12  \n",
    "179  \n",
    "0  \n",
    "5  \n",
    "\n",
    "**Вывод программы:**  \n",
    "315 43\n",
    "\n",
    "Тест 2  \n",
    "**Входные данные:**  \n",
    "13  \n",
    "179  \n",
    "0  \n",
    "100  \n",
    "\n",
    "**Вывод программы:**   \n",
    "36360285 50\n",
    "\n",
    "Тест 3  \n",
    "**Входные данные:**   \n",
    "1  \n",
    "1  \n",
    "0  \n",
    "1000  \n",
    "\n",
    "**Вывод программы:**  \n",
    "11881 92"
   ]
  },
  {
   "cell_type": "code",
   "execution_count": 31,
   "metadata": {},
   "outputs": [
    {
     "name": "stdout",
     "output_type": "stream",
     "text": [
      "13\n",
      "179\n",
      "0\n",
      "100\n"
     ]
    }
   ],
   "source": [
    "P = int(input())\n",
    "X = int(input())\n",
    "Y = int(input())\n",
    "K = int(input())"
   ]
  },
  {
   "cell_type": "code",
   "execution_count": 32,
   "metadata": {},
   "outputs": [
    {
     "name": "stdout",
     "output_type": "stream",
     "text": [
      "202\n",
      "0.27\n",
      "228\n",
      "0.26\n",
      "257\n",
      "0.64\n",
      "290\n",
      "0.41\n",
      "327\n",
      "0.7\n",
      "369\n",
      "0.51\n",
      "416\n",
      "0.97\n",
      "470\n",
      "0.08\n",
      "531\n",
      "0.1\n",
      "600\n",
      "0.03\n",
      "678\n",
      "0.0\n",
      "766\n",
      "0.14\n",
      "865\n",
      "0.58\n",
      "977\n",
      "0.45\n",
      "1104\n",
      "0.01\n",
      "1247\n",
      "0.52\n",
      "1409\n",
      "0.11\n",
      "1592\n",
      "0.17\n",
      "1798\n",
      "0.96\n",
      "2031\n",
      "0.74\n",
      "2295\n",
      "0.03\n",
      "2593\n",
      "0.35\n",
      "2930\n",
      "0.09\n",
      "3310\n",
      "0.9\n",
      "3740\n",
      "0.3\n",
      "4226\n",
      "0.2\n",
      "4775\n",
      "0.38\n",
      "5395\n",
      "0.75\n",
      "6096\n",
      "0.35\n",
      "6888\n",
      "0.48\n",
      "7783\n",
      "0.44\n",
      "8794\n",
      "0.79\n",
      "9937\n",
      "0.22\n",
      "11228\n",
      "0.81\n",
      "12687\n",
      "0.64\n",
      "14336\n",
      "0.31\n",
      "16199\n",
      "0.68\n",
      "18304\n",
      "0.87\n",
      "20683\n",
      "0.52\n",
      "23371\n",
      "0.79\n",
      "26409\n",
      "0.23\n",
      "29842\n",
      "0.17\n",
      "33721\n",
      "0.46\n",
      "38104\n",
      "0.73\n",
      "43057\n",
      "0.52\n",
      "48654\n",
      "0.41\n",
      "54979\n",
      "0.02\n",
      "62126\n",
      "0.27\n",
      "70202\n",
      "0.38\n",
      "79328\n",
      "0.26\n",
      "89640\n",
      "0.64\n",
      "101293\n",
      "0.2\n",
      "114461\n",
      "0.09\n",
      "129340\n",
      "0.93\n",
      "146154\n",
      "0.2\n",
      "165154\n",
      "0.02\n",
      "186624\n",
      "0.02\n",
      "210885\n",
      "0.12\n",
      "238300\n",
      "0.05\n",
      "269279\n",
      "0.0\n",
      "304285\n",
      "0.27\n",
      "343842\n",
      "0.05\n",
      "388541\n",
      "0.46\n",
      "439051\n",
      "0.33\n",
      "496127\n",
      "0.63\n",
      "560623\n",
      "0.51\n",
      "633503\n",
      "0.99\n",
      "715858\n",
      "0.39\n",
      "808919\n",
      "0.54\n",
      "914078\n",
      "0.47\n",
      "1032908\n",
      "0.14\n",
      "1167186\n",
      "0.04\n",
      "1318920\n",
      "0.18\n",
      "1490379\n",
      "0.6\n",
      "1684128\n",
      "0.27\n",
      "1903064\n",
      "0.64\n",
      "2150462\n",
      "0.32\n",
      "2430022\n",
      "0.06\n",
      "2745924\n",
      "0.86\n",
      "3102894\n",
      "0.12\n",
      "3506270\n",
      "0.22\n",
      "3962085\n",
      "0.1\n",
      "4477156\n",
      "0.05\n",
      "5059186\n",
      "0.28\n",
      "5716880\n",
      "0.18\n",
      "6460074\n",
      "0.4\n",
      "7299883\n",
      "0.62\n",
      "8248867\n",
      "0.79\n",
      "9321219\n",
      "0.71\n",
      "10532977\n",
      "0.47\n",
      "11902264\n",
      "0.01\n",
      "13449558\n",
      "0.32\n",
      "15198000\n",
      "0.54\n",
      "17173740\n",
      "0.0\n",
      "19406326\n",
      "0.2\n",
      "21929148\n",
      "0.38\n",
      "24779937\n",
      "0.24\n",
      "28001328\n",
      "0.81\n",
      "31641500\n",
      "0.64\n",
      "35754895\n",
      "0.0\n"
     ]
    }
   ],
   "source": [
    "x = X\n",
    "y = Y\n",
    "i = 0\n",
    "while i < K:\n",
    "    interest = x * (P / 100)\n",
    "    y = round((x + interest) - int(x + interest), 2)\n",
    "    x = int(x + interest)\n",
    "    print(x)\n",
    "    print(y)\n",
    "    i += 1"
   ]
  },
  {
   "cell_type": "code",
   "execution_count": 30,
   "metadata": {},
   "outputs": [
    {
     "data": {
      "text/plain": [
       "313"
      ]
     },
     "execution_count": 30,
     "metadata": {},
     "output_type": "execute_result"
    }
   ],
   "source": [
    "x"
   ]
  },
  {
   "cell_type": "markdown",
   "metadata": {},
   "source": [
    "## 4. Линейный поиск (if + while)\n",
    "Последовательность состоит из натуральных чисел, не превосходящих 109, и завершается числом 0. Определите значение наибольшего элемента последовательности.\n",
    "\n",
    "**Вввод:**\n",
    "Вводится последовательность целых чисел, оканчивающаяся числом 0 (само число 0 в последовательность не входит, а служит как признак ее окончания).\n",
    "\n",
    "**Вывод:**\n",
    "Выведите ответ на задачу.\n",
    "\n",
    "**Пример ввода:**  \n",
    "\n",
    "1  \n",
    "7  \n",
    "9  \n",
    "0  \n",
    "\n",
    "**Пример вывода:**\n",
    "\n",
    "9"
   ]
  },
  {
   "cell_type": "code",
   "execution_count": 49,
   "metadata": {},
   "outputs": [
    {
     "name": "stdout",
     "output_type": "stream",
     "text": [
      "1 7 9 0\n"
     ]
    }
   ],
   "source": [
    "x = map(int, input().split())"
   ]
  },
  {
   "cell_type": "code",
   "execution_count": 50,
   "metadata": {},
   "outputs": [],
   "source": [
    "x = list(x)"
   ]
  },
  {
   "cell_type": "code",
   "execution_count": 53,
   "metadata": {},
   "outputs": [
    {
     "data": {
      "text/plain": [
       "9"
      ]
     },
     "execution_count": 53,
     "metadata": {},
     "output_type": "execute_result"
    }
   ],
   "source": [
    "if x[len(x)-1] == 0:\n",
    "    x.remove(0)\n",
    "x  = tuple(x)\n",
    "sorted(x, reverse = True)[0]"
   ]
  },
  {
   "cell_type": "markdown",
   "metadata": {},
   "source": [
    "## 5. Больше предыдущего (if + while)\n",
    "Последовательность состоит из натуральных чисел и завершается числом 0. Определите, сколько элементов этой последовательности больше предыдущего элемента.\n",
    "\n",
    "**Формат ввода:**\n",
    "Вводится последовательность целых чисел, оканчивающаяся числом 0 (само число 0 в последовательность не входит, а служит как признак ее окончания).\n",
    "\n",
    "**Формат вывода:**\n",
    "Выведите ответ на задачу.\n",
    "\n",
    "*Подсказка*\n",
    "Обработайте первое число до цикла и сохраните его в отдельную переменную (предыдущее число). Проверьте, что ваша программа правильно работает для пустой последовательности.\n",
    "\n",
    "Также для тренировки попробуйте решить задачу со списками и без\n",
    "\n",
    "**Пример ввода:**\n",
    "\n",
    "1  \n",
    "7  \n",
    "9  \n",
    "0  \n",
    "\n",
    "**Пример вывода:**  \n",
    "2"
   ]
  },
  {
   "cell_type": "code",
   "execution_count": 23,
   "metadata": {},
   "outputs": [
    {
     "name": "stdout",
     "output_type": "stream",
     "text": [
      "1 7 9 0\n"
     ]
    }
   ],
   "source": [
    "numbers = map(int, input().split())"
   ]
  },
  {
   "cell_type": "code",
   "execution_count": 24,
   "metadata": {
    "collapsed": true
   },
   "outputs": [],
   "source": [
    "numbers = list(numbers)"
   ]
  },
  {
   "cell_type": "code",
   "execution_count": 26,
   "metadata": {},
   "outputs": [
    {
     "data": {
      "text/plain": [
       "2"
      ]
     },
     "execution_count": 26,
     "metadata": {},
     "output_type": "execute_result"
    }
   ],
   "source": [
    "i = 0\n",
    "count = 0\n",
    "while i < (len(numbers)-1):\n",
    "    if (numbers[i] < numbers[i+1]):\n",
    "        count += 1\n",
    "    i += 1\n",
    "count"
   ]
  },
  {
   "cell_type": "code",
   "execution_count": 20,
   "metadata": {},
   "outputs": [
    {
     "name": "stdout",
     "output_type": "stream",
     "text": [
      "\n"
     ]
    },
    {
     "ename": "ValueError",
     "evalue": "invalid literal for int() with base 10: ''",
     "output_type": "error",
     "traceback": [
      "\u001b[0;31m---------------------------------------------------------------------------\u001b[0m",
      "\u001b[0;31mValueError\u001b[0m                                Traceback (most recent call last)",
      "\u001b[0;32m<ipython-input-20-a5c666870929>\u001b[0m in \u001b[0;36m<module>\u001b[0;34m()\u001b[0m\n\u001b[1;32m      1\u001b[0m \u001b[0;32mwhile\u001b[0m \u001b[0;32mTrue\u001b[0m\u001b[0;34m:\u001b[0m\u001b[0;34m\u001b[0m\u001b[0m\n\u001b[0;32m----> 2\u001b[0;31m     \u001b[0mnext_n\u001b[0m \u001b[0;34m=\u001b[0m \u001b[0mint\u001b[0m\u001b[0;34m(\u001b[0m\u001b[0mint\u001b[0m\u001b[0;34m(\u001b[0m\u001b[0minput\u001b[0m\u001b[0;34m(\u001b[0m\u001b[0;34m)\u001b[0m\u001b[0;34m)\u001b[0m\u001b[0;34m)\u001b[0m\u001b[0;34m\u001b[0m\u001b[0m\n\u001b[0m\u001b[1;32m      3\u001b[0m     \u001b[0;32mif\u001b[0m \u001b[0mnext_n\u001b[0m \u001b[0;34m==\u001b[0m \u001b[0;36m0\u001b[0m\u001b[0;34m:\u001b[0m\u001b[0;34m\u001b[0m\u001b[0m\n\u001b[1;32m      4\u001b[0m         \u001b[0;32mbreak\u001b[0m\u001b[0;34m\u001b[0m\u001b[0m\n\u001b[1;32m      5\u001b[0m     \u001b[0;32melse\u001b[0m\u001b[0;34m:\u001b[0m\u001b[0;34m\u001b[0m\u001b[0m\n",
      "\u001b[0;31mValueError\u001b[0m: invalid literal for int() with base 10: ''"
     ]
    }
   ],
   "source": [
    "previous_n = int(input())\n",
    "count = 0\n",
    "\n",
    "\n",
    "while True:\n",
    "    next_n = int(int(input()))\n",
    "    if next_n == 0:\n",
    "        break\n",
    "    else:\n",
    "        if next_n > previous_n:\n",
    "            count += 1\n",
    "        previous_n = next_n\n",
    "print(count)"
   ]
  },
  {
   "cell_type": "markdown",
   "metadata": {},
   "source": [
    "## 6. Лесенка (вложенный while)\n",
    "По данному натуральному n≤9 выведите лесенку из n ступенек, i-я ступенька состоит из чисел от 1 до i без пробелов.\n",
    "\n",
    "**Формат ввода:**  \n",
    "Вводится натуральное число.\n",
    "\n",
    "**Формат вывода:**  \n",
    "Выведите ответ на задачу.\n",
    "\n",
    "**Пример ввода:**  \n",
    "\n",
    "3\n",
    "\n",
    "**Пример вывода:**  \n",
    "1  \n",
    "12  \n",
    "123  "
   ]
  },
  {
   "cell_type": "code",
   "execution_count": 54,
   "metadata": {},
   "outputs": [
    {
     "name": "stdout",
     "output_type": "stream",
     "text": [
      "3\n"
     ]
    }
   ],
   "source": [
    "n = int(input())"
   ]
  },
  {
   "cell_type": "code",
   "execution_count": 65,
   "metadata": {},
   "outputs": [
    {
     "name": "stdout",
     "output_type": "stream",
     "text": [
      "1\n",
      "12\n",
      "123\n"
     ]
    }
   ],
   "source": [
    "i = 1\n",
    "store_n = []\n",
    "while i <= n:\n",
    "    store_n.append(i)\n",
    "    print(*store_n, sep = '')\n",
    "    i += 1\n",
    "    "
   ]
  },
  {
   "cell_type": "markdown",
   "metadata": {},
   "source": [
    "## 7. Олимпиада (while + if)\n",
    "\n",
    "В олимпиаде по программированию задачи имеют три уровная сложности: \"базовый\" (б), \"повышенный\" (п) и \"сложный\" (c). Максимальное количество баллов, которое можно получить за каждую задачу составляет  **10,** однако, задачи имеют веса в зависимости от уровня сложности. Задачи базового уровня имеют вес **1**, повышенного - **1,5**, а сложного - **3** (количество баллов, полученных участником, умножается на \"вес\" задачи). Необходимо определить суммарное количество набранных баллов. \n",
    "\n",
    "**Формат ввода:**\n",
    "\n",
    "*   Множество пар вида “уровень задачи(буква)- набранное количество баллов (действительное число)”. Количество таких пар может быть разным.\n",
    "Каждая пара вводится с новой строки, ввод заканчивается нулем.\n",
    "\n",
    "**Формат вывода:**\n",
    "\n",
    "*   Действительное число (сумма баллов).\n",
    "\n",
    "**Пример:**\n",
    "\n",
    "**Ввод:**\n",
    "\n",
    "б 2   \n",
    "п 2  \n",
    "с 4  \n",
    "с 7  \n",
    "б 1  \n",
    "0\n",
    "\n",
    "**Вывод:**\n",
    "\n",
    "39.0"
   ]
  },
  {
   "cell_type": "code",
   "execution_count": 74,
   "metadata": {},
   "outputs": [
    {
     "name": "stdout",
     "output_type": "stream",
     "text": [
      "б 2 п 2 с 4 с 7 б 1 0\n"
     ]
    }
   ],
   "source": [
    "pairs = input().split()"
   ]
  },
  {
   "cell_type": "code",
   "execution_count": 79,
   "metadata": {},
   "outputs": [
    {
     "name": "stdout",
     "output_type": "stream",
     "text": [
      "39.0\n"
     ]
    }
   ],
   "source": [
    "pairs.remove('0')\n",
    "i = 0 \n",
    "grade = 0\n",
    "while i < len(pairs):\n",
    "    if pairs[i] == 'б':\n",
    "        grade += int(pairs[i+1])\n",
    "    elif pairs[i] == 'п':\n",
    "        grade += int(pairs[i+1]) * 1.5\n",
    "    else:\n",
    "        grade += int(pairs[i+1]) * 3\n",
    "    i += 2\n",
    "print(grade)"
   ]
  },
  {
   "cell_type": "markdown",
   "metadata": {},
   "source": [
    "## 8. Переставить слова (срезы строк)\n",
    "Дана строка, состоящая ровно из двух слов, разделенных пробелом. Переставьте эти слова местами. Результат запишите в строку и выведите получившуюся строку. При решении этой задачи нельзя пользоваться циклами и инструкцией if.\n",
    "\n",
    "**Формат ввода**\n",
    "\n",
    "Вводится строка.\n",
    "\n",
    "**Формат вывода**\n",
    "\n",
    "Выведите ответ на задачу.\n",
    "\n",
    "**Примеры**  \n",
    "**Тест 1**  \n",
    "Входные данные:  \n",
    "Hello, world!\n",
    "\n",
    "Вывод программы:  \n",
    "world! Hello,\n",
    "\n",
    "**Тест 2**  \n",
    "Входные данные:  \n",
    "A B\n",
    "\n",
    "Вывод программы:  \n",
    "B A\n",
    "\n",
    "**Тест 3**  \n",
    "Входные данные:  \n",
    "Q WERRTYUIOP\n",
    "\n",
    "Вывод программы:  \n",
    "WERRTYUIOP Q"
   ]
  },
  {
   "cell_type": "code",
   "execution_count": 102,
   "metadata": {},
   "outputs": [
    {
     "name": "stdout",
     "output_type": "stream",
     "text": [
      "Q WERRTYUIOP\n"
     ]
    }
   ],
   "source": [
    "text = input().split()"
   ]
  },
  {
   "cell_type": "code",
   "execution_count": 103,
   "metadata": {},
   "outputs": [],
   "source": [
    "text = [text[1], text[0]]"
   ]
  },
  {
   "cell_type": "code",
   "execution_count": 104,
   "metadata": {},
   "outputs": [
    {
     "name": "stdout",
     "output_type": "stream",
     "text": [
      "WERRTYUIOP Q\n"
     ]
    }
   ],
   "source": [
    "print(*text)"
   ]
  },
  {
   "cell_type": "markdown",
   "metadata": {},
   "source": [
    "## 9. Удаление фрагмента (срезы строк)\n",
    "\n",
    "Дана строка, в которой буква h встречается минимум два раза. Удалите из этой строки первое и последнее вхождение буквы h,а также все символы, находящиеся между ними.\n",
    "\n",
    "**Формат ввода**\n",
    "\n",
    "Вводится строка.\n",
    "\n",
    "**Формат вывода**\n",
    "\n",
    "Выведите ответ на задачу.\n",
    "\n",
    "**Примеры**\n",
    "\n",
    "**Тест 1**  \n",
    "Входные данные:  \n",
    "In the hole in the ground there lived a hobbit\n",
    "\n",
    "Вывод программы:  \n",
    "In tobbit\n",
    "\n",
    "**Тест 2**  \n",
    "Входные данные:  \n",
    "qwertyhasdfghzxcvb\n",
    "\n",
    "Вывод программы:  \n",
    "qwertyzxcvb\n",
    "\n",
    "**Тест 3**  \n",
    "Входные данные:  \n",
    "asdfghhzxcvb\n",
    "\n",
    "Вывод программы:  \n",
    "asdfgzxcvb\n",
    "\n"
   ]
  },
  {
   "cell_type": "code",
   "execution_count": 127,
   "metadata": {},
   "outputs": [
    {
     "name": "stdout",
     "output_type": "stream",
     "text": [
      "asdfghhzxcvb\n"
     ]
    }
   ],
   "source": [
    "text = input()"
   ]
  },
  {
   "cell_type": "code",
   "execution_count": 128,
   "metadata": {},
   "outputs": [
    {
     "data": {
      "text/plain": [
       "'asdfgzxcvb'"
      ]
     },
     "execution_count": 128,
     "metadata": {},
     "output_type": "execute_result"
    }
   ],
   "source": [
    "text[:text.find('h')] + text[text.rfind('h')+1:]"
   ]
  },
  {
   "cell_type": "markdown",
   "metadata": {},
   "source": [
    "## 10. Второе вхождение (срезы строк + if)\n",
    "Дана строка. Найдите в этой строке второе вхождение буквы f и выведите индекс этого вхождения. Если буква f в данной строке встречается только один раз, выведите число -1, а если не встречается ни разу, выведите число -2. При решении этой задачи нельзя использовать метод count.\n",
    "\n",
    "**Формат ввода**\n",
    "\n",
    "Вводится строка.\n",
    "\n",
    "**Формат вывода**\n",
    "\n",
    "Выведите ответ на задачу.\n",
    "\n",
    "**Примеры**\n",
    "\n",
    "**Тест 1**  \n",
    "Входные данные:  \n",
    "comfort  \n",
    "\n",
    "Вывод программы:  \n",
    "-1\n",
    "\n",
    "**Тест 2**    \n",
    "Входные данные:  \n",
    "coffee  \n",
    "\n",
    "Вывод программы:  \n",
    "3\n",
    "\n",
    "**Тест 3**  \n",
    "Входные данные:  \n",
    "qwerty  \n",
    "\n",
    "Вывод программы:  \n",
    "-2"
   ]
  },
  {
   "cell_type": "code",
   "execution_count": 8,
   "metadata": {},
   "outputs": [
    {
     "name": "stdout",
     "output_type": "stream",
     "text": [
      "coffee\n"
     ]
    }
   ],
   "source": [
    "text = input()"
   ]
  },
  {
   "cell_type": "code",
   "execution_count": 9,
   "metadata": {},
   "outputs": [
    {
     "name": "stdout",
     "output_type": "stream",
     "text": [
      "0\n"
     ]
    }
   ],
   "source": [
    "if text.find('f') == -1:\n",
    "    print('-2')\n",
    "elif text[text.find('f')+1:].find('f') == -1:\n",
    "    print('-1')\n",
    "else:\n",
    "    print(text[text.find('f')+1:].find('f') + len(text[:text.find('f')+1]))"
   ]
  },
  {
   "cell_type": "markdown",
   "metadata": {},
   "source": [
    "## 11. Вставка символов\n",
    "Дана строка. Получите новую строку, вставив между каждыми двумя символами исходной строки символ !. Выведите полученную строку.\n",
    "\n",
    "**Формат ввода**\n",
    "\n",
    "Вводится строка.\n",
    "\n",
    "**Формат вывода**\n",
    "\n",
    "Выведите ответ на задачу.\n",
    "\n",
    "**Примеры**  \n",
    "**Тест 1**  \n",
    "Входные данные:  \n",
    "Python\n",
    "\n",
    "Вывод программы:  \n",
    "P!y!t!h!o!n \n",
    "\n",
    "**Тест 2**  \n",
    "Входные данные:  \n",
    "Hello\n",
    "\n",
    "Вывод программы:  \n",
    "H!e!l!l!o\n",
    "\n",
    "**Тест 3**  \n",
    "Входные данные:  \n",
    "A\n",
    "\n",
    "Вывод программы:  \n",
    "A"
   ]
  },
  {
   "cell_type": "code",
   "execution_count": 30,
   "metadata": {},
   "outputs": [
    {
     "name": "stdout",
     "output_type": "stream",
     "text": [
      "Hello\n"
     ]
    }
   ],
   "source": [
    "text = input()"
   ]
  },
  {
   "cell_type": "code",
   "execution_count": 31,
   "metadata": {},
   "outputs": [
    {
     "name": "stdout",
     "output_type": "stream",
     "text": [
      "H!e!l!l!o\n"
     ]
    }
   ],
   "source": [
    "i = 0\n",
    "new_text = []\n",
    "while i < len(text):\n",
    "    new_text.append(text[i])\n",
    "    if i == len(text)-1:\n",
    "        break\n",
    "    else:\n",
    "        new_text.append('!')\n",
    "    i += 1\n",
    "print(*new_text, sep = '')"
   ]
  },
  {
   "cell_type": "markdown",
   "metadata": {},
   "source": [
    "## 12. Найти длину самого длинного слова (списки + map())\n",
    "\n",
    "Дана строка, состоящая из слов, записанных через пробел. Найдите и выведите длину самого длинного слова. Слово - непрерывная последовательность непробельных символов (^%#^4fhjkdslgds - слово).\n",
    "\n",
    "Максимум списка можно найти с помощью функции max().\n",
    "\n",
    "**Формат ввода**\n",
    "\n",
    "Вводится строка из слов, записанных через пробел.\n",
    "\n",
    "**Формат вывода**\n",
    "\n",
    "Выведите ответ на задачу.\n",
    "\n",
    "**Примеры**  \n",
    "**Тест 1**  \n",
    "Входные данные:  \n",
    "Python C++ Perl Ruby Brainfuck\n",
    "\n",
    "Вывод программы:  \n",
    "9\n",
    "\n",
    "**Тест 2**  \n",
    "Входные данные:  \n",
    "Hello Yes\n",
    "\n",
    "Вывод программы:  \n",
    "5\n",
    "\n",
    "**Тест 3**  \n",
    "Входные данные:  \n",
    "A\n",
    "\n",
    "Вывод программы:  \n",
    "1"
   ]
  },
  {
   "cell_type": "code",
   "execution_count": 42,
   "metadata": {},
   "outputs": [
    {
     "name": "stdout",
     "output_type": "stream",
     "text": [
      "A\n"
     ]
    }
   ],
   "source": [
    "text = input().split()"
   ]
  },
  {
   "cell_type": "code",
   "execution_count": 43,
   "metadata": {},
   "outputs": [
    {
     "data": {
      "text/plain": [
       "1"
      ]
     },
     "execution_count": 43,
     "metadata": {},
     "output_type": "execute_result"
    }
   ],
   "source": [
    "lengths = list(map(len, text))\n",
    "max(lengths)"
   ]
  },
  {
   "cell_type": "markdown",
   "metadata": {},
   "source": [
    "### 13. Найти количество вхождений подстроки в строку в любом регистре (методы строк)\n",
    "\n",
    "Даны две строки. Найти количество вхождений второй строки в первую в любом из регистров.\n",
    "\n",
    "**Формат ввода**\n",
    "\n",
    "Вводятся две строки\n",
    "\n",
    "**Формат вывода**\n",
    "\n",
    "Выводится число вхождений.\n",
    "\n",
    "**Примеры**  \n",
    "**Тест 1**  \n",
    "**Входные данные:**  \n",
    "Python C++ Perl Ruby СSharp  \n",
    "P  \n",
    "\n",
    "**Вывод программы:**  \n",
    "2\n",
    "\n",
    "**Тест 2**  \n",
    "**Входные данные:**  \n",
    "Hello  \n",
    "H  \n",
    "    \n",
    "**Вывод программы:**  \n",
    "1"
   ]
  },
  {
   "cell_type": "code",
   "execution_count": 48,
   "metadata": {},
   "outputs": [
    {
     "name": "stdout",
     "output_type": "stream",
     "text": [
      "Hello\n",
      "H\n"
     ]
    }
   ],
   "source": [
    "text = input()\n",
    "find = input()"
   ]
  },
  {
   "cell_type": "code",
   "execution_count": 49,
   "metadata": {},
   "outputs": [
    {
     "data": {
      "text/plain": [
       "1"
      ]
     },
     "execution_count": 49,
     "metadata": {},
     "output_type": "execute_result"
    }
   ],
   "source": [
    "text.count(find)"
   ]
  },
  {
   "cell_type": "markdown",
   "metadata": {},
   "source": [
    "## 14. Заменить все, кроме первого и второго (методы строк).\n",
    "Дана строка. Замените в этой строке все появления буквы h на букву H, кроме первого и последнего вхождения.\n",
    "\n",
    "**Пример ввода:**\n",
    "\n",
    "In the hole in the ground there lived a hobbit\n",
    "\n",
    "**Пример вывода:**\n",
    "\n",
    "In the Hole in tHe ground tHere lived a hobbit"
   ]
  },
  {
   "cell_type": "code",
   "execution_count": 27,
   "metadata": {},
   "outputs": [
    {
     "name": "stdout",
     "output_type": "stream",
     "text": [
      "In the hole in the ground there lived a hobbit\n"
     ]
    }
   ],
   "source": [
    "text = input()"
   ]
  },
  {
   "cell_type": "code",
   "execution_count": 39,
   "metadata": {},
   "outputs": [
    {
     "data": {
      "text/plain": [
       "'In the Hole in tHe ground tHere lived a hobbit'"
      ]
     },
     "execution_count": 39,
     "metadata": {},
     "output_type": "execute_result"
    }
   ],
   "source": [
    "text[:text.find('h')+1] + text[text.find('h')+1:text.rfind('h')].replace('h', 'H') + text[text.rfind('h'):]"
   ]
  }
 ],
 "metadata": {
  "kernelspec": {
   "display_name": "Python 3",
   "language": "python",
   "name": "python3"
  },
  "language_info": {
   "codemirror_mode": {
    "name": "ipython",
    "version": 3
   },
   "file_extension": ".py",
   "mimetype": "text/x-python",
   "name": "python",
   "nbconvert_exporter": "python",
   "pygments_lexer": "ipython3",
   "version": "3.6.1"
  }
 },
 "nbformat": 4,
 "nbformat_minor": 2
}
