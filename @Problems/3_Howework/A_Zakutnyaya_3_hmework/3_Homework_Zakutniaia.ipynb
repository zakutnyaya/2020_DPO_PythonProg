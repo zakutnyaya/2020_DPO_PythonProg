{
 "cells": [
  {
   "cell_type": "markdown",
   "metadata": {},
   "source": [
    "### Центр непрерывного образования\n",
    "# Программа «Python для автоматизации и анализа данных»¶\n",
    "\n",
    "Лабораторная/Домашняя работа # 3  \n",
    "Автор: Михаил Густокашин\n",
    "\n",
    "#### Disclaimer\n",
    "В некоторых заданиях нужно считывать файлы и записывать ответ в файл. Пожалуйста, читайте файлы из той же папки, где лежит блокнот (не прописывайте к ним полный путь) или загружайте файл по ссылке. Файл с ответом нужно вложить в архив с блокнотом и архив добавить в Dropbox.\n",
    "\n",
    "Всего можно набрать 12 баллов, максимальная оценка за работу - 10."
   ]
  },
  {
   "cell_type": "markdown",
   "metadata": {},
   "source": [
    "### Задание 1. Скрейпинг cтраницы (1 балл)\n",
    "\n",
    "Мы сохранили страницу с википедии про языки программирования и сохранили по адресу https://stepik.org/media/attachments/lesson/209717/1.html\n",
    "Скачайте её с помощью скрипта на Питоне и посчитайте, какой язык упоминается чаще Python или C++ (ответ должен быть одной из этих двух строк). Необходимо просто подсчитать количество вхождений слова Python или C++ как подстроки. Тут не нужно пользоваться парсингом и bs, работайте со строками."
   ]
  },
  {
   "cell_type": "code",
   "execution_count": 3,
   "metadata": {},
   "outputs": [
    {
     "name": "stdout",
     "output_type": "stream",
     "text": [
      "C++\n"
     ]
    }
   ],
   "source": [
    "import requests\n",
    "\n",
    "page = requests.get('https://stepik.org/media/attachments/lesson/209717/1.html').text\n",
    "\n",
    "P = page.count('Python')\n",
    "C = page.count('C++')\n",
    "if P > C:\n",
    "    print('Python')\n",
    "else:\n",
    "    print('C++')"
   ]
  },
  {
   "cell_type": "markdown",
   "metadata": {},
   "source": [
    "### Задание 2. Автоматизируем написание html скрипта (2 балла)\n",
    "В этой задаче вам необходимо научиться генерировать html-код на питоне и сдать на проверку html-файл, в котором будет таблица размером 10 на 10, которая должна содержать таблицу умножения для чисел от 1 до 10. При открытии вашего файла в браузере это должно выглядеть примерно так:\n",
    "\n",
    "![](table.jpg)\n",
    "\n",
    "```\n",
    "1. Ваш файл должен начинаться с тегов <html> и <body> и заканчиваться </body> и </html>.\n",
    "2. Для создания таблицы можно пользоваться тегами <table> (создание таблицы), \n",
    "<tr> (создание строки в таблице) и <td> (создание отдельной ячейки). \n",
    "Все открытые теги нужно закрыть, причем сделать это нужно в правильном порядке.\n",
    "3. Пожалуйста, не используйте никаких украшений и других тегов.\n",
    "```\n",
    "Ниже напишите код, который генерирует html и записывает его в файл, и приложите к архиву с вашим блокнотом файл **output2.html**\n"
   ]
  },
  {
   "cell_type": "code",
   "execution_count": 4,
   "metadata": {
    "collapsed": true
   },
   "outputs": [],
   "source": [
    "with open('output2.html', 'w') as fh:\n",
    "    fh.write('<html>\\n')\n",
    "    fh.write('<body>\\n')\n",
    "    fh.write('<table>\\n')\n",
    "    \n",
    "    for idx in range(1,11):\n",
    "        fh.write('<tr>\\n')\n",
    "        if idx == 1:\n",
    "            for i in range(1,11):\n",
    "                fh.write('<td>' + str(i) + '</td>\\n')\n",
    "            fh.write('</tr>\\n')\n",
    "        else:\n",
    "            fh.write('<td>' + str(idx) + '</td>\\n')\n",
    "            for k in range(2,11):\n",
    "                fh.write('<td>' + str(idx * k) + '</td>\\n')\n",
    "            fh.write('</tr>\\n')\n",
    "\n",
    "    fh.write('</table>\\n')\n",
    "    fh.write('</body>\\n')\n",
    "    fh.write('</html>\\n')    "
   ]
  },
  {
   "cell_type": "markdown",
   "metadata": {},
   "source": [
    "### Задание 3. Скрэйпинг ссылок (2 балла)\n",
    "\n",
    "*1 балл*  \n",
    "Мы сохранили статью с википедии, она доступна по ссылке https://stepik.org/media/attachments/lesson/258943/Moscow.html\n",
    "\n",
    "Вам необходимо обработать ее с помощью BeautifulSoup и подсчитать все внутренние ссылки, которые не содержат в себе двоеточия (не являются ссылкой на техническую статью в википедии) и не начинаются с символа #.\n",
    "\n",
    "Под ссылкой понимается содержимое аттрибута href тега a. Ссылка называется внешней, если она ведет на другой сайт (т.е. начинается с http:// или https://). Все остальные ссылки являются внутренними.\n",
    "Вам могут быть полезны методы find_all для супа (он позволяет найти все теги на странице), метод has_attr для тега (проверяет есть ли такой атрибут у тега) и доступ к атрибуту тега по аналогии со словарем.\n",
    "В качестве ответа выведите количество внутренних ссылок, удовлетворяющих условию.\n",
    "\n",
    "*1 балл*  \n",
    "В этой задаче достаточно обернуть в функцию то, что делает предыдущая и вызвать подсчет числа внутренних ссылок для двух статей: https://stepik.org/media/attachments/lesson/258943/Moscow.html и https://stepik.org/media/attachments/lesson/258944/New-York.html\n",
    "В качестве ответа на задачу выведите два числа через пробел.\n"
   ]
  },
  {
   "cell_type": "code",
   "execution_count": 5,
   "metadata": {},
   "outputs": [
    {
     "name": "stdout",
     "output_type": "stream",
     "text": [
      "1991\n"
     ]
    }
   ],
   "source": [
    "# 1\n",
    "from bs4 import BeautifulSoup\n",
    "\n",
    "page = requests.get('https://stepik.org/media/attachments/lesson/258943/Moscow.html').text\n",
    "soup = BeautifulSoup(page, 'lxml')\n",
    "\n",
    "cnt = 0\n",
    "for line in soup.find_all('a'):\n",
    "    if line.has_attr('href'):\n",
    "        if line['href'].startswith('http') == False:\n",
    "            if (line['href'].startswith('#') == False) & (line['href'].count(':') == 0):\n",
    "                cnt += 1\n",
    "print(cnt)"
   ]
  },
  {
   "cell_type": "code",
   "execution_count": 6,
   "metadata": {},
   "outputs": [
    {
     "name": "stdout",
     "output_type": "stream",
     "text": [
      "1991 3207\n"
     ]
    }
   ],
   "source": [
    "# 2\n",
    "def count_links(link):\n",
    "    page = requests.get(link).text\n",
    "    soup = BeautifulSoup(page, 'lxml')\n",
    "    \n",
    "    cnt = 0\n",
    "    for line in soup.find_all('a'):\n",
    "        if line.has_attr('href'):\n",
    "            if line['href'].startswith('http') == False:\n",
    "                if (line['href'].startswith('#') == False) & (line['href'].count(':') == 0):\n",
    "                    cnt += 1\n",
    "    return cnt\n",
    "\n",
    "link1 = 'https://stepik.org/media/attachments/lesson/258943/Moscow.html'\n",
    "link2 = 'https://stepik.org/media/attachments/lesson/258944/New-York.html'\n",
    "\n",
    "answer = [count_links(link1), count_links(link2)]\n",
    "print(*answer)"
   ]
  },
  {
   "cell_type": "markdown",
   "metadata": {},
   "source": [
    "### Задание 4. Скрейпинг таблицы (2 балла)\n",
    "\n",
    "В файле https://stepik.org/media/attachments/lesson/209723/3.html находится одна таблица. Просуммируйте все числа в ней и введите в качестве ответа одно число - эту сумму. Для доступа к ячейкам используйте возможности BeautifulSoup.\n"
   ]
  },
  {
   "cell_type": "code",
   "execution_count": 7,
   "metadata": {},
   "outputs": [
    {
     "name": "stdout",
     "output_type": "stream",
     "text": [
      "1005425\n"
     ]
    }
   ],
   "source": [
    "page = requests.get('https://stepik.org/media/attachments/lesson/209723/3.html').text\n",
    "soup = BeautifulSoup(page, 'lxml')\n",
    "\n",
    "cnt = 0\n",
    "for line in soup.find_all('td'):\n",
    "    cnt += int(line.text)\n",
    "    \n",
    "print(cnt)"
   ]
  },
  {
   "cell_type": "markdown",
   "metadata": {},
   "source": [
    "# Задание 5. Зарплата (1.5 балла)\n",
    "\n",
    "Главный бухгалтер компании \"Рога и копыта\" случайно удалил ведомость с начисленной зарплатой. К счастью, у него сохранились расчётные листки всех сотрудников. Помогите по этим расчётным листкам восстановить зарплатную ведомость. Архив с расчётными листками доступен по ссылке https://github.com/rogovich/2020_DPO_PythonProg/raw/master/%40Problems/3_Howework/rogaikopyta.zip(вы можете скачать и распаковать его вручную или самостоятельно научиться делать это с помощью скрипта на Питоне (например, вот a для zip как раз есть https://docs.python.org/3/library/zipfile.html).\n",
    "\n",
    "Ведомость должна содержать 1000 строк, в каждой строке должно быть указано ФИО сотрудника и, через пробел, его зарплата. Сотрудники должны быть упорядочены по алфавиту. Сохраните ответ в файл и приложите его к архиву с решениями.\n",
    "\n",
    "**Ответ: файл output5.txt**\n"
   ]
  },
  {
   "cell_type": "code",
   "execution_count": 9,
   "metadata": {},
   "outputs": [],
   "source": [
    "import zipfile\n",
    "from zipfile import ZipFile\n",
    "from openpyxl import load_workbook\n",
    "\n",
    "\n",
    "archive = zipfile.ZipFile('rogaikopyta.zip', 'r')\n",
    "archive.extractall()\n",
    "\n",
    "\n",
    "vedomost_dict = {}\n",
    "for file in archive.namelist():\n",
    "    workbook = load_workbook(file)\n",
    "    sheet = workbook['Sheet']\n",
    "    vedomost_dict[sheet['B2'].value] = sheet['D2'].value\n",
    "    \n",
    "    \n",
    "fh = open('output5.txt', 'w', encoding = 'utf8')\n",
    "cnt = 0\n",
    "for name in sorted(vedomost_dict):\n",
    "    cnt += 1\n",
    "    if cnt == 1000:\n",
    "        fh.write(name + ' ' + str(vedomost_dict[name]))\n",
    "    else:\n",
    "        fh.write(name + ' ' + str(vedomost_dict[name]) + '\\n')\n",
    "fh.close()"
   ]
  },
  {
   "cell_type": "markdown",
   "metadata": {},
   "source": [
    "# Задание 6. Медиана (2 балла)\n",
    "\n",
    "Вася планирует карьеру и переезд. Для это составил таблицу, в которой для каждого региона записал зарплаты для разных интересные ему профессий. Таблица доступна по ссылке https://github.com/rogovich/2020_DPO_PythonProg/raw/master/%40Problems/3_Howework/salaries.xlsx. Выведите название региона с самой высокой медианной зарплатой (медианой называется элемент, стоящий в середине массива после его упорядочивания) и, через пробел, название профессии с самой высокой средней зарплатой по всем регионам."
   ]
  },
  {
   "cell_type": "code",
   "execution_count": 10,
   "metadata": {},
   "outputs": [
    {
     "name": "stdout",
     "output_type": "stream",
     "text": [
      "Куала-Лумпур Собачий парикмахер\n"
     ]
    }
   ],
   "source": [
    "workbook = load_workbook('salaries.xlsx')\n",
    "sheet = workbook['Лист1']\n",
    "\n",
    "answer = []\n",
    "\n",
    "median = {}\n",
    "for value in sheet.iter_rows(min_row=2,\n",
    "                             max_row=9,\n",
    "                             values_only=True):\n",
    "    median[value[0]] = sorted(list(map(int,value[1:])))[3]\n",
    "    \n",
    "for key in median.keys():\n",
    "    if median[key] == sorted(median.values())[-1]:\n",
    "        answer.append(key)\n",
    "        \n",
    "average = {}\n",
    "for value in sheet.iter_cols(min_col=2,\n",
    "                             values_only=True):\n",
    "    average[value[0]] = sum(list(map(int,value[1:])))/len(value[1:])\n",
    "    \n",
    "for key in average.keys():\n",
    "    if average[key] == sorted(average.values())[-1]:\n",
    "        answer.append(key)\n",
    "        \n",
    "print(*answer)"
   ]
  },
  {
   "cell_type": "markdown",
   "metadata": {},
   "source": [
    "# Задание 7. Вася-завхоз (1.5 балла)\n",
    "\n",
    "Васю назначили завхозом в туристической группе и он подошёл к подготовке ответственно, составив справочник продуктов с указанием калорийности на 100 грамм, а также содержание белков, жиров и углеводов на 100 грамм продукта. Ему не удалось найти всю информацию, поэтому некоторые ячейки остались незаполненными (можно считать их значение равным нулю). Также он использовал какой-то странный офисный пакет и разделял целую и дробную часть чисел запятой. Таблица доступна по ссылке https://github.com/rogovich/2020_DPO_PythonProg/blob/master/%40Problems/3_Howework/trekking1.xlsx\n",
    "Вася хочет минимизировать вес продуктов и для этого брать самые калорийные продукты. Помогите ему и упорядочите продукты по убыванию калорийности. В случае, если продукты имеют одинаковую калорийность - упорядочите их по названию. \n",
    "\n",
    "В качестве ответа необходимо вывести названия продуктов, по одному в строке.\n"
   ]
  },
  {
   "cell_type": "code",
   "execution_count": 11,
   "metadata": {},
   "outputs": [
    {
     "name": "stdout",
     "output_type": "stream",
     "text": [
      "Шоколад молочный какао\n",
      "Шоколад молочный миндаль\n",
      "Сухофрукты\n",
      "Омлет с копченостями галагала\n",
      "Свинина сублимрованная\n",
      "Шоколад ремесленный\n",
      "Козинак подсолнечный\n",
      "Омлет с грибами галагала\n",
      "Козинак арахисовый\n",
      "Хлебцы льняные \"Тайские\"\n",
      "Колбаса с/к \"Еврейская полусухая\"\n",
      "Говядина сублимрованная\n",
      "Сухарики ржаные с семечками\n",
      "Хлебцы льняные Морские\n",
      "Суп говяжий с картофелем галагала\n",
      "Суп гороховый с копченостями\n",
      "Суп гороховый с копченостями галагала\n",
      "Суп куриный с картофелем галагала\n",
      "Суп-гуляш галагала\n",
      "Суп-харчо \"Острый\"\n",
      "Сыр Маасдам\n",
      "Сыр Чеддер\n",
      "Борщ Московский Галагала\n",
      "Крупа гречневая\n",
      "Рис пропаренный Увелка\n",
      "Свинина Кронидов\n",
      "Сухарики ржаные Finn Crisp\n",
      "Капеллини Макфа\n",
      "Сыр Гауда\n",
      "Кус Кус\n",
      "Каша Быстров\n",
      "Картофель сушеный\n",
      "Говядина Кронидов\n",
      "Хлебцы с чесноком и луком\n",
      "Суп томатный с рисом\n",
      "Балык \"Королевский\"\n",
      "Паутина\n"
     ]
    }
   ],
   "source": [
    "workbook = load_workbook('trekking1.xlsx')\n",
    "sheet = workbook['Справочник']\n",
    "\n",
    "products = {}\n",
    "for value in sheet.iter_rows(min_row=2,\n",
    "                             max_col = 2,\n",
    "                             values_only=True):\n",
    "    products[value[0]] = value[1]\n",
    "    \n",
    "sorted_alpha = []\n",
    "for key in sorted(products.keys()):\n",
    "    sorted_alpha.append(products[key])\n",
    "    \n",
    "for line in sorted(zip(sorted_alpha, sorted(products.keys())), key=lambda x: x[0], reverse = True):\n",
    "    print(line[1])"
   ]
  }
 ],
 "metadata": {
  "kernelspec": {
   "display_name": "Python 3",
   "language": "python",
   "name": "python3"
  }
 },
 "nbformat": 4,
 "nbformat_minor": 2
}
