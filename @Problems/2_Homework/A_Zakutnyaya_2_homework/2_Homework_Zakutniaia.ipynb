{
 "cells": [
  {
   "cell_type": "markdown",
   "metadata": {},
   "source": [
    "### Центр непрерывного образования\n",
    "# Программа «Python для автоматизации и анализа данных»¶\n",
    "\n",
    "Лабораторная/Домашняя работа # 2\n",
    "\n",
    "#### Disclaimer\n",
    "В некоторых заданиях нужно считывать файлы и записывать ответ в файл. Пожалуйста, читайте файлы из той же папки, где лежит к ним блокнот (не прописывайте к ним полный путь). Файл с ответом нужно вложить в архив с блокнотом и архив добавить в Dropbox.\n",
    "\n",
    "Всего можно набрать 12 баллов, максимальная оценка за работу - 10."
   ]
  },
  {
   "cell_type": "markdown",
   "metadata": {},
   "source": [
    "# Задание 1: Turtle (2 балла)\n",
    "\n",
    "Для выполнения этого задания нужно установить и импортировать модуль turtle - это черепашка с привязанной к спине кисточкой, движения которой мы программируем. Исполните следующую ячейку, чтобы установить нужный модуль.\n",
    "\n",
    "[Документация](https://github.com/takluyver/mobilechelonian)"
   ]
  },
  {
   "cell_type": "code",
   "execution_count": 3,
   "metadata": {},
   "outputs": [
    {
     "name": "stdout",
     "output_type": "stream",
     "text": [
      "Collecting mobilechelonian\n",
      "  Using cached mobilechelonian-0.5-py2.py3-none-any.whl (94 kB)\n",
      "Collecting ipywidgets>=7.0.0\n",
      "  Using cached ipywidgets-7.5.1-py2.py3-none-any.whl (121 kB)\n",
      "Requirement already satisfied: IPython in ./anaconda/lib/python3.6/site-packages (from mobilechelonian) (5.3.0)\n",
      "Requirement already satisfied: widgetsnbextension~=3.5.0 in ./anaconda/lib/python3.6/site-packages (from ipywidgets>=7.0.0->mobilechelonian) (3.5.1)\n",
      "Requirement already satisfied: traitlets>=4.3.1 in ./anaconda/lib/python3.6/site-packages (from ipywidgets>=7.0.0->mobilechelonian) (4.3.3)\n",
      "Requirement already satisfied: ipykernel>=4.5.1 in ./anaconda/lib/python3.6/site-packages (from ipywidgets>=7.0.0->mobilechelonian) (4.6.1)\n",
      "Requirement already satisfied: nbformat>=4.2.0 in ./anaconda/lib/python3.6/site-packages (from ipywidgets>=7.0.0->mobilechelonian) (4.3.0)\n",
      "Requirement already satisfied: notebook>=4.4.1 in ./anaconda/lib/python3.6/site-packages (from widgetsnbextension~=3.5.0->ipywidgets>=7.0.0->mobilechelonian) (5.0.0)\n",
      "Requirement already satisfied: decorator in ./anaconda/lib/python3.6/site-packages (from traitlets>=4.3.1->ipywidgets>=7.0.0->mobilechelonian) (4.4.2)\n",
      "Requirement already satisfied: ipython-genutils in ./anaconda/lib/python3.6/site-packages (from traitlets>=4.3.1->ipywidgets>=7.0.0->mobilechelonian) (0.2.0)\n",
      "Requirement already satisfied: six in ./anaconda/lib/python3.6/site-packages (from traitlets>=4.3.1->ipywidgets>=7.0.0->mobilechelonian) (1.14.0)\n",
      "Installing collected packages: ipywidgets, mobilechelonian\n",
      "Successfully installed ipywidgets-7.5.1 mobilechelonian-0.5\n"
     ]
    }
   ],
   "source": [
    "!pip install mobilechelonian"
   ]
  },
  {
   "cell_type": "markdown",
   "metadata": {},
   "source": [
    "Ниже показан пример, как нарисовать квадрат."
   ]
  },
  {
   "cell_type": "code",
   "execution_count": 1,
   "metadata": {},
   "outputs": [
    {
     "data": {
      "application/vnd.jupyter.widget-view+json": {
       "model_id": "b98d9c82bd07466a807dfa1a3292d251",
       "version_major": 2,
       "version_minor": 0
      },
      "text/plain": [
       "Turtle()"
      ]
     },
     "metadata": {},
     "output_type": "display_data"
    }
   ],
   "source": [
    "from mobilechelonian import Turtle # импортируем модуль для рисования\n",
    "\n",
    "t = Turtle() # создаем класс нашей черепашки\n",
    "\n",
    "t.speed(5) # задаем скорость\n",
    "t.pendown() # ставим \"кисть\" на холст\n",
    "t.forward(100) # идем вперед на 100 шагов\n",
    "t.right(90) # поворачиваем на 90 градусов вправо\n",
    "t.forward(100)\n",
    "t.right(90)\n",
    "t.forward(100)\n",
    "t.right(90)\n",
    "t.forward(100)\n",
    "t.penup() # поднимаем кисть"
   ]
  },
  {
   "cell_type": "markdown",
   "metadata": {},
   "source": [
    "Теперь то же самое с циклом. Также мы убрали команды penup и pendown, потому что по умолчанию кисть стоит на холсте, и в этой программе эта операция излишня."
   ]
  },
  {
   "cell_type": "code",
   "execution_count": 2,
   "metadata": {},
   "outputs": [
    {
     "data": {
      "application/vnd.jupyter.widget-view+json": {
       "model_id": "d9d88ae0cfb24796b44510d7b23a774f",
       "version_major": 2,
       "version_minor": 0
      },
      "text/plain": [
       "Turtle()"
      ]
     },
     "metadata": {},
     "output_type": "display_data"
    }
   ],
   "source": [
    "from mobilechelonian import Turtle # импортируем модуль для рисования\n",
    "\n",
    "t = Turtle() # создаем класс нашей черепашки\n",
    "\n",
    "t.speed(5) # задаем скорость\n",
    "t.forward(100)\n",
    "\n",
    "for i in range(3):\n",
    "    t.right(90)\n",
    "    t.forward(100)"
   ]
  },
  {
   "cell_type": "markdown",
   "metadata": {},
   "source": [
    "Рисуем круг."
   ]
  },
  {
   "cell_type": "code",
   "execution_count": 3,
   "metadata": {},
   "outputs": [
    {
     "data": {
      "application/vnd.jupyter.widget-view+json": {
       "model_id": "3ee8d6f901124aaa936e72c676f55c82",
       "version_major": 2,
       "version_minor": 0
      },
      "text/plain": [
       "Turtle()"
      ]
     },
     "metadata": {},
     "output_type": "display_data"
    }
   ],
   "source": [
    "t = Turtle() # создаем класс нашей черепашки\n",
    "\n",
    "t.speed(5) # задаем скорость\n",
    "\n",
    "t.penup(); t.left(90); t.forward(200);t.right(90) # поднимаем кисть с холста, проходим вперед, чтобы наш круг точно вместился\n",
    "t.pendown() # ставим кисть обратно на холст, иначе не будет рисовать\n",
    "colours = [\"yellow\", \"gold\", \"orange\", \"red\", \"maroon\", \"violet\", \"magenta\", \"gray\", \"white\"]\n",
    "\n",
    "for i in range (0,180):\n",
    "    t.pencolor(colours[i%7]) # есть список цветов, выбираем цвет в зависимости от i\n",
    "    t.right(2) # поворачиваемся на два градус\n",
    "    t.forward(5) # проходим 5 единиц"
   ]
  },
  {
   "cell_type": "code",
   "execution_count": 8,
   "metadata": {},
   "outputs": [
    {
     "name": "stderr",
     "output_type": "stream",
     "text": [
      "UsageError: the following arguments are required: filename\n"
     ]
    }
   ],
   "source": [
    "notebook --generate-config"
   ]
  },
  {
   "cell_type": "markdown",
   "metadata": {},
   "source": [
    "#### Лепесток (1 балл)\n",
    "Вам задана функция left_turn(), которая рисует дугу. \n",
    "Создайте функцию petal, которая будет, используя функцию left_turn(), рисовать лепесток целиком и возвращать черепашку в центр цветка.\n",
    "\n",
    "Запустив функцию petal в цикле нарисуйте цветок с пятью лепестками (см. картинку).\n",
    "![](https://github.com/rogovich/2020_DPO_PythonProg/blob/master/@Problems/petal.png?raw=true)"
   ]
  },
  {
   "cell_type": "code",
   "execution_count": 5,
   "metadata": {},
   "outputs": [
    {
     "data": {
      "application/vnd.jupyter.widget-view+json": {
       "model_id": "57765ebc8415402ca87c08435bb0823a",
       "version_major": 2,
       "version_minor": 0
      },
      "text/plain": [
       "Turtle()"
      ]
     },
     "metadata": {},
     "output_type": "display_data"
    }
   ],
   "source": [
    "# дополните код в этой ячейке\n",
    "t = Turtle()\n",
    "t.speed(5)\n",
    "t.pencolor('magenta')\n",
    "\n",
    "def left_turn():\n",
    "    for i in range(10):\n",
    "        t.forward(15)\n",
    "        t.left(9)\n",
    "        \n",
    "def petal():\n",
    "    for i in range(5):\n",
    "        left_turn()\n",
    "        t.left(90)\n",
    "        left_turn()\n",
    "        t.left(20)\n",
    "\n",
    "petal()"
   ]
  },
  {
   "cell_type": "markdown",
   "metadata": {},
   "source": [
    "#### Звезда (1 балл)\n",
    "Напишите функцию, которая берет аргументом число - количество лучей звезды от 5 до 20. Ваша функция должна рисовать звезду с заданным количеством лучей. Запустите получившуюся функцию для 5, 11 и 20 лучей (в трех разных ячейках). Длина луча 200 единиц.\n",
    "\n",
    "*Подсказка:* Угол поворота черепашки зависит от количества лучшей - она поворачивается на 180 градусов минус 180 градусов разделенные на количество лучей."
   ]
  },
  {
   "cell_type": "code",
   "execution_count": null,
   "metadata": {
    "collapsed": true
   },
   "outputs": [],
   "source": [
    "from mobilechelonian import Turtle\n",
    "\n",
    "t = Turtle()\n",
    "t.speed(5)\n",
    "t.pencolor('magenta')\n",
    "\n",
    "def star(n):\n",
    "    for i in range(n):\n",
    "        t.forward(100)\n",
    "        t.left(180)\n",
    "        t.forward(100)\n",
    "        t.left(180 - 360/n)\n",
    "        \n",
    "star(5)"
   ]
  },
  {
   "cell_type": "code",
   "execution_count": null,
   "metadata": {
    "collapsed": true
   },
   "outputs": [],
   "source": [
    "from mobilechelonian import Turtle\n",
    "\n",
    "t = Turtle()\n",
    "t.speed(5)\n",
    "t.pencolor('magenta')\n",
    "\n",
    "def star(n):\n",
    "    for i in range(n):\n",
    "        t.forward(100)\n",
    "        t.left(180)\n",
    "        t.forward(100)\n",
    "        t.left(180 - 360/n)\n",
    "        \n",
    "star(9)"
   ]
  },
  {
   "cell_type": "code",
   "execution_count": null,
   "metadata": {
    "collapsed": true
   },
   "outputs": [],
   "source": [
    "from mobilechelonian import Turtle\n",
    "\n",
    "t = Turtle()\n",
    "t.speed(5)\n",
    "t.pencolor('magenta')\n",
    "\n",
    "def star(n):\n",
    "    for i in range(n):\n",
    "        t.forward(100)\n",
    "        t.left(180)\n",
    "        t.forward(100)\n",
    "        t.left(180 - 360/n)\n",
    "        \n",
    "star(15)"
   ]
  },
  {
   "cell_type": "markdown",
   "metadata": {},
   "source": [
    "# Задание 2: Язык племени Мумба-юмба (2.5 балла)"
   ]
  },
  {
   "cell_type": "markdown",
   "metadata": {},
   "source": [
    "Дан текст на языке племени Мумба-Юмба. Запишите в файл все слова, встречающиеся в тексте, разделяя их пробелом. Слова должны быть отсортированы по убыванию их количества появления в тексте, а при одинаковой частоте появления — в алфавитном порядке.\n",
    "\n",
    "Словом считается последовательность непробельных символов идущих подряд, слова разделены одним или большим числом пробелов или символами конца строки. Большие и маленькие буквы считаются различными\n",
    "\n",
    "*Подсказка.* После того, как вы создадите словарь всех слов, вам захочется отсортировать его по частоте встречаемости слова. \n",
    "Вызвав метод dict.items() от вашего словаря вы получите список кортежей вида [('what', 2), ('hi', 2), ('is', 1)]. Чтобы получилось нужная сортировка такой список нужно сначала отсортировать по алфавиту от a до z (первый элемент), а затем по убыванию их количества появления в тексте. Эту задачу можно решить через две сортировки (и не забудьте про параметр key во второй!).\n",
    "\n",
    "*Подсказка 2.* Когда будете записывать слова в файл, не забудьте, что после последнего слова пробела быть не должно.\n",
    "\n",
    "**Входной файл: problem2.txt**  \n",
    "**Приложите к блокноту файл с ответом: output2.txt**\n",
    "\n",
    "Первое слово в правильном ответе: qzjijwnklo, последнее: zzzsrymltasziudkfpqn"
   ]
  },
  {
   "cell_type": "code",
   "execution_count": 5,
   "metadata": {
    "collapsed": true
   },
   "outputs": [],
   "source": [
    "lst = []\n",
    "with open('problem2.txt') as fh:\n",
    "    for line in fh:\n",
    "        for word in line.split():\n",
    "            lst.append(word)"
   ]
  },
  {
   "cell_type": "code",
   "execution_count": 6,
   "metadata": {
    "collapsed": true
   },
   "outputs": [],
   "source": [
    "dct = {}\n",
    "for word in lst:\n",
    "    dct[word] = dct.get(word, 0) + 1"
   ]
  },
  {
   "cell_type": "code",
   "execution_count": 7,
   "metadata": {
    "collapsed": true
   },
   "outputs": [],
   "source": [
    "sorted_alpha = []\n",
    "for key in sorted(dct.keys()):\n",
    "    sorted_alpha.append(dct[key])"
   ]
  },
  {
   "cell_type": "code",
   "execution_count": 8,
   "metadata": {
    "collapsed": true
   },
   "outputs": [],
   "source": [
    "sorted_digit = sorted(zip(sorted_alpha, sorted(dct.keys())), key=lambda x: x[0], reverse = True)"
   ]
  },
  {
   "cell_type": "code",
   "execution_count": 11,
   "metadata": {
    "collapsed": true
   },
   "outputs": [],
   "source": [
    "output = ' '.join([word[1] for word in sorted_digit])"
   ]
  },
  {
   "cell_type": "code",
   "execution_count": 157,
   "metadata": {
    "collapsed": true
   },
   "outputs": [],
   "source": [
    "fh = open('output2.txt', 'w', encoding = 'utf8')\n",
    "fh.write(output)\n",
    "fh.close()"
   ]
  },
  {
   "cell_type": "markdown",
   "metadata": {},
   "source": [
    "# Задание 3. Сумма строк (1 балл)\n",
    "\n",
    "Дан файл, каждая строка которого может содержать одно или несколько целых чисел, разделенных одним или несколькими пробелами.\n",
    "\n",
    "Вычислите сумму чисел в каждой строке и выведите эти суммы через пробел (для каждой строки выводится сумма чисел в этой строке).\n",
    "\n",
    "В этой задаче вам нужно подсчитать ответ для данного входного файла. \n",
    "\n",
    "**Входной файл: problem3.txt**  \n",
    "**Ответ выведите в блокноте. **\n",
    "\n",
    "Первое число в ответе: 34568147, последнее: 111\n",
    "\n",
    "Например, если бы содержимое входного файла было следующим:\n",
    "\n",
    "```\n",
    "2 2\n",
    " 3    4\n",
    " 1       5\n",
    "```\n",
    "то в качестве ответа необходимо было бы сдать последовательность чисел\n",
    "\n",
    "4 7 6"
   ]
  },
  {
   "cell_type": "code",
   "execution_count": 14,
   "metadata": {
    "collapsed": true
   },
   "outputs": [],
   "source": [
    "sum_numbers = []\n",
    "with open('problem3.txt') as fh:\n",
    "    for line in fh:\n",
    "        sum_numbers.append(sum(list(map(int, line.split()))))"
   ]
  },
  {
   "cell_type": "code",
   "execution_count": 15,
   "metadata": {
    "collapsed": true
   },
   "outputs": [],
   "source": [
    "output3 = ' '.join(list(map(str, sum_numbers)))\n",
    "fh = open('output3.txt', 'w', encoding = 'utf8')\n",
    "fh.write(output3)\n",
    "fh.close()"
   ]
  },
  {
   "cell_type": "code",
   "execution_count": 18,
   "metadata": {},
   "outputs": [
    {
     "name": "stdout",
     "output_type": "stream",
     "text": [
      "34568147 255016 5617498 0 31397 17 10119996 111\n"
     ]
    }
   ],
   "source": [
    "print(output3)"
   ]
  },
  {
   "cell_type": "markdown",
   "metadata": {},
   "source": [
    "# Задание 4: буквы, строки и слова (1.5 балла)\n",
    "Дан файл. Определите сколько в нем букв (латинского алфавита), слов, строк. Выведите три найденных числа в формате, приведенном в примере. Словом считается последовательность больших и маленьких латинских букв. Все остальные символы считаются разделителями слов. Если будете решать регулярками, то будьте аккуратны, потому что некоторые выражения \"захватывают\" кроме букв лишние символы. Если будете пользоваться методами строк, то .isalpha() проверяет на то, что строка является латинской буквой.\n",
    "\n",
    "Пример входного файла:\n",
    "```\n",
    "Beautiful is better than ugly.\n",
    "Explicit is better than implicit.\n",
    "Simple is better than complex.\n",
    "Complex is better than complicated.\n",
    "```\n",
    "Пример ответа:\n",
    "\n",
    "```\n",
    "Input file contains:\n",
    "108 letters \n",
    "20 words \n",
    "4 lines \n",
    "```\n",
    "\n",
    "**Входной файл: problem4.txt**  \n",
    "**Ответ нужно вывести в блокноте по образцу в примере**\n",
    "\n",
    "В количестве букв первая цифра 4, а последняя 3.  \n",
    "В количестве слов: 1 и 6.  \n",
    "В количестве строк: 1 и 0.  "
   ]
  },
  {
   "cell_type": "code",
   "execution_count": 29,
   "metadata": {
    "collapsed": true
   },
   "outputs": [],
   "source": [
    "lst = []\n",
    "with open('problem4.txt') as fh:\n",
    "    for line in fh:\n",
    "        lst.append(line.strip().split())"
   ]
  },
  {
   "cell_type": "code",
   "execution_count": 30,
   "metadata": {},
   "outputs": [],
   "source": [
    "number_of_strings = len(lst)"
   ]
  },
  {
   "cell_type": "code",
   "execution_count": 31,
   "metadata": {
    "collapsed": true
   },
   "outputs": [],
   "source": [
    "alpha = []\n",
    "non_alpha = []\n",
    "for string in lst:\n",
    "    for word in string:\n",
    "        if word.isalpha():\n",
    "            alpha.append(word)\n",
    "        else:\n",
    "            non_alpha.append(word)"
   ]
  },
  {
   "cell_type": "code",
   "execution_count": 32,
   "metadata": {
    "collapsed": true
   },
   "outputs": [],
   "source": [
    "import re\n",
    "reg_word = []\n",
    "for word in non_alpha:\n",
    "    reg_word.append(re.findall(r'[A-Za-z]+', word))"
   ]
  },
  {
   "cell_type": "code",
   "execution_count": 33,
   "metadata": {
    "collapsed": true
   },
   "outputs": [],
   "source": [
    "new_lst = []\n",
    "for element in reg_word:\n",
    "    if element == '':\n",
    "        pass\n",
    "    else:\n",
    "        for n in range(len(element)):\n",
    "            new_lst.append(element[n])"
   ]
  },
  {
   "cell_type": "code",
   "execution_count": 34,
   "metadata": {},
   "outputs": [],
   "source": [
    "number_of_words = len(new_lst) +len(alpha)"
   ]
  },
  {
   "cell_type": "code",
   "execution_count": 35,
   "metadata": {
    "collapsed": true
   },
   "outputs": [],
   "source": [
    "count_letters = 0\n",
    "for string in lst:\n",
    "    for word in string:\n",
    "        for element in word:\n",
    "            if element.isalpha():\n",
    "                count_letters += 1"
   ]
  },
  {
   "cell_type": "code",
   "execution_count": 36,
   "metadata": {
    "collapsed": true
   },
   "outputs": [],
   "source": [
    "number_of_letters = count_letters"
   ]
  },
  {
   "cell_type": "code",
   "execution_count": 37,
   "metadata": {},
   "outputs": [
    {
     "name": "stdout",
     "output_type": "stream",
     "text": [
      "Input file contains:\n",
      "44473 letters\n",
      "11496 words\n",
      "1000 lines\n"
     ]
    }
   ],
   "source": [
    "print('Input file contains:')\n",
    "print(f'{number_of_letters} letters')\n",
    "print(f'{number_of_words} words')\n",
    "print(f'{number_of_strings} lines')"
   ]
  },
  {
   "cell_type": "markdown",
   "metadata": {},
   "source": [
    "# Задание 5*: Вася идет в магазин (3 балла)\n",
    "Вася составил таблицу с ценами на продукты в разных магазинах. В первой строке таблицы (кроме первой ячейки) записаны названия продуктов. Во всех строках, начиная со второй, записана информация о ценах в магазине. В первой ячейке написано название магазина, а в ячейках, начиная со второй - цена на товар, название которого записано в первой строке соответствующего столбца.\n",
    "\n",
    "Таблица задана как csv-файл, разделителем ячеек выступает точка с запятой, а строковые константы не окружаются кавычками. При открытии файла задайте кодировку utf8.\n",
    "\n",
    "Вася очень хочет поесть, но денег у него мало. Поэтому помогите ему определить самый дешевый продукт и в каком магазине он продается. Название продукта следует записать в первой строке, а название магазина - во второй. Если несколько товаров стоят одинаково, то выведите то название, которое раньше в алфавитном порядке. Если этот товар продается в нескольких магазинах по одной минимальной цене, то выведите минимальное в алфавитном порядке название магазина.\n",
    "\n",
    "Задачу нужно решить без использования специальных библиотек для работы с табличными данными.\n",
    "\n",
    "**Входной файл: problem5.csv**  \n",
    "**Ответ выведите в блокноте**  "
   ]
  },
  {
   "cell_type": "code",
   "execution_count": 38,
   "metadata": {
    "collapsed": true
   },
   "outputs": [],
   "source": [
    "lst = []\n",
    "with open('problem5.csv') as fh:\n",
    "    for line in fh:\n",
    "        lst.append(line.strip().split(';'))"
   ]
  },
  {
   "cell_type": "code",
   "execution_count": 39,
   "metadata": {
    "collapsed": true
   },
   "outputs": [],
   "source": [
    "min_prices = []\n",
    "list_of_prices = []\n",
    "for i in range(1, len(lst)+1):\n",
    "    prices = []\n",
    "    for line in lst:\n",
    "        prices.append(line[i])\n",
    "    list_of_prices.append(prices)\n",
    "    min_prices.append(min(list(map(int,prices[1:]))))\n",
    "minimum = min(min_prices)"
   ]
  },
  {
   "cell_type": "code",
   "execution_count": 40,
   "metadata": {},
   "outputs": [
    {
     "data": {
      "text/plain": [
       "'Листья собачьей петрушки'"
      ]
     },
     "execution_count": 40,
     "metadata": {},
     "output_type": "execute_result"
    }
   ],
   "source": [
    "# find product with min price\n",
    "products = []\n",
    "for line in list_of_prices:\n",
    "    if minimum in list(map(int,line[1:])):\n",
    "        products.append(line[0])\n",
    "\n",
    "product = sorted(products)[0]\n",
    "product"
   ]
  },
  {
   "cell_type": "code",
   "execution_count": 41,
   "metadata": {},
   "outputs": [
    {
     "data": {
      "text/plain": [
       "'Магнит'"
      ]
     },
     "execution_count": 41,
     "metadata": {},
     "output_type": "execute_result"
    }
   ],
   "source": [
    "# find store where product is sold at min price\n",
    "stores = [line[0] for line in lst[1:]]\n",
    "prices_for_product = [l for l in list_of_prices if product in l]\n",
    "stores[list(map(int, prices_for_product[0][1:])).index(minimum)]"
   ]
  },
  {
   "cell_type": "markdown",
   "metadata": {},
   "source": [
    "# Задание 7. Бронирование комнат (2 балла)\n",
    "\n",
    "Менеджер отеля должен обработать N заказов на бронирование номеров на следующий сезон. В его отеле есть K номеров. Информация о бронировании содержит дату заезда и дату выезда. Менеджер хочет выяснить, достаточно ли номеров в отеле, чтобы удовлетворить спрос. В месяце 30 дней.\n",
    "\n",
    "Входные данные:\n",
    "\n",
    "— Первым на вход подается список с информацией о времени заезда\n",
    "— Вторым — список с информацией о времени выезда\n",
    "— Третьим — К, обозначающее количество номеров\n",
    "\n",
    "Выходные данные:\n",
    "— Логическое значение, которое обозначает возможность забронировать номера\n",
    "false означает, что в отеле не достаточно номеров для N бронирований\n",
    "true означает, что в отеле достаточно номеров для N бронирований\n",
    "\n",
    "Пример:\n",
    "\n",
    "Входные данные:  \n",
    "\n",
    "* даты заезда = [1, 3, 5]\n",
    "* даты выезда = [2, 6, 10]\n",
    "* К = 1\n",
    "\n",
    "Выходные данные: false. В день = 5 в отеле 2 гостя. Но у нас есть только один номер.\n",
    "\n",
    "*Подсказка.* Один из вариантов решения может быть таким - в цикле в каждый день месяца проверять сколько комнат занято в этот день.\n",
    "\n",
    "**Дополнительные 0.25 балла:** оцените сложность вашего решения в понятиях О-нотации (напишите в комментарии или markdown)."
   ]
  },
  {
   "cell_type": "code",
   "execution_count": 44,
   "metadata": {
    "collapsed": true
   },
   "outputs": [],
   "source": [
    "# данные для проверки\n",
    "arrivals = [1, 4, 5, 5, 8, 10, 23, 24, 24, 25]\n",
    "departures = [2, 7, 8, 20, 12, 13, 27, 25, 29, 26]\n",
    "rooms = 2"
   ]
  },
  {
   "cell_type": "code",
   "execution_count": 45,
   "metadata": {},
   "outputs": [
    {
     "data": {
      "text/plain": [
       "[('a', 2423), ('b', 232)]"
      ]
     },
     "execution_count": 45,
     "metadata": {},
     "output_type": "execute_result"
    }
   ],
   "source": [
    "# Возможно вам пригодится структура, когда даты каждого гостя объединены в кортеж (но можно решить и по-другому)\n",
    "# Сделать это можно с помощью функции zip, которой передаются два списка/кортежа одинаковой длины\n",
    "list(zip(['a', 'b'], [2423, 232]))"
   ]
  },
  {
   "cell_type": "code",
   "execution_count": 46,
   "metadata": {
    "collapsed": true
   },
   "outputs": [],
   "source": [
    "count = 0\n",
    "answer = True\n",
    "def booking(arrivals, departures, rooms):\n",
    "    global count\n",
    "    guests = list(zip(arrivals, departures))\n",
    "    for i in range(len(guests)):\n",
    "        for n in range(i+1, len(guests)):\n",
    "            if set(range(guests[i][0], (guests[i][1]+1))) & set(range(guests[n][0], (guests[n][1]+1))) != set():\n",
    "                count += 1\n",
    "            if count == (rooms+1):\n",
    "                break\n",
    "        if count == (rooms+1):\n",
    "            answer = False\n",
    "            break\n",
    "    return answer"
   ]
  },
  {
   "cell_type": "code",
   "execution_count": 47,
   "metadata": {},
   "outputs": [
    {
     "data": {
      "text/plain": [
       "False"
      ]
     },
     "execution_count": 47,
     "metadata": {},
     "output_type": "execute_result"
    }
   ],
   "source": [
    "booking(arrivals, departures, rooms)"
   ]
  },
  {
   "cell_type": "markdown",
   "metadata": {},
   "source": [
    "Сложность алгоритма:\n",
    "О(n^2)"
   ]
  }
 ],
 "metadata": {
  "kernelspec": {
   "display_name": "Python 3",
   "language": "python",
   "name": "python3"
  },
  "language_info": {
   "codemirror_mode": {
    "name": "ipython",
    "version": 3
   },
   "file_extension": ".py",
   "mimetype": "text/x-python",
   "name": "python",
   "nbconvert_exporter": "python",
   "pygments_lexer": "ipython3",
   "version": "3.6.1"
  }
 },
 "nbformat": 4,
 "nbformat_minor": 2
}
