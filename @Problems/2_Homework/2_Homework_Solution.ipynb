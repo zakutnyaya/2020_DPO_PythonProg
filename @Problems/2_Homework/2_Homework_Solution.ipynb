{
 "cells": [
  {
   "cell_type": "markdown",
   "metadata": {},
   "source": [
    "### Центр непрерывного образования\n",
    "# Программа «Python для автоматизации и анализа данных»¶\n",
    "\n",
    "Лабораторная/Домашняя работа # 2\n",
    "\n",
    "#### Disclaimer\n",
    "В некоторых заданиях нужно считывать файлы и записывать ответ в файл. Пожалуйста, читайте файлы из той же папки, где лежит к ним блокнот (не прописывайте к ним полный путь). Файл с ответом нужно вложить в архив с блокнотом и архив добавить в Dropbox.\n",
    "\n",
    "Всего можно набрать 12 баллов, максимальная оценка за работу - 10."
   ]
  },
  {
   "cell_type": "markdown",
   "metadata": {},
   "source": [
    "# Задание 1: Turtle (2 балла)\n",
    "\n",
    "Для выполнения этого задания нужно установить и импортировать модуль turtle - это черепашка с привязанной к спине кисточкой, движения которой мы программируем. Исполните следующую ячейку, чтобы установить нужный модуль.\n",
    "\n",
    "[Документация](https://github.com/takluyver/mobilechelonian)"
   ]
  },
  {
   "cell_type": "code",
   "execution_count": 34,
   "metadata": {},
   "outputs": [],
   "source": [
    "!pip install mobilechelonian"
   ]
  },
  {
   "cell_type": "markdown",
   "metadata": {},
   "source": [
    "Ниже показан пример, как нарисовать квадрат."
   ]
  },
  {
   "cell_type": "code",
   "execution_count": 1,
   "metadata": {},
   "outputs": [
    {
     "data": {
      "application/vnd.jupyter.widget-view+json": {
       "model_id": "9857f4efa73243eda50d67a4df375be5",
       "version_major": 2,
       "version_minor": 0
      },
      "text/plain": [
       "Turtle()"
      ]
     },
     "metadata": {},
     "output_type": "display_data"
    }
   ],
   "source": [
    "from mobilechelonian import Turtle # импортируем модуль для рисования\n",
    "\n",
    "t = Turtle() # создаем класс нашей черепашки\n",
    "\n",
    "t.speed(5) # задаем скорость\n",
    "t.pendown() # ставим \"кисть\" на холст\n",
    "t.forward(100) # идем вперед на 100 шагов\n",
    "t.right(90) # поворачиваем на 90 градусов вправо\n",
    "t.forward(100)\n",
    "t.right(90)\n",
    "t.forward(100)\n",
    "t.right(90)\n",
    "t.forward(100)\n",
    "t.penup() # поднимаем кисть"
   ]
  },
  {
   "cell_type": "markdown",
   "metadata": {},
   "source": [
    "Теперь то же самое с циклом. Также мы убрали команды penup и pendown, потому что по умолчанию кисть стоит на холсте, и в этой программе эта операция излишня."
   ]
  },
  {
   "cell_type": "code",
   "execution_count": 2,
   "metadata": {},
   "outputs": [
    {
     "data": {
      "application/vnd.jupyter.widget-view+json": {
       "model_id": "39ab26b350c14a04a5a083dc6d015cb8",
       "version_major": 2,
       "version_minor": 0
      },
      "text/plain": [
       "Turtle()"
      ]
     },
     "metadata": {},
     "output_type": "display_data"
    }
   ],
   "source": [
    "from mobilechelonian import Turtle # импортируем модуль для рисования\n",
    "\n",
    "t = Turtle() # создаем класс нашей черепашки\n",
    "\n",
    "t.speed(5) # задаем скорость\n",
    "t.forward(100)\n",
    "\n",
    "for i in range(3):\n",
    "    t.right(90)\n",
    "    t.forward(100)"
   ]
  },
  {
   "cell_type": "markdown",
   "metadata": {},
   "source": [
    "Рисуем круг."
   ]
  },
  {
   "cell_type": "code",
   "execution_count": 3,
   "metadata": {},
   "outputs": [
    {
     "data": {
      "application/vnd.jupyter.widget-view+json": {
       "model_id": "f41d9a835d2648ce8b82ebdd13fea10e",
       "version_major": 2,
       "version_minor": 0
      },
      "text/plain": [
       "Turtle()"
      ]
     },
     "metadata": {},
     "output_type": "display_data"
    }
   ],
   "source": [
    "t = Turtle() # создаем класс нашей черепашки\n",
    "\n",
    "t.speed(5) # задаем скорость\n",
    "\n",
    "t.penup(); t.left(90); t.forward(200);t.right(90) # поднимаем кисть с холста, проходим вперед, чтобы наш круг точно вместился\n",
    "t.pendown() # ставим кисть обратно на холст, иначе не будет рисовать\n",
    "colours = [\"yellow\", \"gold\", \"orange\", \"red\", \"maroon\", \"violet\", \"magenta\", \"gray\", \"white\"]\n",
    "\n",
    "for i in range (0,180):\n",
    "    t.pencolor(colours[i%7]) # есть список цветов, выбираем цвет в зависимости от i\n",
    "    t.right(2) # поворачиваемся на два градус\n",
    "    t.forward(5) # проходим 5 единиц"
   ]
  },
  {
   "cell_type": "markdown",
   "metadata": {},
   "source": [
    "#### Лепесток (1 балл)\n",
    "Вам задана функция left_turn(), которая рисует дугу. \n",
    "Создайте функцию petal, которая будет, используя функцию left_turn(), рисовать лепесток целиком и возвращать черепашку в центр цветка.\n",
    "\n",
    "Запустив функцию petal в цикле нарисуйте цветок с пятью лепестками (см. картинку).\n",
    "![](https://github.com/rogovich/2020_DPO_PythonProg/blob/master/@Problems/petal.png?raw=true)"
   ]
  },
  {
   "cell_type": "code",
   "execution_count": 20,
   "metadata": {},
   "outputs": [
    {
     "data": {
      "application/vnd.jupyter.widget-view+json": {
       "model_id": "a434635f78a1455dbe08bc6f18691975",
       "version_major": 2,
       "version_minor": 0
      },
      "text/plain": [
       "Turtle()"
      ]
     },
     "metadata": {},
     "output_type": "display_data"
    }
   ],
   "source": [
    "# дополните код в этой ячейке\n",
    "t = Turtle()\n",
    "t.speed(5)\n",
    "t.pencolor('magenta')\n",
    "\n",
    "def left_turn():\n",
    "    for i in range(10):\n",
    "        t.forward(15)\n",
    "        t.left(9)\n",
    "        \n",
    "for i in range(5):\n",
    "    left_turn()\n",
    "    t.left(90)\n",
    "    left_turn()\n",
    "    t.left(90/5)"
   ]
  },
  {
   "cell_type": "markdown",
   "metadata": {},
   "source": [
    "#### Звезда (1 балл)\n",
    "Напишите функцию, которая берет аргументом число - количество лучей звезды от 5 до 20. Ваша функция должна рисовать звезду с заданным количеством лучей. Запустите получившуюся функцию для 5, 11 и 20 лучей (в трех разных ячейках). Длина луча 200 единиц.\n",
    "\n",
    "**Уточненная формулировка**  \n",
    "1) Запустить готовую функцию для 5, 9 и 15 лучей  \n",
    "2) \"вперед\" черепашка будет ходить на 100, а не на 200  \n",
    "\n",
    "*Подсказка:* Угол поворота черепашки зависит от количества лучшей - она поворачивается на 180 градусов минус 180 градусов разделенные на количество лучей."
   ]
  },
  {
   "cell_type": "code",
   "execution_count": 27,
   "metadata": {},
   "outputs": [
    {
     "data": {
      "application/vnd.jupyter.widget-view+json": {
       "model_id": "de1bf11e316646a89a7a162e09d6ab37",
       "version_major": 2,
       "version_minor": 0
      },
      "text/plain": [
       "Turtle()"
      ]
     },
     "metadata": {},
     "output_type": "display_data"
    }
   ],
   "source": [
    "# ваше решение здесь\n",
    "def points(n):\n",
    "    t = Turtle()\n",
    "    t.speed(5)\n",
    "    for i in range(n):  # change to range(7)\n",
    "        t.right(180 - 180/n) # adjust this angle\n",
    "        t.forward(100)\n",
    "        \n",
    "points(5)"
   ]
  },
  {
   "cell_type": "code",
   "execution_count": 28,
   "metadata": {},
   "outputs": [
    {
     "data": {
      "application/vnd.jupyter.widget-view+json": {
       "model_id": "2a58fbaff6e7469189770dece8a87e98",
       "version_major": 2,
       "version_minor": 0
      },
      "text/plain": [
       "Turtle()"
      ]
     },
     "metadata": {},
     "output_type": "display_data"
    }
   ],
   "source": [
    "points(9)"
   ]
  },
  {
   "cell_type": "code",
   "execution_count": 29,
   "metadata": {},
   "outputs": [
    {
     "data": {
      "application/vnd.jupyter.widget-view+json": {
       "model_id": "adec97e7ad7549ac8312ceedb5b56e74",
       "version_major": 2,
       "version_minor": 0
      },
      "text/plain": [
       "Turtle()"
      ]
     },
     "metadata": {},
     "output_type": "display_data"
    }
   ],
   "source": [
    "points(15)"
   ]
  },
  {
   "cell_type": "markdown",
   "metadata": {},
   "source": [
    "# Задание 2: Язык племени Мумба-юмба (2.5 балла)"
   ]
  },
  {
   "cell_type": "markdown",
   "metadata": {},
   "source": [
    "Дан текст на языке племени Мумба-Юмба. Запишите в файл все слова, встречающиеся в тексте, разделяя их пробелом. Слова должны быть отсортированы по убыванию их количества появления в тексте, а при одинаковой частоте появления — в алфавитном порядке.\n",
    "\n",
    "Словом считается последовательность непробельных символов идущих подряд, слова разделены одним или большим числом пробелов или символами конца строки. Большие и маленькие буквы считаются различными\n",
    "\n",
    "*Подсказка.* После того, как вы создадите словарь всех слов, вам захочется отсортировать его по частоте встречаемости слова. \n",
    "Вызвав метод dict.items() от вашего словаря вы получите список кортежей вида [('what', 2), ('hi', 2), ('is', 1)]. Чтобы получилось нужная сортировка такой список нужно сначала отсортировать по алфавиту от a до z (первый элемент), а затем по убыванию их количества появления в тексте. Эту задачу можно решить через две сортировки (и не забудьте про параметр key во второй!).\n",
    "\n",
    "*Подсказка 2.* Когда будете записывать слова в файл, не забудьте, что после последнего слова пробела быть не должно.\n",
    "\n",
    "**Входной файл: problem2.txt**  \n",
    "**Приложите к блокноту файл с ответом: output2.txt**\n",
    "\n",
    "Первое слово в правильном ответе: qzjijwnklo, последнее: zzzsrymltasziudkfpqn"
   ]
  },
  {
   "cell_type": "code",
   "execution_count": 5,
   "metadata": {},
   "outputs": [],
   "source": [
    "# ваше решение здесь\n",
    "words = {}\n",
    "\n",
    "with open('problem2.txt') as fh:\n",
    "    for line in fh.readlines():\n",
    "        for word in line.strip().split():\n",
    "            words[word] = words.get(word, 0) + 1\n",
    "ordered = sorted(words.items(), key = lambda x: x[0])   \n",
    "ordered_q = sorted(ordered, key=lambda x: x[1], reverse = True)\n",
    "\n",
    "fh = open('test2.txt', 'w')\n",
    "for idx in range(len(ordered)):\n",
    "    if idx != len(ordered) - 1:\n",
    "        fh.write(ordered_q[idx][0] + ' ')\n",
    "    else:\n",
    "        fh.write(ordered_q[idx][0])\n",
    "        \n",
    "fh.close()"
   ]
  },
  {
   "cell_type": "code",
   "execution_count": 7,
   "metadata": {},
   "outputs": [
    {
     "name": "stdout",
     "output_type": "stream",
     "text": [
      "True\n"
     ]
    }
   ],
   "source": [
    "# тест подгруженного файла output2.txt\n",
    "with open('output2.txt') as f:\n",
    "    student_answer = f.read().strip()\n",
    "    \n",
    "with open('test2.txt') as f:\n",
    "    print(student_answer == f.read().strip())"
   ]
  },
  {
   "cell_type": "markdown",
   "metadata": {},
   "source": [
    "# Задание 3. Сумма строк (1 балл)\n",
    "\n",
    "Дан файл, каждая строка которого может содержать одно или несколько целых чисел, разделенных одним или несколькими пробелами.\n",
    "\n",
    "Вычислите сумму чисел в каждой строке и выведите эти суммы через пробел (для каждой строки выводится сумма чисел в этой строке).\n",
    "\n",
    "В этой задаче вам нужно подсчитать ответ для данного входного файла. \n",
    "\n",
    "**Входной файл: problem3.txt**  \n",
    "**Ответ выведите в блокноте. **\n",
    "\n",
    "Первое число в ответе: 34568147, последнее: 111\n",
    "\n",
    "Например, если бы содержимое входного файла было следующим:\n",
    "\n",
    "```\n",
    "2 2\n",
    " 3    4\n",
    " 1       5\n",
    "```\n",
    "то в качестве ответа необходимо было бы сдать последовательность чисел\n",
    "\n",
    "4 7 6"
   ]
  },
  {
   "cell_type": "code",
   "execution_count": 13,
   "metadata": {},
   "outputs": [
    {
     "name": "stdout",
     "output_type": "stream",
     "text": [
      "34568147 255016 5617498 0 31397 17 10119996 111 "
     ]
    }
   ],
   "source": [
    "# ваше решение здесь\n",
    "with open('problem3.txt') as fh:\n",
    "    for line in fh:\n",
    "        print(sum(map(int, line.strip().split())), end=' ')"
   ]
  },
  {
   "cell_type": "markdown",
   "metadata": {},
   "source": [
    "# Задание 4: буквы, строки и слова (1.5 балла)\n",
    "Дан файл. Определите сколько в нем букв (латинского алфавита), слов, строк. Выведите три найденных числа в формате, приведенном в примере. Словом считается последовательность больших и маленьких латинских букв. Все остальные символы считаются разделителями слов. Если будете решать регулярками, то будьте аккуратны, потому что некоторые выражения \"захватывают\" кроме букв лишние символы. Если будете пользоваться методами строк, то .isalpha() проверяет на то, что строка является латинской буквой.\n",
    "\n",
    "Пример входного файла:\n",
    "```\n",
    "Beautiful is better than ugly.\n",
    "Explicit is better than implicit.\n",
    "Simple is better than complex.\n",
    "Complex is better than complicated.\n",
    "```\n",
    "Пример ответа:\n",
    "\n",
    "```\n",
    "Input file contains:\n",
    "108 letters \n",
    "20 words \n",
    "4 lines \n",
    "```\n",
    "\n",
    "**Входной файл: problem4.txt**  \n",
    "**Ответ нужно вывести в блокноте по образцу в примере**\n",
    "\n",
    "В количестве букв первая цифра 4, а последняя 3.  \n",
    "В количестве слов: 1 и 6.  \n",
    "В количестве строк: 1 и 0.  "
   ]
  },
  {
   "cell_type": "code",
   "execution_count": 14,
   "metadata": {},
   "outputs": [
    {
     "name": "stdout",
     "output_type": "stream",
     "text": [
      "Input file contains:\n",
      "44473 letters\n",
      "11496 words\n",
      "1000 lines\n"
     ]
    }
   ],
   "source": [
    "import re\n",
    "with open('problem4.txt') as fh:\n",
    "    letters = 0\n",
    "    words = 0\n",
    "    lines = fh.readlines()\n",
    "    for line in lines:\n",
    "        letters += len(re.findall(r'[a-zA-Z]', line.strip()))\n",
    "        words += len(re.findall(r'[a-zA-Z]+', line.strip()))\n",
    "\n",
    "print('Input file contains:')\n",
    "print(letters, 'letters')\n",
    "print(words, 'words')\n",
    "print(len(lines), 'lines')"
   ]
  },
  {
   "cell_type": "markdown",
   "metadata": {},
   "source": [
    "# Задание 5*: Вася идет в магазин (3 балла)\n",
    "Вася составил таблицу с ценами на продукты в разных магазинах. В первой строке таблицы (кроме первой ячейки) записаны названия продуктов. Во всех строках, начиная со второй, записана информация о ценах в магазине. В первой ячейке написано название магазина, а в ячейках, начиная со второй - цена на товар, название которого записано в первой строке соответствующего столбца.\n",
    "\n",
    "Таблица задана как csv-файл, разделителем ячеек выступает точка с запятой, а строковые константы не окружаются кавычками. При открытии файла задайте кодировку utf8.\n",
    "\n",
    "Вася очень хочет поесть, но денег у него мало. Поэтому помогите ему определить самый дешевый продукт и в каком магазине он продается. Название продукта следует записать в первой строке, а название магазина - во второй. Если несколько товаров стоят одинаково, то выведите то название, которое раньше в алфавитном порядке. Если этот товар продается в нескольких магазинах по одной минимальной цене, то выведите минимальное в алфавитном порядке название магазина.\n",
    "\n",
    "Задачу нужно решить без использования специальных библиотек для работы с табличными данными.\n",
    "\n",
    "**Входной файл: problem5.csv**  \n",
    "**Ответ выведите в блокноте**  "
   ]
  },
  {
   "cell_type": "code",
   "execution_count": 15,
   "metadata": {},
   "outputs": [
    {
     "name": "stdout",
     "output_type": "stream",
     "text": [
      "Листья собачьей петрушки\n",
      "Магнит\n"
     ]
    }
   ],
   "source": [
    "# решение здесь\n",
    "\n",
    "with open('problem5.csv', encoding='utf8') as fh:\n",
    "    rows = []\n",
    "    for line in fh.readlines():\n",
    "        rows.append(line.strip().split(';'))\n",
    "\n",
    "#for row in rows:\n",
    "#    print(row)\n",
    "\n",
    "min_prices = {}\n",
    "for row in rows[1:]:\n",
    "    min_store = min(map(int, row[1:]))\n",
    "    min_prices[row[0]] = (min_store, rows[0][row.index(str(min_store))])\n",
    "                          \n",
    "min_price = min(min_prices.values())\n",
    "\n",
    "answer = []\n",
    "for key, value in min_prices.items():\n",
    "    if value[0] == min_price[0]:\n",
    "        answer.append([value[1], key])\n",
    "        \n",
    "print(*sorted(answer)[0], sep='\\n')"
   ]
  },
  {
   "cell_type": "markdown",
   "metadata": {},
   "source": [
    "# Задание 7. Бронирование комнат (2 балла)\n",
    "\n",
    "Менеджер отеля должен обработать N заказов на бронирование номеров на следующий сезон. В его отеле есть K номеров. Информация о бронировании содержит дату заезда и дату выезда. Менеджер хочет выяснить, достаточно ли номеров в отеле, чтобы удовлетворить спрос. В месяце 30 дней.\n",
    "\n",
    "Входные данные:\n",
    "\n",
    "— Первым на вход подается список с информацией о времени заезда\n",
    "— Вторым — список с информацией о времени выезда\n",
    "— Третьим — К, обозначающее количество номеров\n",
    "\n",
    "Выходные данные:\n",
    "— Логическое значение, которое обозначает возможность забронировать номера\n",
    "false означает, что в отеле не достаточно номеров для N бронирований\n",
    "true означает, что в отеле достаточно номеров для N бронирований\n",
    "\n",
    "Пример:\n",
    "\n",
    "Входные данные:  \n",
    "\n",
    "* даты заезда = [1, 3, 5]\n",
    "* даты выезда = [2, 6, 10]\n",
    "* К = 1\n",
    "\n",
    "Выходные данные: false. \n",
    "В день = 5 в отеле 2 гостя. Но у нас есть только один номер.\n",
    "\n",
    "*Подсказка.* Один из вариантов решения может быть таким - в цикле в каждый день месяца проверять сколько комнат занято в этот день.\n",
    "\n",
    "**Дополнительные 0.25 балла:** оцените сложность вашего решения в понятиях О-нотации (напишите в комментарии или markdown)."
   ]
  },
  {
   "cell_type": "code",
   "execution_count": 24,
   "metadata": {},
   "outputs": [],
   "source": [
    "# данные для проверки\n",
    "arrivals = [1, 4, 5, 5, 8, 10, 23, 24, 24, 25]\n",
    "departures = [2, 7, 8, 20, 12, 13, 27, 25, 29, 26]\n",
    "rooms = 2"
   ]
  },
  {
   "cell_type": "code",
   "execution_count": 12,
   "metadata": {},
   "outputs": [
    {
     "data": {
      "text/plain": [
       "[('a', 2423), ('b', 232)]"
      ]
     },
     "execution_count": 12,
     "metadata": {},
     "output_type": "execute_result"
    }
   ],
   "source": [
    "# Возможно вам пригодится структура, когда даты каждого гостя объединены в кортеж (но можно решить и по-другому)\n",
    "# Сделать это можно с помощью функции zip, которой передаются два списка/кортежа одинаковой длины\n",
    "list(zip(['a', 'b'], [2423, 232]))"
   ]
  },
  {
   "cell_type": "code",
   "execution_count": 20,
   "metadata": {},
   "outputs": [
    {
     "name": "stdout",
     "output_type": "stream",
     "text": [
      "[(1, 2), (4, 7), (5, 8), (5, 20), (8, 12), (10, 13), (23, 27), (24, 25), (24, 29), (25, 26)]\n",
      "1 забронировано 1 комнат\n",
      "2 забронировано 0 комнат\n",
      "3 забронировано 0 комнат\n",
      "4 забронировано 1 комнат\n",
      "5 числа нужно 3, доступно 2\n",
      "6 числа нужно 3, доступно 2\n",
      "7 забронировано 2 комнат\n",
      "8 забронировано 2 комнат\n",
      "9 забронировано 2 комнат\n",
      "10 числа нужно 3, доступно 2\n",
      "11 числа нужно 3, доступно 2\n",
      "12 забронировано 2 комнат\n",
      "13 забронировано 1 комнат\n",
      "14 забронировано 1 комнат\n",
      "15 забронировано 1 комнат\n",
      "16 забронировано 1 комнат\n",
      "17 забронировано 1 комнат\n",
      "18 забронировано 1 комнат\n",
      "19 забронировано 1 комнат\n",
      "20 забронировано 0 комнат\n",
      "21 забронировано 0 комнат\n",
      "22 забронировано 0 комнат\n",
      "23 забронировано 1 комнат\n",
      "24 числа нужно 3, доступно 2\n",
      "25 числа нужно 3, доступно 2\n",
      "26 забронировано 2 комнат\n",
      "27 забронировано 1 комнат\n",
      "28 забронировано 1 комнат\n",
      "29 забронировано 0 комнат\n",
      "30 забронировано 0 комнат\n"
     ]
    }
   ],
   "source": [
    "# Проверяем логику\n",
    "guests = list(zip(arrivals, departures))\n",
    "print(guests)\n",
    "\n",
    "for date in range(1,31):\n",
    "    rooms_booked = 0\n",
    "    for guest in guests:\n",
    "        if date in range(guest[0], guest[1]):\n",
    "            rooms_booked += 1\n",
    "    if rooms_booked > rooms:\n",
    "        print(f'{date} числа нужно {rooms_booked}, доступно {rooms}')\n",
    "    else:\n",
    "        print(f'{date} забронировано {rooms_booked} комнат')"
   ]
  },
  {
   "cell_type": "code",
   "execution_count": 25,
   "metadata": {},
   "outputs": [
    {
     "name": "stdout",
     "output_type": "stream",
     "text": [
      "False\n"
     ]
    }
   ],
   "source": [
    "# делаем вывод в соответствие с заданием\n",
    "# Проверяем логику\n",
    "guests = list(zip(arrivals, departures))\n",
    "\n",
    "for date in range(1,31):\n",
    "    rooms_booked = 0\n",
    "    for guest in guests:\n",
    "        if date in range(guest[0], guest[1]):\n",
    "            rooms_booked += 1\n",
    "    if rooms_booked > rooms:\n",
    "        print(False)\n",
    "        break\n",
    "else:\n",
    "    print(True)"
   ]
  }
 ],
 "metadata": {
  "kernelspec": {
   "display_name": "Python 3",
   "language": "python",
   "name": "python3"
  },
  "language_info": {
   "codemirror_mode": {
    "name": "ipython",
    "version": 3
   },
   "file_extension": ".py",
   "mimetype": "text/x-python",
   "name": "python",
   "nbconvert_exporter": "python",
   "pygments_lexer": "ipython3",
   "version": "3.6.5"
  }
 },
 "nbformat": 4,
 "nbformat_minor": 2
}
