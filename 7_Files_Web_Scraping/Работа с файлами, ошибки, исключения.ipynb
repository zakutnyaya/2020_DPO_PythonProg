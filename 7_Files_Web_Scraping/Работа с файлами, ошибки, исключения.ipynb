{
 "cells": [
  {
   "cell_type": "code",
   "execution_count": 1,
   "metadata": {},
   "outputs": [
    {
     "data": {
      "text/plain": [
       "''"
      ]
     },
     "execution_count": 1,
     "metadata": {},
     "output_type": "execute_result"
    }
   ],
   "source": [
    "# считываение из консоли: на вход подаются файлы в виже одной строки (input)\n",
    "# и в виде нескольких строк\n",
    "import sys\n",
    "sys.stdin.read()"
   ]
  },
  {
   "cell_type": "code",
   "execution_count": 2,
   "metadata": {},
   "outputs": [
    {
     "data": {
      "text/plain": [
       "'/Users/pro'"
      ]
     },
     "execution_count": 2,
     "metadata": {},
     "output_type": "execute_result"
    }
   ],
   "source": [
    "# считываем файл в питоне\n",
    "# как узнать, какая папка рабочая - current working directory\n",
    "import os \n",
    "os.getcwd()"
   ]
  },
  {
   "cell_type": "code",
   "execution_count": null,
   "metadata": {
    "collapsed": true
   },
   "outputs": [],
   "source": [
    "# изменить рабочую папку\n",
    "os.chdir(r'адрес новой папки')"
   ]
  },
  {
   "cell_type": "code",
   "execution_count": 3,
   "metadata": {},
   "outputs": [
    {
     "data": {
      "text/plain": [
       "['WSJ_.ipynb',\n",
       " 'machine learning',\n",
       " 'anaconda',\n",
       " '.Rhistory',\n",
       " '.config',\n",
       " 'Music',\n",
       " 'Topic 2. Visual data analysis in Python.ipynb',\n",
       " '2020_DPO_4_2_for_exercises_no_solution_1.ipynb',\n",
       " '#3.ipynb',\n",
       " 'advertising.csv',\n",
       " '.bash_profile-anaconda.bak',\n",
       " 'business.ipynb',\n",
       " 'Preprocessing_LR (2) (2) (3).ipynb',\n",
       " '#1.ipynb',\n",
       " '.condarc',\n",
       " '.wine',\n",
       " '.docker',\n",
       " 'EURUSD-2.csv',\n",
       " 'EURUSD-3.csv',\n",
       " 'grad_boosting (8).ipynb',\n",
       " 'eqh.csv',\n",
       " 'vector_operations.ipynb',\n",
       " 'assignment04_sarcasm_detection_with_logit.ipynb',\n",
       " 'Untitled1.ipynb',\n",
       " 'des',\n",
       " '.DS_Store',\n",
       " '.R',\n",
       " 'nltk_data',\n",
       " '2020_DPO_2_0_Problems.ipynb',\n",
       " 'Reuters.ipynb',\n",
       " 'PA_linreg_stochastic_grad_descent%25252B%252525283%25252529%252B%2525281%252529%2B%25281%2529 (2).ipynb',\n",
       " 'tEconomics.ipynb',\n",
       " 'VirtualBox VMs',\n",
       " 'FinancialTimes.ipynb',\n",
       " '_4ab18fecb0118ac251481997dad69c38_MetricsPA.ipynb',\n",
       " 'freq.csv',\n",
       " '.CFUserTextEncoding',\n",
       " 'weights_heights.csv',\n",
       " 'second class.ipynb',\n",
       " 'lefties',\n",
       " '.subversion',\n",
       " '2020_DPO_4_2_for_exercises_no_solution_2.ipynb',\n",
       " 'Untitled.ipynb',\n",
       " 'Mukhina_peer_review_linreg_height_weight.ipynb',\n",
       " 'NLTK-Copy1.ipynb',\n",
       " '.ServiceHub',\n",
       " 'sample_distribution_evaluation.ipynb',\n",
       " 'EURUSD_170701_170909.txt',\n",
       " '.mime.types',\n",
       " '.templateengine',\n",
       " '2020_DPO_2_4_If_Else.ipynb',\n",
       " '.plotly',\n",
       " 'peer_review_linreg_height_weight+%285%29+(1) (2).ipynb',\n",
       " '.local',\n",
       " 'CNBCnow_f.csv',\n",
       " '.oanda',\n",
       " 'Projects',\n",
       " 'Pictures',\n",
       " 'for.ipynb',\n",
       " 'f5',\n",
       " 'markets_f.csv',\n",
       " '.InstallAnywhere',\n",
       " '1_ClassWork_Zakutniaia_Ann.ipynb',\n",
       " 'folder',\n",
       " '.fontconfig',\n",
       " '#2.ipynb',\n",
       " '_wine_data.csv',\n",
       " 'WSJ_f.csv',\n",
       " 'freq',\n",
       " 'node_modules',\n",
       " 'ForexLive.ipynb',\n",
       " '.rnd',\n",
       " 'WSJ.csv',\n",
       " 'comp.csv',\n",
       " 'ecb_f.csv',\n",
       " '2020_DPO_3_0_RegExp_Problems.ipynb',\n",
       " '2020_DPO_3_0_Problems.ipynb',\n",
       " 'Untitled2.ipynb',\n",
       " '.ipython',\n",
       " 'Desktop',\n",
       " 'Library',\n",
       " 'best.csv',\n",
       " '.matplotlib',\n",
       " '2020_DPO_4_2_for_exercises_no_solution-3.ipynb',\n",
       " 'training_tweets1.csv',\n",
       " '.glue',\n",
       " '.gretl',\n",
       " 'cnnbrk.ipynb',\n",
       " '2020_DPO_4_2_for_exercises_no_solution.ipynb',\n",
       " '.oracle_jre_usage',\n",
       " '.spyder-py3',\n",
       " '.IdentityService',\n",
       " 'movie_reviews_train.csv',\n",
       " 'data.csv',\n",
       " 'uj',\n",
       " 'seaborn-data',\n",
       " 'freq1.csv',\n",
       " '.bash_profile.pysave',\n",
       " 'Classification-bayes.ipynb',\n",
       " '.node_repl_history',\n",
       " '.gretl2rc',\n",
       " '.android',\n",
       " 'scikit_learn_data',\n",
       " '_wine.ipynb',\n",
       " '.cups',\n",
       " 'week 3 hw 1.ipynb',\n",
       " 'Classification.ipynb',\n",
       " 'ecb.ipynb',\n",
       " '.bash_sessions',\n",
       " '.matlab',\n",
       " 'PycharmProjects',\n",
       " 'Public',\n",
       " 'cnnbrk_f.csv',\n",
       " 'package-lock.json',\n",
       " 'week_2_hw1.ipynb',\n",
       " 'china.xlsx',\n",
       " '.idlerc',\n",
       " '_ace5e882e7693a1a4babb033e6afc616_NumPy_-SciPy_-Matplotlib-intro.ipynb',\n",
       " '2020_DPO_0_Refresher.ipynb',\n",
       " 'CNBCnow.ipynb',\n",
       " 'bikes_rent.csv',\n",
       " '634501.xls',\n",
       " '3.txt',\n",
       " '.RData',\n",
       " 'mp',\n",
       " '2.txt',\n",
       " 'training_tweets.csv',\n",
       " 'freq.xlsx',\n",
       " '.anaconda',\n",
       " 'ForexLive_f.csv',\n",
       " 'Untitled8.ipynb',\n",
       " ' Курс по алгоритмам 1 занятие.ipynb',\n",
       " '.ssh',\n",
       " 'Movies',\n",
       " 'Applications',\n",
       " 'WSJ.ipynb',\n",
       " 'df_f.csv',\n",
       " '.xbmc',\n",
       " 'business-Copy2.ipynb',\n",
       " '.Rapp.history',\n",
       " '1.txt',\n",
       " 'markets.ipynb',\n",
       " 'federalreserve_f.csv',\n",
       " '.Trash',\n",
       " 'train-balanced-sarcasm.csv',\n",
       " 'FinancialTimes_f.csv',\n",
       " 'MetricsPA+(1) (6).ipynb',\n",
       " 'strings and regexps.ipynb',\n",
       " 'market',\n",
       " '.ipynb_checkpoints',\n",
       " 'tEconomics_f.csv',\n",
       " '.jupyter',\n",
       " '~$au_monthly.xlsx',\n",
       " 'Reuters_f.csv',\n",
       " '.npm',\n",
       " 'submission-2.txt',\n",
       " 'Classification-svm.ipynb',\n",
       " 'Documents',\n",
       " 'credit_scoring_sample.csv',\n",
       " 'Функции.ipynb',\n",
       " '.mailcap',\n",
       " 'Документы',\n",
       " 'sentences.txt',\n",
       " 'words analysis-alternative.ipynb',\n",
       " 'bloom_tweets.csv',\n",
       " 'third class if while.ipynb',\n",
       " '.rstudio-desktop',\n",
       " 'Алгоритмы.ipynb',\n",
       " '.mono',\n",
       " 'week_2_hw2.ipynb',\n",
       " 'market_4.html',\n",
       " '.spss',\n",
       " 'submission-1.txt',\n",
       " '.bash_profile',\n",
       " '~$au_yearly.xlsx',\n",
       " '.Xauthority',\n",
       " 'assignment3_part2_rf_logit_scoring_texts.ipynb',\n",
       " 'business_f.csv',\n",
       " '_ca24b7cefb51094444b74daef1ee1f6c_matrix_operations-.ipynb',\n",
       " 'Downloads',\n",
       " '.python_history',\n",
       " '.cache',\n",
       " 'task_nn.ipynb',\n",
       " 'third class.ipynb',\n",
       " 'alternative.xlsx',\n",
       " '.gitconfig',\n",
       " 'Task4.ipynb.txt',\n",
       " '.bash_history',\n",
       " '.nchsoftware',\n",
       " \"PlayOnMac's virtual drives\",\n",
       " '.astropy',\n",
       " 'go-ipfs',\n",
       " '_a9d96a1157bdb796ab80e25379c98536_sklearn.metrics.ipynb',\n",
       " '.conda',\n",
       " 'test.xls',\n",
       " '2020_DPO_4_2_for_exercises_no_solution2.ipynb',\n",
       " 'Stocks.ipynb']"
      ]
     },
     "execution_count": 3,
     "metadata": {},
     "output_type": "execute_result"
    }
   ],
   "source": [
    "# файлы, которые лежат в рабочей папке\n",
    "os.listdir()"
   ]
  },
  {
   "cell_type": "code",
   "execution_count": 6,
   "metadata": {},
   "outputs": [
    {
     "name": "stdout",
     "output_type": "stream",
     "text": [
      "Collecting mobilechelonian\n",
      "  Using cached mobilechelonian-0.5-py2.py3-none-any.whl (94 kB)\n",
      "Requirement already satisfied: IPython in ./anaconda/lib/python3.6/site-packages (from mobilechelonian) (5.3.0)\n",
      "Collecting ipywidgets>=7.0.0\n",
      "  Using cached ipywidgets-7.5.1-py2.py3-none-any.whl (121 kB)\n",
      "Requirement already satisfied: ipykernel>=4.5.1 in ./anaconda/lib/python3.6/site-packages (from ipywidgets>=7.0.0->mobilechelonian) (4.6.1)\n",
      "Requirement already satisfied: widgetsnbextension~=3.5.0 in ./anaconda/lib/python3.6/site-packages (from ipywidgets>=7.0.0->mobilechelonian) (3.5.1)\n",
      "Requirement already satisfied: nbformat>=4.2.0 in ./anaconda/lib/python3.6/site-packages (from ipywidgets>=7.0.0->mobilechelonian) (4.3.0)\n",
      "Requirement already satisfied: traitlets>=4.3.1 in ./anaconda/lib/python3.6/site-packages (from ipywidgets>=7.0.0->mobilechelonian) (4.3.2)\n",
      "Requirement already satisfied: notebook>=4.4.1 in ./anaconda/lib/python3.6/site-packages (from widgetsnbextension~=3.5.0->ipywidgets>=7.0.0->mobilechelonian) (5.0.0)\n",
      "Installing collected packages: ipywidgets, mobilechelonian\n",
      "  Attempting uninstall: ipywidgets\n",
      "    Found existing installation: ipywidgets 6.0.0\n",
      "\u001b[31mERROR: Cannot uninstall 'ipywidgets'. It is a distutils installed project and thus we cannot accurately determine which files belong to it which would lead to only a partial uninstall.\u001b[0m\n"
     ]
    }
   ],
   "source": [
    "!pip install mobilechelonian"
   ]
  },
  {
   "cell_type": "code",
   "execution_count": 5,
   "metadata": {},
   "outputs": [
    {
     "name": "stdout",
     "output_type": "stream",
     "text": [
      "Collecting pip\n",
      "\u001b[?25l  Downloading https://files.pythonhosted.org/packages/54/0c/d01aa759fdc501a58f431eb594a17495f15b88da142ce14b5845662c13f3/pip-20.0.2-py2.py3-none-any.whl (1.4MB)\n",
      "\u001b[K     |████████████████████████████████| 1.4MB 1.1MB/s eta 0:00:01\n",
      "\u001b[?25hInstalling collected packages: pip\n",
      "  Found existing installation: pip 19.3.1\n",
      "    Uninstalling pip-19.3.1:\n",
      "      Successfully uninstalled pip-19.3.1\n",
      "Successfully installed pip-20.0.2\n"
     ]
    }
   ],
   "source": [
    "!pip install --upgrade pip"
   ]
  },
  {
   "cell_type": "markdown",
   "metadata": {},
   "source": [
    "### работа с файлами"
   ]
  },
  {
   "cell_type": "code",
   "execution_count": 10,
   "metadata": {
    "collapsed": true
   },
   "outputs": [],
   "source": [
    "# w - режим записи write\n",
    "# если файл в директории есть, то он откроется, если нет, то файл создастся\n",
    "# fh - file handle\n",
    "# операции: чтение, запись, открытие и закрытие\n",
    "fh = open('test.txt', 'w', encoding = 'utf8')"
   ]
  },
  {
   "cell_type": "code",
   "execution_count": 9,
   "metadata": {},
   "outputs": [
    {
     "data": {
      "text/plain": [
       "['WSJ_.ipynb',\n",
       " 'machine learning',\n",
       " 'anaconda',\n",
       " '.Rhistory',\n",
       " '.config',\n",
       " 'Music',\n",
       " 'Topic 2. Visual data analysis in Python.ipynb',\n",
       " '2020_DPO_4_2_for_exercises_no_solution_1.ipynb',\n",
       " '#3.ipynb',\n",
       " 'advertising.csv',\n",
       " '.bash_profile-anaconda.bak',\n",
       " 'business.ipynb',\n",
       " 'Preprocessing_LR (2) (2) (3).ipynb',\n",
       " '#1.ipynb',\n",
       " '.condarc',\n",
       " '.wine',\n",
       " '.docker',\n",
       " 'EURUSD-2.csv',\n",
       " 'EURUSD-3.csv',\n",
       " 'grad_boosting (8).ipynb',\n",
       " 'eqh.csv',\n",
       " 'vector_operations.ipynb',\n",
       " 'assignment04_sarcasm_detection_with_logit.ipynb',\n",
       " 'Untitled1.ipynb',\n",
       " 'des',\n",
       " '.DS_Store',\n",
       " '.R',\n",
       " 'nltk_data',\n",
       " '2020_DPO_2_0_Problems.ipynb',\n",
       " 'Reuters.ipynb',\n",
       " 'PA_linreg_stochastic_grad_descent%25252B%252525283%25252529%252B%2525281%252529%2B%25281%2529 (2).ipynb',\n",
       " 'tEconomics.ipynb',\n",
       " 'VirtualBox VMs',\n",
       " 'FinancialTimes.ipynb',\n",
       " '_4ab18fecb0118ac251481997dad69c38_MetricsPA.ipynb',\n",
       " 'freq.csv',\n",
       " '.CFUserTextEncoding',\n",
       " 'weights_heights.csv',\n",
       " 'second class.ipynb',\n",
       " 'lefties',\n",
       " '.subversion',\n",
       " '2020_DPO_4_2_for_exercises_no_solution_2.ipynb',\n",
       " 'Untitled.ipynb',\n",
       " 'Mukhina_peer_review_linreg_height_weight.ipynb',\n",
       " 'NLTK-Copy1.ipynb',\n",
       " '.ServiceHub',\n",
       " 'sample_distribution_evaluation.ipynb',\n",
       " 'EURUSD_170701_170909.txt',\n",
       " '.mime.types',\n",
       " '.templateengine',\n",
       " '2020_DPO_2_4_If_Else.ipynb',\n",
       " '.plotly',\n",
       " 'peer_review_linreg_height_weight+%285%29+(1) (2).ipynb',\n",
       " '.local',\n",
       " 'CNBCnow_f.csv',\n",
       " '.oanda',\n",
       " 'Projects',\n",
       " 'Pictures',\n",
       " 'for.ipynb',\n",
       " 'f5',\n",
       " 'markets_f.csv',\n",
       " '.InstallAnywhere',\n",
       " '1_ClassWork_Zakutniaia_Ann.ipynb',\n",
       " 'folder',\n",
       " '.fontconfig',\n",
       " '#2.ipynb',\n",
       " '_wine_data.csv',\n",
       " 'WSJ_f.csv',\n",
       " 'freq',\n",
       " 'node_modules',\n",
       " 'ForexLive.ipynb',\n",
       " '.rnd',\n",
       " 'WSJ.csv',\n",
       " 'comp.csv',\n",
       " 'ecb_f.csv',\n",
       " '2020_DPO_3_0_RegExp_Problems.ipynb',\n",
       " '2020_DPO_3_0_Problems.ipynb',\n",
       " 'Untitled2.ipynb',\n",
       " '.ipython',\n",
       " 'Desktop',\n",
       " 'Library',\n",
       " 'best.csv',\n",
       " '.matplotlib',\n",
       " '2020_DPO_4_2_for_exercises_no_solution-3.ipynb',\n",
       " 'training_tweets1.csv',\n",
       " '.glue',\n",
       " '.gretl',\n",
       " 'cnnbrk.ipynb',\n",
       " '2020_DPO_4_2_for_exercises_no_solution.ipynb',\n",
       " '.oracle_jre_usage',\n",
       " '.spyder-py3',\n",
       " '.IdentityService',\n",
       " 'movie_reviews_train.csv',\n",
       " 'data.csv',\n",
       " 'uj',\n",
       " 'seaborn-data',\n",
       " 'freq1.csv',\n",
       " '.bash_profile.pysave',\n",
       " 'Classification-bayes.ipynb',\n",
       " '.node_repl_history',\n",
       " '.gretl2rc',\n",
       " '.android',\n",
       " 'scikit_learn_data',\n",
       " '_wine.ipynb',\n",
       " '.cups',\n",
       " 'week 3 hw 1.ipynb',\n",
       " 'Classification.ipynb',\n",
       " 'ecb.ipynb',\n",
       " '.bash_sessions',\n",
       " '.matlab',\n",
       " 'PycharmProjects',\n",
       " 'Public',\n",
       " 'cnnbrk_f.csv',\n",
       " 'package-lock.json',\n",
       " 'week_2_hw1.ipynb',\n",
       " 'china.xlsx',\n",
       " '.idlerc',\n",
       " '_ace5e882e7693a1a4babb033e6afc616_NumPy_-SciPy_-Matplotlib-intro.ipynb',\n",
       " '2020_DPO_0_Refresher.ipynb',\n",
       " 'CNBCnow.ipynb',\n",
       " 'bikes_rent.csv',\n",
       " '634501.xls',\n",
       " '3.txt',\n",
       " '.RData',\n",
       " 'mp',\n",
       " '2.txt',\n",
       " 'training_tweets.csv',\n",
       " 'freq.xlsx',\n",
       " '.anaconda',\n",
       " 'ForexLive_f.csv',\n",
       " 'Untitled8.ipynb',\n",
       " ' Курс по алгоритмам 1 занятие.ipynb',\n",
       " '.ssh',\n",
       " 'Movies',\n",
       " 'Applications',\n",
       " 'WSJ.ipynb',\n",
       " 'df_f.csv',\n",
       " '.xbmc',\n",
       " 'business-Copy2.ipynb',\n",
       " '.Rapp.history',\n",
       " '1.txt',\n",
       " 'markets.ipynb',\n",
       " 'federalreserve_f.csv',\n",
       " '.Trash',\n",
       " 'train-balanced-sarcasm.csv',\n",
       " 'FinancialTimes_f.csv',\n",
       " 'MetricsPA+(1) (6).ipynb',\n",
       " 'test.txt',\n",
       " 'strings and regexps.ipynb',\n",
       " 'market',\n",
       " '.ipynb_checkpoints',\n",
       " 'tEconomics_f.csv',\n",
       " '.jupyter',\n",
       " '~$au_monthly.xlsx',\n",
       " 'Reuters_f.csv',\n",
       " '.npm',\n",
       " 'submission-2.txt',\n",
       " 'Classification-svm.ipynb',\n",
       " 'Documents',\n",
       " 'credit_scoring_sample.csv',\n",
       " 'Функции.ipynb',\n",
       " '.mailcap',\n",
       " 'Документы',\n",
       " 'sentences.txt',\n",
       " 'words analysis-alternative.ipynb',\n",
       " 'bloom_tweets.csv',\n",
       " 'third class if while.ipynb',\n",
       " '.rstudio-desktop',\n",
       " 'Алгоритмы.ipynb',\n",
       " '.mono',\n",
       " 'week_2_hw2.ipynb',\n",
       " 'market_4.html',\n",
       " '.spss',\n",
       " 'submission-1.txt',\n",
       " '.bash_profile',\n",
       " '~$au_yearly.xlsx',\n",
       " '.Xauthority',\n",
       " 'assignment3_part2_rf_logit_scoring_texts.ipynb',\n",
       " 'business_f.csv',\n",
       " '_ca24b7cefb51094444b74daef1ee1f6c_matrix_operations-.ipynb',\n",
       " 'Downloads',\n",
       " '.python_history',\n",
       " '.cache',\n",
       " 'task_nn.ipynb',\n",
       " 'third class.ipynb',\n",
       " 'alternative.xlsx',\n",
       " '.gitconfig',\n",
       " 'Task4.ipynb.txt',\n",
       " '.bash_history',\n",
       " '.nchsoftware',\n",
       " \"PlayOnMac's virtual drives\",\n",
       " '.astropy',\n",
       " 'go-ipfs',\n",
       " '_a9d96a1157bdb796ab80e25379c98536_sklearn.metrics.ipynb',\n",
       " '.conda',\n",
       " 'test.xls',\n",
       " '2020_DPO_4_2_for_exercises_no_solution2.ipynb',\n",
       " 'Stocks.ipynb']"
      ]
     },
     "execution_count": 9,
     "metadata": {},
     "output_type": "execute_result"
    }
   ],
   "source": [
    "os.listdir()"
   ]
  },
  {
   "cell_type": "code",
   "execution_count": 13,
   "metadata": {},
   "outputs": [],
   "source": [
    "# запись в файл\n",
    "fh.write('Hello, world')\n",
    "fh.close()"
   ]
  },
  {
   "cell_type": "code",
   "execution_count": 15,
   "metadata": {},
   "outputs": [
    {
     "ename": "ValueError",
     "evalue": "I/O operation on closed file.",
     "output_type": "error",
     "traceback": [
      "\u001b[0;31m---------------------------------------------------------------------------\u001b[0m",
      "\u001b[0;31mValueError\u001b[0m                                Traceback (most recent call last)",
      "\u001b[0;32m<ipython-input-15-ce0cdafe5ecf>\u001b[0m in \u001b[0;36m<module>\u001b[0;34m()\u001b[0m\n\u001b[1;32m      1\u001b[0m \u001b[0;31m# файл уже закрыт, в него больше ничего записать нельзя\u001b[0m\u001b[0;34m\u001b[0m\u001b[0;34m\u001b[0m\u001b[0m\n\u001b[0;32m----> 2\u001b[0;31m \u001b[0mfh\u001b[0m\u001b[0;34m.\u001b[0m\u001b[0mwrite\u001b[0m\u001b[0;34m(\u001b[0m\u001b[0;34m'2'\u001b[0m\u001b[0;34m)\u001b[0m\u001b[0;34m\u001b[0m\u001b[0m\n\u001b[0m",
      "\u001b[0;31mValueError\u001b[0m: I/O operation on closed file."
     ]
    }
   ],
   "source": [
    "# файл уже закрыт, в него больше ничего записать нельзя\n",
    "fh.write('2')"
   ]
  },
  {
   "cell_type": "code",
   "execution_count": 16,
   "metadata": {},
   "outputs": [
    {
     "data": {
      "text/plain": [
       "'Hello, world2Hello, world'"
      ]
     },
     "execution_count": 16,
     "metadata": {},
     "output_type": "execute_result"
    }
   ],
   "source": [
    "# чтение, менять ничего нельзя\n",
    "fh = open('test.txt', 'r')\n",
    "fh.read()"
   ]
  },
  {
   "cell_type": "code",
   "execution_count": 17,
   "metadata": {
    "collapsed": true
   },
   "outputs": [],
   "source": [
    "fh.close()"
   ]
  },
  {
   "cell_type": "code",
   "execution_count": 18,
   "metadata": {},
   "outputs": [
    {
     "name": "stdout",
     "output_type": "stream",
     "text": [
      "Hello, world2Hello, world\n"
     ]
    }
   ],
   "source": [
    "# конструкция для чтения файлов\n",
    "# эта функция реализует вход в файл и автоматически закрывает файл\n",
    "# то есть не надо думать о том, чтобы закрыть файл\n",
    "with open('test.txt') as fh:\n",
    "    print(fh.read())"
   ]
  },
  {
   "cell_type": "code",
   "execution_count": 19,
   "metadata": {
    "collapsed": true
   },
   "outputs": [],
   "source": [
    "# print здесь пишет операцию в консоль\n",
    "with open('test.txt', 'w') as fh:\n",
    "    print('Something', file = fh)"
   ]
  },
  {
   "cell_type": "code",
   "execution_count": 20,
   "metadata": {},
   "outputs": [
    {
     "name": "stdout",
     "output_type": "stream",
     "text": [
      "Something\n",
      "\n"
     ]
    }
   ],
   "source": [
    "with open('test.txt') as fh:\n",
    "    print(fh.read())"
   ]
  },
  {
   "cell_type": "code",
   "execution_count": 21,
   "metadata": {
    "collapsed": true
   },
   "outputs": [],
   "source": [
    "# добавить информацию в файл, a - append\n",
    "with open('test.txt', 'a', encoding = 'utf8') as fh:\n",
    "    fh.write('Ёж шёл темной ночью')"
   ]
  },
  {
   "cell_type": "code",
   "execution_count": 22,
   "metadata": {},
   "outputs": [
    {
     "name": "stdout",
     "output_type": "stream",
     "text": [
      "Something\n",
      "Ёж шёл темной ночью\n"
     ]
    }
   ],
   "source": [
    "with open('test.txt') as fh:\n",
    "    print(fh.read())"
   ]
  },
  {
   "cell_type": "code",
   "execution_count": 23,
   "metadata": {
    "collapsed": true
   },
   "outputs": [],
   "source": [
    "# если записываем что=то в файл через print, то записываетсчя впритык\n",
    "# должны добавлять переход на новую строку\n",
    "with open('test.txt', 'a', encoding = 'utf8') as fh:\n",
    "    fh.write('Ёж шёл темной ночью снова\\n')"
   ]
  },
  {
   "cell_type": "code",
   "execution_count": 24,
   "metadata": {},
   "outputs": [
    {
     "name": "stdout",
     "output_type": "stream",
     "text": [
      "Something\n",
      "Ёж шёл темной ночьюЁж шёл темной ночью снова\n"
     ]
    }
   ],
   "source": [
    "with open('test.txt') as fh:\n",
    "    print(fh.read())"
   ]
  },
  {
   "cell_type": "code",
   "execution_count": 27,
   "metadata": {
    "collapsed": true
   },
   "outputs": [],
   "source": [
    "with open('test.txt', 'a', encoding = 'utf8') as fh:\n",
    "    fh.write('Ёж шёл темной ночью снова\\n')"
   ]
  },
  {
   "cell_type": "code",
   "execution_count": 28,
   "metadata": {},
   "outputs": [
    {
     "name": "stdout",
     "output_type": "stream",
     "text": [
      "Something\n",
      "Ёж шёл темной ночьюЁж шёл темной ночью сноваЁж шёл темной ночью снова\n",
      "Ёж шёл темной ночью снова\n",
      "\n"
     ]
    }
   ],
   "source": [
    "with open('test.txt') as fh:\n",
    "    print(fh.read())"
   ]
  },
  {
   "cell_type": "code",
   "execution_count": 29,
   "metadata": {},
   "outputs": [
    {
     "data": {
      "text/plain": [
       "'Something\\n'"
      ]
     },
     "execution_count": 29,
     "metadata": {},
     "output_type": "execute_result"
    }
   ],
   "source": [
    "# прочиать файл построчно (Ya contest)\n",
    "fh = open('test.txt', 'r', encoding = 'utf8')\n",
    "fh.readline() # похоже на генератор, работает как next, но readline не выдаст StopIteration"
   ]
  },
  {
   "cell_type": "code",
   "execution_count": 30,
   "metadata": {},
   "outputs": [
    {
     "data": {
      "text/plain": [
       "'Ёж шёл темной ночьюЁж шёл темной ночью сноваЁж шёл темной ночью снова\\n'"
      ]
     },
     "execution_count": 30,
     "metadata": {},
     "output_type": "execute_result"
    }
   ],
   "source": [
    "next(fh)"
   ]
  },
  {
   "cell_type": "code",
   "execution_count": 31,
   "metadata": {},
   "outputs": [
    {
     "data": {
      "text/plain": [
       "'Ёж шёл темной ночью снова\\n'"
      ]
     },
     "execution_count": 31,
     "metadata": {},
     "output_type": "execute_result"
    }
   ],
   "source": [
    "next(fh)"
   ]
  },
  {
   "cell_type": "code",
   "execution_count": 32,
   "metadata": {},
   "outputs": [
    {
     "ename": "StopIteration",
     "evalue": "",
     "output_type": "error",
     "traceback": [
      "\u001b[0;31m---------------------------------------------------------------------------\u001b[0m",
      "\u001b[0;31mStopIteration\u001b[0m                             Traceback (most recent call last)",
      "\u001b[0;32m<ipython-input-32-40258e2a3872>\u001b[0m in \u001b[0;36m<module>\u001b[0;34m()\u001b[0m\n\u001b[0;32m----> 1\u001b[0;31m \u001b[0mnext\u001b[0m\u001b[0;34m(\u001b[0m\u001b[0mfh\u001b[0m\u001b[0;34m)\u001b[0m\u001b[0;34m\u001b[0m\u001b[0m\n\u001b[0m",
      "\u001b[0;31mStopIteration\u001b[0m: "
     ]
    }
   ],
   "source": [
    "next(fh)"
   ]
  },
  {
   "cell_type": "code",
   "execution_count": 34,
   "metadata": {},
   "outputs": [
    {
     "name": "stdout",
     "output_type": "stream",
     "text": [
      "Something\n",
      "Ёж шёл темной ночьюЁж шёл темной ночью сноваЁж шёл темной ночью снова\n",
      "Ёж шёл темной ночью снова\n"
     ]
    }
   ],
   "source": [
    "fh = open('test.txt', 'r', encoding = 'utf8')\n",
    "for line in fh:\n",
    "    print(line, end = '')\n",
    "\n",
    "    # второй раз цикл не запустится, так как fh - это генератор, он запомнил, \n",
    "     # что все строки в файле мы уже просмотрели и ему показывать нечего\n",
    "for line in fh:\n",
    "    print(line, end = '')"
   ]
  },
  {
   "cell_type": "code",
   "execution_count": 35,
   "metadata": {},
   "outputs": [
    {
     "name": "stdout",
     "output_type": "stream",
     "text": [
      "Something\n",
      "Ёж шёл темной ночьюЁж шёл темной ночью сноваЁж шёл темной ночью снова\n",
      "Ёж шёл темной ночью снова\n",
      "Something\n",
      "Ёж шёл темной ночьюЁж шёл темной ночью сноваЁж шёл темной ночью снова\n",
      "Ёж шёл темной ночью снова\n"
     ]
    }
   ],
   "source": [
    "fh = open('test.txt', 'r', encoding = 'utf8')\n",
    "for line in fh:\n",
    "    print(line, end = '')\n",
    "\n",
    "fh.seek(0)\n",
    "\n",
    "for line in fh:\n",
    "    print(line, end = '')"
   ]
  },
  {
   "cell_type": "code",
   "execution_count": 43,
   "metadata": {},
   "outputs": [
    {
     "name": "stdout",
     "output_type": "stream",
     "text": [
      "Something\n",
      "Ёж шёл темной ночьюЁж шёл темной ночью сноваЁж шёл темной ночью снова\n",
      "Ёж шёл темной ночью снова\n",
      "18\n"
     ]
    }
   ],
   "source": [
    "# подсчет слов в файле\n",
    "# strip - удаляет невидимые символы\n",
    "count = 0\n",
    "lst = []\n",
    "fh = open('test.txt', 'r', encoding = 'utf8')\n",
    "for line in fh:\n",
    "    print(line, end = '')\n",
    "    count += len(line.strip().split())\n",
    "    lst.append(line.strip().split())\n",
    "\n",
    "print(count)\n",
    "fh.close()"
   ]
  },
  {
   "cell_type": "code",
   "execution_count": 44,
   "metadata": {},
   "outputs": [
    {
     "data": {
      "text/plain": [
       "['Something\\n',\n",
       " 'Ёж шёл темной ночьюЁж шёл темной ночью сноваЁж шёл темной ночью снова\\n',\n",
       " 'Ёж шёл темной ночью снова\\n']"
      ]
     },
     "execution_count": 44,
     "metadata": {},
     "output_type": "execute_result"
    }
   ],
   "source": [
    "# перевели текст в список\n",
    "with open('test.txt', encoding = 'utf8') as fh:\n",
    "    text = list(fh)\n",
    "    \n",
    "text"
   ]
  },
  {
   "cell_type": "code",
   "execution_count": 46,
   "metadata": {},
   "outputs": [
    {
     "data": {
      "text/plain": [
       "'Something\\n'"
      ]
     },
     "execution_count": 46,
     "metadata": {},
     "output_type": "execute_result"
    }
   ],
   "source": [
    "text[0]"
   ]
  },
  {
   "cell_type": "code",
   "execution_count": 51,
   "metadata": {},
   "outputs": [
    {
     "name": "stdout",
     "output_type": "stream",
     "text": [
      "B 00 было отправлено 24 писем\n",
      "B 01 было отправлено 10 писем\n",
      "B 02 было отправлено 13 писем\n",
      "B 03 было отправлено 17 писем\n",
      "B 04 было отправлено 25 писем\n",
      "B 05 было отправлено 11 писем\n",
      "B 06 было отправлено 45 писем\n",
      "B 07 было отправлено 41 писем\n",
      "B 08 было отправлено 78 писем\n",
      "B 09 было отправлено 164 писем\n",
      "B 10 было отправлено 183 писем\n",
      "B 11 было отправлено 149 писем\n",
      "B 12 было отправлено 109 писем\n",
      "B 13 было отправлено 119 писем\n",
      "B 14 было отправлено 152 писем\n",
      "B 15 было отправлено 178 писем\n",
      "B 16 было отправлено 165 писем\n",
      "B 17 было отправлено 96 писем\n",
      "B 18 было отправлено 52 писем\n",
      "B 19 было отправлено 48 писем\n",
      "B 20 было отправлено 29 писем\n",
      "B 21 было отправлено 37 писем\n",
      "B 22 было отправлено 29 писем\n",
      "B 23 было отправлено 16 писем\n"
     ]
    }
   ],
   "source": [
    "hours = {}\n",
    "with open('mbox.txt') as fh:\n",
    "    for line in fh:\n",
    "        if line.startswith('Date: ') and line.endswith(')\\n'):\n",
    "            mail_time = line.split()[2].split(':')[0]\n",
    "            hours[mail_time] = hours.get(mail_time, 0) + 1\n",
    "\n",
    "for hour in sorted(hours):\n",
    "    print(f'B {hour} было отправлено {hours[hour]} писем')"
   ]
  },
  {
   "cell_type": "code",
   "execution_count": 52,
   "metadata": {
    "collapsed": true
   },
   "outputs": [],
   "source": [
    "import matplotlib.pyplot as plt"
   ]
  },
  {
   "cell_type": "code",
   "execution_count": 53,
   "metadata": {
    "collapsed": true
   },
   "outputs": [],
   "source": [
    "%matplotlib inline"
   ]
  },
  {
   "cell_type": "code",
   "execution_count": 56,
   "metadata": {},
   "outputs": [
    {
     "name": "stdout",
     "output_type": "stream",
     "text": [
      "[24, 10, 13, 17, 25, 11, 45, 41, 78, 164, 183, 149, 109, 119, 152, 178, 165, 96, 52, 48, 29, 37, 29, 16]\n",
      "['00', '01', '02', '03', '04', '05', '06', '07', '08', '09', '10', '11', '12', '13', '14', '15', '16', '17', '18', '19', '20', '21', '22', '23']\n"
     ]
    }
   ],
   "source": [
    "sorted_values = []\n",
    "for key in sorted(hours.keys()):\n",
    "    sorted_values.append(hours[key])\n",
    "    \n",
    "print(sorted_values)\n",
    "print(sorted(hours.keys()))"
   ]
  },
  {
   "cell_type": "code",
   "execution_count": 59,
   "metadata": {},
   "outputs": [
    {
     "ename": "TypeError",
     "evalue": "unsupported operand type(s) for -: 'str' and 'float'",
     "output_type": "error",
     "traceback": [
      "\u001b[0;31m---------------------------------------------------------------------------\u001b[0m",
      "\u001b[0;31mTypeError\u001b[0m                                 Traceback (most recent call last)",
      "\u001b[0;32m<ipython-input-59-216fd3f222d3>\u001b[0m in \u001b[0;36m<module>\u001b[0;34m()\u001b[0m\n\u001b[0;32m----> 1\u001b[0;31m \u001b[0mplt\u001b[0m\u001b[0;34m.\u001b[0m\u001b[0mbar\u001b[0m\u001b[0;34m(\u001b[0m\u001b[0msorted\u001b[0m\u001b[0;34m(\u001b[0m\u001b[0mhours\u001b[0m\u001b[0;34m.\u001b[0m\u001b[0mkeys\u001b[0m\u001b[0;34m(\u001b[0m\u001b[0;34m)\u001b[0m\u001b[0;34m)\u001b[0m\u001b[0;34m,\u001b[0m \u001b[0msorted_values\u001b[0m\u001b[0;34m)\u001b[0m\u001b[0;34m\u001b[0m\u001b[0m\n\u001b[0m",
      "\u001b[0;32m/Users/pro/anaconda/lib/python3.6/site-packages/matplotlib/pyplot.py\u001b[0m in \u001b[0;36mbar\u001b[0;34m(left, height, width, bottom, hold, data, **kwargs)\u001b[0m\n\u001b[1;32m   2702\u001b[0m     \u001b[0;32mtry\u001b[0m\u001b[0;34m:\u001b[0m\u001b[0;34m\u001b[0m\u001b[0m\n\u001b[1;32m   2703\u001b[0m         ret = ax.bar(left, height, width=width, bottom=bottom, data=data,\n\u001b[0;32m-> 2704\u001b[0;31m                      **kwargs)\n\u001b[0m\u001b[1;32m   2705\u001b[0m     \u001b[0;32mfinally\u001b[0m\u001b[0;34m:\u001b[0m\u001b[0;34m\u001b[0m\u001b[0m\n\u001b[1;32m   2706\u001b[0m         \u001b[0max\u001b[0m\u001b[0;34m.\u001b[0m\u001b[0m_hold\u001b[0m \u001b[0;34m=\u001b[0m \u001b[0mwashold\u001b[0m\u001b[0;34m\u001b[0m\u001b[0m\n",
      "\u001b[0;32m/Users/pro/anaconda/lib/python3.6/site-packages/matplotlib/__init__.py\u001b[0m in \u001b[0;36minner\u001b[0;34m(ax, *args, **kwargs)\u001b[0m\n\u001b[1;32m   1896\u001b[0m                     warnings.warn(msg % (label_namer, func.__name__),\n\u001b[1;32m   1897\u001b[0m                                   RuntimeWarning, stacklevel=2)\n\u001b[0;32m-> 1898\u001b[0;31m             \u001b[0;32mreturn\u001b[0m \u001b[0mfunc\u001b[0m\u001b[0;34m(\u001b[0m\u001b[0max\u001b[0m\u001b[0;34m,\u001b[0m \u001b[0;34m*\u001b[0m\u001b[0margs\u001b[0m\u001b[0;34m,\u001b[0m \u001b[0;34m**\u001b[0m\u001b[0mkwargs\u001b[0m\u001b[0;34m)\u001b[0m\u001b[0;34m\u001b[0m\u001b[0m\n\u001b[0m\u001b[1;32m   1899\u001b[0m         \u001b[0mpre_doc\u001b[0m \u001b[0;34m=\u001b[0m \u001b[0minner\u001b[0m\u001b[0;34m.\u001b[0m\u001b[0m__doc__\u001b[0m\u001b[0;34m\u001b[0m\u001b[0m\n\u001b[1;32m   1900\u001b[0m         \u001b[0;32mif\u001b[0m \u001b[0mpre_doc\u001b[0m \u001b[0;32mis\u001b[0m \u001b[0;32mNone\u001b[0m\u001b[0;34m:\u001b[0m\u001b[0;34m\u001b[0m\u001b[0m\n",
      "\u001b[0;32m/Users/pro/anaconda/lib/python3.6/site-packages/matplotlib/axes/_axes.py\u001b[0m in \u001b[0;36mbar\u001b[0;34m(self, left, height, width, bottom, **kwargs)\u001b[0m\n\u001b[1;32m   2103\u001b[0m         \u001b[0;32mif\u001b[0m \u001b[0malign\u001b[0m \u001b[0;34m==\u001b[0m \u001b[0;34m'center'\u001b[0m\u001b[0;34m:\u001b[0m\u001b[0;34m\u001b[0m\u001b[0m\n\u001b[1;32m   2104\u001b[0m             \u001b[0;32mif\u001b[0m \u001b[0morientation\u001b[0m \u001b[0;34m==\u001b[0m \u001b[0;34m'vertical'\u001b[0m\u001b[0;34m:\u001b[0m\u001b[0;34m\u001b[0m\u001b[0m\n\u001b[0;32m-> 2105\u001b[0;31m                 \u001b[0mleft\u001b[0m \u001b[0;34m=\u001b[0m \u001b[0;34m[\u001b[0m\u001b[0mleft\u001b[0m\u001b[0;34m[\u001b[0m\u001b[0mi\u001b[0m\u001b[0;34m]\u001b[0m \u001b[0;34m-\u001b[0m \u001b[0mwidth\u001b[0m\u001b[0;34m[\u001b[0m\u001b[0mi\u001b[0m\u001b[0;34m]\u001b[0m \u001b[0;34m/\u001b[0m \u001b[0;36m2.\u001b[0m \u001b[0;32mfor\u001b[0m \u001b[0mi\u001b[0m \u001b[0;32min\u001b[0m \u001b[0mxrange\u001b[0m\u001b[0;34m(\u001b[0m\u001b[0mlen\u001b[0m\u001b[0;34m(\u001b[0m\u001b[0mleft\u001b[0m\u001b[0;34m)\u001b[0m\u001b[0;34m)\u001b[0m\u001b[0;34m]\u001b[0m\u001b[0;34m\u001b[0m\u001b[0m\n\u001b[0m\u001b[1;32m   2106\u001b[0m             \u001b[0;32melif\u001b[0m \u001b[0morientation\u001b[0m \u001b[0;34m==\u001b[0m \u001b[0;34m'horizontal'\u001b[0m\u001b[0;34m:\u001b[0m\u001b[0;34m\u001b[0m\u001b[0m\n\u001b[1;32m   2107\u001b[0m                 bottom = [bottom[i] - height[i] / 2.\n",
      "\u001b[0;32m/Users/pro/anaconda/lib/python3.6/site-packages/matplotlib/axes/_axes.py\u001b[0m in \u001b[0;36m<listcomp>\u001b[0;34m(.0)\u001b[0m\n\u001b[1;32m   2103\u001b[0m         \u001b[0;32mif\u001b[0m \u001b[0malign\u001b[0m \u001b[0;34m==\u001b[0m \u001b[0;34m'center'\u001b[0m\u001b[0;34m:\u001b[0m\u001b[0;34m\u001b[0m\u001b[0m\n\u001b[1;32m   2104\u001b[0m             \u001b[0;32mif\u001b[0m \u001b[0morientation\u001b[0m \u001b[0;34m==\u001b[0m \u001b[0;34m'vertical'\u001b[0m\u001b[0;34m:\u001b[0m\u001b[0;34m\u001b[0m\u001b[0m\n\u001b[0;32m-> 2105\u001b[0;31m                 \u001b[0mleft\u001b[0m \u001b[0;34m=\u001b[0m \u001b[0;34m[\u001b[0m\u001b[0mleft\u001b[0m\u001b[0;34m[\u001b[0m\u001b[0mi\u001b[0m\u001b[0;34m]\u001b[0m \u001b[0;34m-\u001b[0m \u001b[0mwidth\u001b[0m\u001b[0;34m[\u001b[0m\u001b[0mi\u001b[0m\u001b[0;34m]\u001b[0m \u001b[0;34m/\u001b[0m \u001b[0;36m2.\u001b[0m \u001b[0;32mfor\u001b[0m \u001b[0mi\u001b[0m \u001b[0;32min\u001b[0m \u001b[0mxrange\u001b[0m\u001b[0;34m(\u001b[0m\u001b[0mlen\u001b[0m\u001b[0;34m(\u001b[0m\u001b[0mleft\u001b[0m\u001b[0;34m)\u001b[0m\u001b[0;34m)\u001b[0m\u001b[0;34m]\u001b[0m\u001b[0;34m\u001b[0m\u001b[0m\n\u001b[0m\u001b[1;32m   2106\u001b[0m             \u001b[0;32melif\u001b[0m \u001b[0morientation\u001b[0m \u001b[0;34m==\u001b[0m \u001b[0;34m'horizontal'\u001b[0m\u001b[0;34m:\u001b[0m\u001b[0;34m\u001b[0m\u001b[0m\n\u001b[1;32m   2107\u001b[0m                 bottom = [bottom[i] - height[i] / 2.\n",
      "\u001b[0;31mTypeError\u001b[0m: unsupported operand type(s) for -: 'str' and 'float'"
     ]
    },
    {
     "data": {
      "image/png": "[encoded data removed]",
      "text/plain": [
       "<matplotlib.figure.Figure at 0x10e217048>"
      ]
     },
     "metadata": {},
     "output_type": "display_data"
    }
   ],
   "source": [
    "plt.bar(sorted(hours.keys()), sorted_values)"
   ]
  },
  {
   "cell_type": "markdown",
   "metadata": {},
   "source": [
    "### исключения, обработка ошибок"
   ]
  },
  {
   "cell_type": "code",
   "execution_count": 62,
   "metadata": {},
   "outputs": [
    {
     "name": "stdout",
     "output_type": "stream",
     "text": [
      "Введите название файла: f\n"
     ]
    },
    {
     "ename": "FileNotFoundError",
     "evalue": "[Errno 2] No such file or directory: 'f'",
     "output_type": "error",
     "traceback": [
      "\u001b[0;31m---------------------------------------------------------------------------\u001b[0m",
      "\u001b[0;31mFileNotFoundError\u001b[0m                         Traceback (most recent call last)",
      "\u001b[0;32m<ipython-input-62-e22cff78d158>\u001b[0m in \u001b[0;36m<module>\u001b[0;34m()\u001b[0m\n\u001b[1;32m      1\u001b[0m \u001b[0mfname\u001b[0m \u001b[0;34m=\u001b[0m \u001b[0minput\u001b[0m\u001b[0;34m(\u001b[0m\u001b[0;34m\"Введите название файла: \"\u001b[0m\u001b[0;34m)\u001b[0m\u001b[0;34m\u001b[0m\u001b[0m\n\u001b[0;32m----> 2\u001b[0;31m \u001b[0mfhand\u001b[0m \u001b[0;34m=\u001b[0m \u001b[0mopen\u001b[0m\u001b[0;34m(\u001b[0m\u001b[0mfname\u001b[0m\u001b[0;34m)\u001b[0m\u001b[0;34m\u001b[0m\u001b[0m\n\u001b[0m\u001b[1;32m      3\u001b[0m \u001b[0mprint\u001b[0m\u001b[0;34m(\u001b[0m\u001b[0mfhand\u001b[0m\u001b[0;34m.\u001b[0m\u001b[0mreadline\u001b[0m\u001b[0;34m(\u001b[0m\u001b[0;34m)\u001b[0m\u001b[0;34m)\u001b[0m\u001b[0;34m\u001b[0m\u001b[0m\n\u001b[1;32m      4\u001b[0m \u001b[0mfhand\u001b[0m\u001b[0;34m.\u001b[0m\u001b[0mclose\u001b[0m\u001b[0;34m(\u001b[0m\u001b[0;34m)\u001b[0m\u001b[0;34m\u001b[0m\u001b[0m\n",
      "\u001b[0;31mFileNotFoundError\u001b[0m: [Errno 2] No such file or directory: 'f'"
     ]
    }
   ],
   "source": [
    "fname = input(\"Введите название файла: \")\n",
    "fhand = open(fname)\n",
    "print(fhand.readline())\n",
    "fhand.close()"
   ]
  },
  {
   "cell_type": "code",
   "execution_count": 66,
   "metadata": {},
   "outputs": [
    {
     "name": "stdout",
     "output_type": "stream",
     "text": [
      "Введите название файла: mbox.txt\n",
      "There are 132045 line in the file\n",
      "check\n"
     ]
    }
   ],
   "source": [
    "fname = input(\"Введите название файла: \")\n",
    "\n",
    "# программа запустит то, что в блоке try\n",
    "# если будет ошибка, то выолнится код в блоке except\n",
    "try:\n",
    "    fhand = open(fname, encoding = 'utf8')\n",
    "    count = 0\n",
    "    for line in fhand:\n",
    "        count += 1\n",
    "    print(f'There are {count} line in the file')\n",
    "    fhand.close()\n",
    "except:\n",
    "    print(f'File is not found {fname}')\n",
    "    \n",
    "print('check')"
   ]
  },
  {
   "cell_type": "code",
   "execution_count": 67,
   "metadata": {},
   "outputs": [
    {
     "name": "stdout",
     "output_type": "stream",
     "text": [
      "Введите название файла: t\n",
      "File is not found t\n",
      "check\n"
     ]
    }
   ],
   "source": [
    "fname = input(\"Введите название файла: \")\n",
    "\n",
    "# программа запустит то, что в блоке try\n",
    "# если будет ошибка, то выолнится код в блоке except\n",
    "try:\n",
    "    fhand = open(fname, encoding = 'utf8')\n",
    "    count = 0\n",
    "    for line in fhand:\n",
    "        count += 1\n",
    "    print(f'There are {count} line in the file')\n",
    "    fhand.close()\n",
    "except:\n",
    "    print(f'File is not found {fname}')\n",
    "    \n",
    "print('check')"
   ]
  },
  {
   "cell_type": "code",
   "execution_count": 68,
   "metadata": {},
   "outputs": [
    {
     "name": "stdout",
     "output_type": "stream",
     "text": [
      "Введите название файла: t\n",
      "check\n"
     ]
    }
   ],
   "source": [
    "fname = input(\"Введите название файла: \")\n",
    "\n",
    "# программа запустит то, что в блоке try\n",
    "# если будет ошибка, то выолнится код в блоке except\n",
    "try:\n",
    "    fhand = open(fname, encoding = 'utf8')\n",
    "    count = 0\n",
    "    for line in fhand:\n",
    "        count += 1\n",
    "    print(f'There are {count} line in the file')\n",
    "    fhand.close()\n",
    "except:\n",
    "    pass\n",
    "    \n",
    "print('check')"
   ]
  },
  {
   "cell_type": "code",
   "execution_count": 70,
   "metadata": {},
   "outputs": [
    {
     "ename": "NameError",
     "evalue": "name 'y' is not defined",
     "output_type": "error",
     "traceback": [
      "\u001b[0;31m---------------------------------------------------------------------------\u001b[0m",
      "\u001b[0;31mNameError\u001b[0m                                 Traceback (most recent call last)",
      "\u001b[0;32m<ipython-input-70-36b2093251cd>\u001b[0m in \u001b[0;36m<module>\u001b[0;34m()\u001b[0m\n\u001b[0;32m----> 1\u001b[0;31m \u001b[0mprint\u001b[0m\u001b[0;34m(\u001b[0m\u001b[0my\u001b[0m\u001b[0;34m)\u001b[0m\u001b[0;34m\u001b[0m\u001b[0m\n\u001b[0m",
      "\u001b[0;31mNameError\u001b[0m: name 'y' is not defined"
     ]
    }
   ],
   "source": [
    "print(y)"
   ]
  },
  {
   "cell_type": "code",
   "execution_count": 69,
   "metadata": {},
   "outputs": [
    {
     "name": "stdout",
     "output_type": "stream",
     "text": [
      "An exception occured\n"
     ]
    }
   ],
   "source": [
    "try:\n",
    "    print(y)\n",
    "except:\n",
    "    print('An exception occured')"
   ]
  },
  {
   "cell_type": "code",
   "execution_count": 75,
   "metadata": {},
   "outputs": [
    {
     "name": "stdout",
     "output_type": "stream",
     "text": [
      "Something else went wrong\n"
     ]
    }
   ],
   "source": [
    "try:\n",
    "    10/0\n",
    "except NameError:\n",
    "    print('Variable is not defined')\n",
    "except:\n",
    "    print('Something else went wrong')"
   ]
  },
  {
   "cell_type": "code",
   "execution_count": 78,
   "metadata": {},
   "outputs": [
    {
     "name": "stdout",
     "output_type": "stream",
     "text": [
      "Everything went well\n"
     ]
    }
   ],
   "source": [
    "try:\n",
    "    y = 10\n",
    "except (NameError, ZeroDivisionError):\n",
    "    print('Variable is not defined or someone tried to divide by zerp')\n",
    "except:\n",
    "    print('Something else went wrong')\n",
    "    raise\n",
    "else:\n",
    "    print('Everything went well')"
   ]
  },
  {
   "cell_type": "code",
   "execution_count": 82,
   "metadata": {},
   "outputs": [
    {
     "ename": "Exception",
     "evalue": "sorry, no numbers below zero",
     "output_type": "error",
     "traceback": [
      "\u001b[0;31m---------------------------------------------------------------------------\u001b[0m",
      "\u001b[0;31mException\u001b[0m                                 Traceback (most recent call last)",
      "\u001b[0;32m<ipython-input-82-62f612c2c16f>\u001b[0m in \u001b[0;36m<module>\u001b[0;34m()\u001b[0m\n\u001b[1;32m      1\u001b[0m \u001b[0mx\u001b[0m \u001b[0;34m=\u001b[0m \u001b[0;34m-\u001b[0m\u001b[0;36m1\u001b[0m\u001b[0;34m\u001b[0m\u001b[0m\n\u001b[1;32m      2\u001b[0m \u001b[0;32mif\u001b[0m \u001b[0mx\u001b[0m\u001b[0;34m<\u001b[0m\u001b[0;36m0\u001b[0m\u001b[0;34m:\u001b[0m\u001b[0;34m\u001b[0m\u001b[0m\n\u001b[0;32m----> 3\u001b[0;31m     \u001b[0;32mraise\u001b[0m \u001b[0mException\u001b[0m\u001b[0;34m(\u001b[0m\u001b[0;34m'sorry, no numbers below zero'\u001b[0m\u001b[0;34m)\u001b[0m\u001b[0;34m\u001b[0m\u001b[0m\n\u001b[0m",
      "\u001b[0;31mException\u001b[0m: sorry, no numbers below zero"
     ]
    }
   ],
   "source": [
    "x = -1\n",
    "if x<0:\n",
    "    raise Exception('sorry, no numbers below zero')"
   ]
  },
  {
   "cell_type": "code",
   "execution_count": 83,
   "metadata": {},
   "outputs": [
    {
     "ename": "TypeError",
     "evalue": "float() takes at most 1 argument (2 given)",
     "output_type": "error",
     "traceback": [
      "\u001b[0;31m---------------------------------------------------------------------------\u001b[0m",
      "\u001b[0;31mTypeError\u001b[0m                                 Traceback (most recent call last)",
      "\u001b[0;32m<ipython-input-83-37c2d87280d1>\u001b[0m in \u001b[0;36m<module>\u001b[0;34m()\u001b[0m\n\u001b[0;32m----> 1\u001b[0;31m \u001b[0mfloat\u001b[0m\u001b[0;34m(\u001b[0m\u001b[0;36m2\u001b[0m\u001b[0;34m,\u001b[0m \u001b[0;36m84\u001b[0m\u001b[0;34m)\u001b[0m\u001b[0;34m\u001b[0m\u001b[0m\n\u001b[0m",
      "\u001b[0;31mTypeError\u001b[0m: float() takes at most 1 argument (2 given)"
     ]
    }
   ],
   "source": [
    "float(2, 84)"
   ]
  },
  {
   "cell_type": "code",
   "execution_count": 84,
   "metadata": {},
   "outputs": [
    {
     "ename": "TypeError",
     "evalue": "Only integers",
     "output_type": "error",
     "traceback": [
      "\u001b[0;31m---------------------------------------------------------------------------\u001b[0m",
      "\u001b[0;31mTypeError\u001b[0m                                 Traceback (most recent call last)",
      "\u001b[0;32m<ipython-input-84-665e6ad0175d>\u001b[0m in \u001b[0;36m<module>\u001b[0;34m()\u001b[0m\n\u001b[1;32m      2\u001b[0m \u001b[0;34m\u001b[0m\u001b[0m\n\u001b[1;32m      3\u001b[0m \u001b[0;32mif\u001b[0m \u001b[0;32mnot\u001b[0m \u001b[0mtype\u001b[0m\u001b[0;34m(\u001b[0m\u001b[0mx\u001b[0m\u001b[0;34m)\u001b[0m \u001b[0;32mis\u001b[0m \u001b[0mint\u001b[0m\u001b[0;34m:\u001b[0m\u001b[0;34m\u001b[0m\u001b[0m\n\u001b[0;32m----> 4\u001b[0;31m     \u001b[0;32mraise\u001b[0m \u001b[0mTypeError\u001b[0m\u001b[0;34m(\u001b[0m\u001b[0;34m'Only integers'\u001b[0m\u001b[0;34m)\u001b[0m\u001b[0;34m\u001b[0m\u001b[0m\n\u001b[0m",
      "\u001b[0;31mTypeError\u001b[0m: Only integers"
     ]
    }
   ],
   "source": [
    "x = 'hello'\n",
    "\n",
    "if not type(x) is int:\n",
    "    raise TypeError('Only integers')"
   ]
  },
  {
   "cell_type": "code",
   "execution_count": 91,
   "metadata": {},
   "outputs": [
    {
     "name": "stdout",
     "output_type": "stream",
     "text": [
      "hg\n",
      "Введите число\n",
      "5\n",
      "5\n"
     ]
    }
   ],
   "source": [
    "while True:\n",
    "    try:\n",
    "        inp = int(input())\n",
    "        print(inp)\n",
    "        break\n",
    "    except ValueError:\n",
    "        print('Введите число')"
   ]
  },
  {
   "cell_type": "code",
   "execution_count": null,
   "metadata": {
    "collapsed": true
   },
   "outputs": [],
   "source": []
  }
 ],
 "metadata": {
  "kernelspec": {
   "display_name": "Python 3",
   "language": "python",
   "name": "python3"
  },
  "language_info": {
   "codemirror_mode": {
    "name": "ipython",
    "version": 3
   },
   "file_extension": ".py",
   "mimetype": "text/x-python",
   "name": "python",
   "nbconvert_exporter": "python",
   "pygments_lexer": "ipython3",
   "version": "3.6.1"
  }
 },
 "nbformat": 4,
 "nbformat_minor": 2
}
